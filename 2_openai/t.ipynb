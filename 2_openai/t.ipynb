{
 "cells": [
  {
   "cell_type": "code",
   "execution_count": null,
   "id": "9c64c6a9",
   "metadata": {},
   "outputs": [],
   "source": [
    "%pip install google-generativeai\n"
   ]
  },
  {
   "cell_type": "code",
   "execution_count": 1,
   "id": "beed1edf",
   "metadata": {},
   "outputs": [
    {
     "name": "stdout",
     "output_type": "stream",
     "text": [
      "Okay, based on your desired locations, here's a hotel suggestion and the reasoning behind it:\n",
      "\n",
      "**Recommended Hotel:**\n",
      "\n",
      "*   **Hotel Grand Bhagwati (HGB), Surat** or Hotels around Piplod- Dumas Road\n",
      "\n",
      "**Reasoning:**\n",
      "\n",
      "1.  **Centrally Located for Your Destinations:**\n",
      "    *   Piplod- Dumas Road is a relatively central location in Surat, providing good access to most of the places you want to visit.\n",
      "    *   HGB is a well-known and reputable hotel in Surat with good amenities.\n",
      "\n",
      "2.  **Distance to Key Locations:**\n",
      "    *   **Suwali Beach:** Suvali Beach is approximately 20-25 KM, it would be a 30-45 minute drive. It's best to take a taxi or a car to reach the beach.\n",
      "    *   **Sneh Rashmi Botanical Garden:** This is relatively close to the hotel and is easy to reach.\n",
      "    *   **Annapurna Mandir:** Annapurna Mandir is within the city limits and should be easily accessible.\n",
      "    *   **Adajan:** Adajan is a popular area in Surat and would be within a reasonable distance from the hotel.\n",
      "    *   **Science Centre, City Light:** This is also within the city limits and easily accessible, approximately 10-15 KM.\n",
      "\n",
      "**Why not other areas?**\n",
      "\n",
      "*   **Athwalines:** While Athwalines is a posh area, it might be slightly less convenient for Suvali Beach and other locations.\n",
      "\n",
      "**Important Considerations Before Booking:**\n",
      "\n",
      "*   **Budget:** Check the prices of hotels on booking websites to ensure they fit your budget.\n",
      "*   **Reviews:** Read recent reviews on TripAdvisor, Booking.com, or Google to get an idea of the hotel's current condition and service quality.\n",
      "*   **Transportation:** Consider how you will get around Surat.  Taxis and auto-rickshaws are readily available, and ride-sharing apps like Ola and Uber operate in the city.  If you plan on frequently visiting Suvali Beach, you might consider renting a car.\n",
      "*   **Specific Hotel Amenities:** Ensure the hotel has the amenities you require, such as free Wi-Fi, breakfast included, a swimming pool, or parking.\n",
      "\n",
      "**How to Search and Book:**\n",
      "\n",
      "1.  **Use Online Travel Agencies (OTAs):** Websites like Booking.com, Agoda, Expedia, MakeMyTrip, and Goibibo allow you to compare prices and filter hotels based on your needs.\n",
      "2.  **Check Hotel Websites Directly:** Sometimes, you can find better deals or packages by booking directly through the hotel's website.\n",
      "\n",
      "**Example Search Query:**\n",
      "\n",
      "On a booking website, you can search for \"Hotels in Piplod-Dumas Road, Surat\" and then filter by price, guest rating, and amenities.\n",
      "\n",
      "By considering these factors, you should be able to find a hotel in Surat that is centrally located for your desired destinations and meets your needs.\n",
      "\n"
     ]
    }
   ],
   "source": [
    "import google.generativeai as genai\n",
    "import os\n",
    "from dotenv import load_dotenv\n",
    "# load_dotenv(override = True)\n",
    "load_dotenv(override = True)\n",
    "api = os.getenv(\"GOOGLE_API_KEY\")\n",
    "# Configure the Gemini API\n",
    "genai.configure(api_key=api)  # Replace with your actual Gemini API key\n",
    "\n",
    "# Initialize the model\n",
    "model = genai.GenerativeModel(\"gemini-2.0-flash\")  # Replace with desired Gemini model\n",
    "\n",
    "# Make a call to the model\n",
    "response = model.generate_content(\"suggest me a hotel from where i can travel to suwali beach, sneh rashmi botonical garden, annapurna mandir, adajan, and science center, city light\")\n",
    "\n",
    "# Print the response\n",
    "print(response.text)"
   ]
  }
 ],
 "metadata": {
  "kernelspec": {
   "display_name": "agents",
   "language": "python",
   "name": "python3"
  },
  "language_info": {
   "codemirror_mode": {
    "name": "ipython",
    "version": 3
   },
   "file_extension": ".py",
   "mimetype": "text/x-python",
   "name": "python",
   "nbconvert_exporter": "python",
   "pygments_lexer": "ipython3",
   "version": "3.12.11"
  }
 },
 "nbformat": 4,
 "nbformat_minor": 5
}
