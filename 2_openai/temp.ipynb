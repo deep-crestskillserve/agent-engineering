{
 "cells": [
  {
   "cell_type": "code",
   "execution_count": 1,
   "id": "d77bd422",
   "metadata": {},
   "outputs": [],
   "source": [
    "from dotenv import load_dotenv\n",
    "import os\n",
    "\n",
    "import logging\n",
    "import re\n",
    "from langchain_core.tools import tool\n",
    "from langchain_openai import ChatOpenAI # openai wrapper by langchain\n",
    "from langchain.memory import ConversationBufferMemory #stoores the history of the conversation\n",
    "from langchain_core.prompts import ChatPromptTemplate # defines a template for structuring prompts sent to the LLM\n",
    "from langchain_core.runnables import RunnableSequence # combines multiple steps into a single executable chain\n",
    "from langchain_core.prompts.chat import HumanMessagePromptTemplate, SystemMessagePromptTemplate #defines system and user part of the prompt\n",
    "from tenacity import retry, stop_after_attempt, wait_fixed\n",
    "\n",
    "from sendgrid import SendGridAPIClient\n",
    "from sendgrid.helpers.mail import Mail, Email, To, Content"
   ]
  },
  {
   "cell_type": "code",
   "execution_count": 3,
   "id": "3596ffd6",
   "metadata": {},
   "outputs": [],
   "source": [
    "logging.basicConfig(level = logging.INFO)\n",
    "logger = logging.getLogger(__name__)"
   ]
  },
  {
   "cell_type": "code",
   "execution_count": 4,
   "id": "c9a0f21e",
   "metadata": {},
   "outputs": [],
   "source": [
    "load_dotenv(override=True)\n",
    "groq_api_key = os.getenv(\"GROQ_API_KEY\")\n",
    "sendgrid_api_key = os.getenv(\"SENDGRID_API_KEY\")\n",
    "langchain_api_key = os.getenv(\"LANGCHAIN_API_KEY\")\n",
    "\n",
    "if not groq_api_key:\n",
    "    logger.error(\"GROQ_API_KEY not found in environment variables.\")\n",
    "    print(\"Error: GROQ_API_KEY not found in environment variables.\")\n",
    "    exit(1)\n",
    "if not sendgrid_api_key:\n",
    "    logger.error(\"SENDGRID_API_KEY not found in environment variables.\")\n",
    "    print(\"Error: SENDGRID_API_KEY not found in environment variables.\")\n",
    "    exit(1)\n",
    "if not langchain_api_key:\n",
    "    logger.warning(\"LANGCHAIN_API_KEY not found; LangSmith tracing may not work.\")"
   ]
  },
  {
   "cell_type": "code",
   "execution_count": 5,
   "id": "1031072b",
   "metadata": {},
   "outputs": [],
   "source": [
    "llm = ChatOpenAI(\n",
    "    model=\"llama3-70b-8192\",\n",
    "    api_key=groq_api_key,\n",
    "    base_url=\"https://api.groq.com/openai/v1\",\n",
    ")"
   ]
  },
  {
   "cell_type": "code",
   "execution_count": 6,
   "id": "37fa0d08",
   "metadata": {},
   "outputs": [],
   "source": [
    "instructions = {\n",
    "    \"agent1\": \"\"\"You are a sales agent working for ComplAI, a company that provides a SaaS tool for ensuring SOC2 compliance and preparing for audits, powered by AI. \n",
    "Write a professional, serious cold email. Start with the salutation (e.g., 'Dear CEO') as specified in the input. Include a clear call-to-action (e.g., schedule a demo). Do not include a subject line, as it will be set separately. Do not include placeholders like [Your Name]. Return only the email body.\"\"\",\n",
    "    \"agent2\": \"\"\"You are a humorous, engaging sales agent working for ComplAI, a company that provides a SaaS tool for ensuring SOC2 compliance and preparing for audits, powered by AI. \n",
    "Write a witty, engaging cold email likely to get a response. Start with the salutation (e.g., 'Dear CEO') as specified in the input. Include a clear call-to-action (e.g., schedule a demo). Do not include a subject line, as it will be set separately. Do not include placeholders like [Your Name]. Return only the email body.\"\"\",\n",
    "    \"agent3\": \"\"\"You are a busy sales agent working for ComplAI, a company that provides a SaaS tool for ensuring SOC2 compliance and preparing for audits, powered by AI. \n",
    "Write a concise, to-the-point cold email. Start with the salutation (e.g., 'Dear CEO') as specified in the input. Include a clear call-to-action (e.g., schedule a demo). Do not include a subject line, as it will be set separately. Do not include placeholders like [Your Name]. Return only the email body.\"\"\",\n",
    "    \"evaluator\": \"\"\"You are an Evaluator Agent at ComplAI. Your goal is to select the best cold sales email from the provided drafts.\n",
    "Follow these steps:\n",
    "1. Review the three email drafts provided, separated by '---'.\n",
    "2. Score each draft on:\n",
    "   - Clarity (40%): Is the message clear, professional, and well-structured?\n",
    "   - Engagement (40%): Does it capture attention with a compelling hook or tone?\n",
    "   - Call-to-Action (20%): Does it include a strong, clear incentive to respond?\n",
    "3. Select the draft with the highest weighted score.\n",
    "4. Return only the raw content of the selected email draft (starting with the salutation, e.g., 'Dear CEO', with no additional text, explanations, or scoring details) or 'No suitable email found' if all drafts are invalid (e.g., contain errors or placeholders).\"\"\",\n",
    "    \"sales_manager\": \"\"\"You are a Sales Manager at ComplAI. Your goal is to coordinate the generation and sending of a cold sales email.\n",
    "Follow these steps:\n",
    "1. Use the provided drafts generated by sales agents.\n",
    "2. Call the evaluator_tool to select the best draft.\n",
    "3. If a suitable draft is found, call the send_email tool with the selected email content and recipient email.\n",
    "4. If no suitable draft is found, return 'No suitable email found.'\n",
    "Rules:\n",
    "- Do not generate or modify drafts.\n",
    "- Call the evaluator_tool exactly once.\n",
    "- Call the send_email tool exactly once if a suitable draft is found.\n",
    "Return only the result of the send_email tool or 'No suitable email found.'\"\"\"\n",
    "}"
   ]
  },
  {
   "cell_type": "code",
   "execution_count": 8,
   "id": "b5fcc7d6",
   "metadata": {},
   "outputs": [
    {
     "name": "stderr",
     "output_type": "stream",
     "text": [
      "C:\\Users\\DeepADabhi\\AppData\\Local\\Temp\\ipykernel_17320\\1852257344.py:1: LangChainDeprecationWarning: Please see the migration guide at: https://python.langchain.com/docs/versions/migrating_memory/\n",
      "  memory_agent1 = ConversationBufferMemory(memory_key=\"professional_chat\", k = 5, return_messages=True)\n"
     ]
    }
   ],
   "source": [
    "memory_agent1 = ConversationBufferMemory(memory_key=\"professional_chat\", k = 5, return_messages=True)\n",
    "@tool\n",
    "def agent1_tool(input: str) -> str:\n",
    "    \"\"\"Professional cold email agent for complAI\"\"\"\n",
    "    logger.info(f\"running agent1_tool with {input}\")\n",
    "    prompt = ChatPromptTemplate.from_messages([\n",
    "        SystemMessagePromptTemplate.from_template(instructions[\"agent1\"]),\n",
    "        HumanMessagePromptTemplate.from_template(\"{input}\")\n",
    "    ])\n",
    "    chain = RunnableSequence(prompt | llm)\n",
    "    result = chain.invoke({\"input\": input, \"chat_history\":memory_agent1.buffer}).content\n",
    "    logger.info(f\"agent1_tool output: {result[:100]}...\")\n",
    "    return result"
   ]
  },
  {
   "cell_type": "code",
   "execution_count": 9,
   "id": "6f7a1c86",
   "metadata": {},
   "outputs": [],
   "source": [
    "memory_agent2 = ConversationBufferMemory(memory_key = \"humorous_chat_history\", k=5, return_messages=True)\n",
    "@tool\n",
    "def agent2_tool(input: str) -> str:\n",
    "    \"\"\"Humoruous cold email agent for complAI\"\"\"\n",
    "    logger.info(f\"Running agent2 with input: {input}\")\n",
    "    prompt = ChatPromptTemplate.from_messages([\n",
    "        SystemMessagePromptTemplate.from_template(instructions[\"agent2\"]),\n",
    "        HumanMessagePromptTemplate(\"{input}\")\n",
    "    ])\n",
    "    chain = RunnableSequence(prompt | llm)\n",
    "    result = chain.invoke({\"input\": input, \"chat_history\": memory_agent2.buffer}).content\n",
    "    logger.info(f\"agent2_tool output: {result[:100]}...\")\n",
    "    return result"
   ]
  },
  {
   "cell_type": "code",
   "execution_count": 10,
   "id": "b6abb3d8",
   "metadata": {},
   "outputs": [],
   "source": [
    "memeory_agent3 = ConversationBufferMemory(memory_key=\"concise_chat_history\", k = 5, return_messages=True)\n",
    "@tool\n",
    "def agent3_tool(input: str) -> str:\n",
    "    \"\"\"concise cold email agent for ComplAI\"\"\"\n",
    "    logger.info(f\"Running agent3_tool with input: {input}\")\n",
    "    prompt = ChatPromptTemplate.from_messages([\n",
    "        SystemMessagePromptTemplate.from_template(instructions[\"agent3\"]),\n",
    "        HumanMessagePromptTemplate.from_template(\"{input}\")\n",
    "    ])\n",
    "    chain = RunnableSequence(prompt|llm)\n",
    "    result = chain.invoke({\"input\": input, \"chat_history\": memeory_agent3}).content\n",
    "    logger.info(f\"agent3_tool output: {result[:100]}...\")\n",
    "    return result"
   ]
  },
  {
   "cell_type": "code",
   "execution_count": 12,
   "id": "fe5a16ce",
   "metadata": {},
   "outputs": [],
   "source": [
    "memory_evaluator = ConversationBufferMemory(memory_key = \"evaluator_chat_history\", k = 5, return_messages = True)\n",
    "@tool\n",
    "def evaluator_tool(input: str, drafts: str) -> str:\n",
    "    \"\"\"Evaluates email drafts and selects the best one based on clarity, engagement, and call-to-action.\"\"\"\n",
    "    logger.info(f\"Running evaluator_tool with input: {input} and drafts: {drafts[:100]}...\")\n",
    "    prompt = ChatPromptTemplate.from_messages([\n",
    "        SystemMessagePromptTemplate.from_template(instructions[\"evaluator\"]),\n",
    "        HumanMessagePromptTemplate.from_template(\"Input prompt: {input}\\nDrafts:\\n{drafts}\\n\\nReturn only the raw content of the selected email draft (starting with the salutation, e.g., 'Dear CEO') or 'No suitable email found'. Do not include any explanations, scoring details, or additional text.\")\n",
    "    ])\n",
    "    chain = RunnableSequence(prompt | llm)\n",
    "    result = chain.invoke({\"input\": input, \"draft\": drafts, \"chat_history\": memory_evaluator.buffer}).content\n",
    "    logger.info(f\"evaluator_tool output: {result[:100]}...\")\n",
    "    return result"
   ]
  },
  {
   "cell_type": "code",
   "execution_count": 13,
   "id": "4fceb8b4",
   "metadata": {},
   "outputs": [],
   "source": [
    "@tool\n",
    "def send_email(email_content: str, to_email: str) -> str:\n",
    "    \"\"\"Sends the selected email to the specified recipient using SendGrid.\"\"\"\n",
    "    logger.info(f\"send_email called with content: {email_content[:50]}... to {to_email}\")\n",
    "    email_content = re.sub(r'^Subject:.*\\n', '', email_content, flags=re.MULTILINE).strip()\n",
    "    if not re.match(r'^[^\\s]+@[^\\s]+\\.[^\\s]+$', to_email):\n",
    "        logger.error(f\"Invalid recipient email: {to_email}\")\n",
    "        return f\"Error: Invalid recipient email: {to_email}\"\n",
    "    \n",
    "    try:\n",
    "        message = Mail(\n",
    "            from_email=Email(\"dabhideep44@gmail.com\"),  \n",
    "            to_emails=To(to_email),\n",
    "            subject=\"Cold Sales Email from ComplAI\",\n",
    "            plain_text_content=Content(\"text/plain\", email_content)\n",
    "        )\n",
    "        sg = SendGridAPIClient(sendgrid_api_key)\n",
    "        response = sg.send(message)\n",
    "        logger.info(f\"Email sent successfully to {to_email}\")\n",
    "        return f\"Email sent successfully to {to_email} : {email_content[:50]}...\"\n",
    "    except Exception as e:\n",
    "        logger.error(f\"Error sending email to {to_email}: {str(e)}\")\n",
    "        return f\"Error sending email to {to_email}: {str(e)}\""
   ]
  },
  {
   "cell_type": "code",
   "execution_count": null,
   "id": "1d497425",
   "metadata": {},
   "outputs": [],
   "source": [
    "memory_sales_manager = ConversationBufferMemory(memory_key= \"sales_manager_chat_history\", k = 5, return_message=True)\n",
    "@retry(srop=stop_after_attempt(3), wait=wait_fixed(2))\n",
    "def generate_draft_with_retyr(tool, input_prompt):\n",
    "    logger.info(f\"Handling off to {tool.name} for draft generation\")\n",
    "    return tool.invoke(input_prompt)\n",
    "def sales_manager(input)"
   ]
  }
 ],
 "metadata": {
  "kernelspec": {
   "display_name": "Python 3",
   "language": "python",
   "name": "python3"
  },
  "language_info": {
   "codemirror_mode": {
    "name": "ipython",
    "version": 3
   },
   "file_extension": ".py",
   "mimetype": "text/x-python",
   "name": "python",
   "nbconvert_exporter": "python",
   "pygments_lexer": "ipython3",
   "version": "3.13.1"
  }
 },
 "nbformat": 4,
 "nbformat_minor": 5
}
