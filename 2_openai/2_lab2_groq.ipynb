{
 "cells": [
  {
   "cell_type": "code",
   "execution_count": 69,
   "id": "ef50e3b3",
   "metadata": {},
   "outputs": [],
   "source": [
    "from dotenv import load_dotenv\n",
    "import os\n",
    "from langchain_core.tools import tool\n",
    "from langchain_openai import ChatOpenAI\n",
    "from langchain.memory import ConversationBufferMemory\n",
    "from langchain_core.prompts import ChatPromptTemplate\n",
    "from langchain_core.runnables import RunnableSequence\n",
    "from langchain_core.prompts.chat import HumanMessagePromptTemplate, SystemMessagePromptTemplate\n",
    "from langchain.agents import create_tool_calling_agent, AgentExecutor\n",
    "\n",
    "\n",
    "import sendgrid\n",
    "from sendgrid.helpers.mail import Mail, Email, To, Content\n",
    "from sendgrid import SendGridAPIClient"
   ]
  },
  {
   "cell_type": "code",
   "execution_count": 63,
   "id": "4e6d44d9",
   "metadata": {},
   "outputs": [],
   "source": [
    "load_dotenv(override=True)\n",
    "groq_api_key = os.getenv(\"GROQ_API_KEY\")\n",
    "sendgrid_api_key = os.getenv(\"SENDGRID_API_KEY\")\n",
    "if not groq_api_key:\n",
    "    print(\"Error: GROQ_API_KEY not found in environment variables.\")\n",
    "    exit(1)\n",
    "if not sendgrid_api_key:\n",
    "    print(\"Error: SENDGRID_API_KEY not found in environment variables.\")\n",
    "    exit(1)"
   ]
  },
  {
   "cell_type": "code",
   "execution_count": 64,
   "id": "547e2ebd",
   "metadata": {},
   "outputs": [],
   "source": [
    "llm = ChatOpenAI(\n",
    "    model=\"llama3-70b-8192\",\n",
    "    api_key=groq_api_key,\n",
    "    base_url=\"https://api.groq.com/openai/v1\",\n",
    ")"
   ]
  },
  {
   "cell_type": "code",
   "execution_count": 65,
   "id": "4c00663f",
   "metadata": {},
   "outputs": [],
   "source": [
    "instructions = {\n",
    "    \"agent1\": \"\"\"You are a sales agent working for ComplAI, \n",
    "a company that provides a SaaS tool for ensuring SOC2 compliance and preparing for audits, powered by AI. \n",
    "You write professional, serious cold emails. Do not give anything else in the response except the Email.\"\"\",\n",
    "    \"agent2\": \"\"\"You are a humorous, engaging sales agent working for ComplAI, a company that provides a SaaS tool for ensuring SOC2 compliance and preparing for audits, powered by AI. \n",
    "You write witty, engaging cold emails that are likely to get a response. Do not give anything else in the response except the Email.\"\"\",\n",
    "    \"agent3\": \"\"\"You are a busy sales agent working for ComplAI, \n",
    "a company that provides a SaaS tool for ensuring SOC2 compliance and preparing for audits, powered by AI. \n",
    "You write concise, to-the-point cold emails. Do not give anything else in the response except the Email.\"\"\",\n",
    "    \"picker\": \"\"\"You pick the best cold sales email from the given options. Imagine you are a customer and pick the one you are most likely to respond to. Do not give an explanation; reply with the selected email only.\"\"\",\n",
    "    \"sales_manager\": \"\"\"You are a Sales Manager at ComplAI. Your goal is to find the single best cold sales email using the sales_agent tools.\n",
    "Follow these steps carefully:\n",
    "1. Generate Drafts: Use all three sales_agent tools (agent1_tool, agent2_tool, agent3_tool) to generate three different email drafts. Do not proceed until all three drafts are ready.\n",
    "2. Evaluate and Select: Review the drafts and choose the single best email using your judgment of which one is most effective.\n",
    "3. Use the send_email tool to send the best email (and only the best email) to the user.\n",
    "Crucial Rules:\n",
    "- You must use the sales agent tools to generate the drafts — do not write them yourself.\n",
    "- You must send ONE email using the send_email tool — never more than one.\"\"\"\n",
    "}\n"
   ]
  },
  {
   "cell_type": "code",
   "execution_count": 66,
   "id": "92557f5a",
   "metadata": {},
   "outputs": [],
   "source": [
    "memory_agent1 = ConversationBufferMemory(memory_key=\"chat_history\", return_messages=True)\n",
    "@tool\n",
    "def agent1_tool(input: str) -> str:\n",
    "    \"\"\"Professional cold email agent for ComplAI. Returns a serious cold email based on the user's input.\"\"\"\n",
    "    prompt = ChatPromptTemplate.from_messages([\n",
    "        SystemMessagePromptTemplate.from_template(instructions[\"agent1\"]),\n",
    "        HumanMessagePromptTemplate.from_template(\"{input}\")\n",
    "    ])\n",
    "    chain = RunnableSequence(prompt | llm)\n",
    "    return chain.invoke({\"input\": input, \"chat_history\": memory_agent1.buffer}).content\n"
   ]
  },
  {
   "cell_type": "code",
   "execution_count": 67,
   "id": "5a1362c8",
   "metadata": {},
   "outputs": [],
   "source": [
    "memory_agent2 = ConversationBufferMemory(memory_key=\"chat_history\", return_messages=True)\n",
    "@tool\n",
    "def agent2_tool(input: str) -> str:\n",
    "    \"\"\"Humorous cold email agent for ComplAI. Returns a witty and engaging cold email based on the user's input.\"\"\"\n",
    "    prompt = ChatPromptTemplate.from_messages([\n",
    "        SystemMessagePromptTemplate.from_template(instructions[\"agent2\"]),\n",
    "        HumanMessagePromptTemplate.from_template(\"{input}\")\n",
    "    ])\n",
    "    chain = RunnableSequence(prompt | llm)\n",
    "    return chain.invoke({\"input\": input, \"chat_history\": memory_agent2.buffer}).content"
   ]
  },
  {
   "cell_type": "code",
   "execution_count": 68,
   "id": "90022c41",
   "metadata": {},
   "outputs": [],
   "source": [
    "memory_agent3 = ConversationBufferMemory(memory_key=\"chat_history\", return_messages=True)\n",
    "@tool\n",
    "def agent3_tool(input: str) -> str:\n",
    "    \"\"\"Concise cold email agent for ComplAI. Returns a short, to-the-point cold email based on the user's input.\"\"\"\n",
    "    prompt = ChatPromptTemplate.from_messages([\n",
    "        SystemMessagePromptTemplate.from_template(instructions[\"agent3\"]),\n",
    "        HumanMessagePromptTemplate.from_template(\"{input}\")\n",
    "    ])\n",
    "    chain = RunnableSequence(prompt | llm)\n",
    "    return chain.invoke({\"input\": input, \"chat_history\": memory_agent3.buffer}).content"
   ]
  },
  {
   "cell_type": "code",
   "execution_count": null,
   "id": "c553f5db",
   "metadata": {},
   "outputs": [],
   "source": [
    "# def run_all_agents(input_prompt: str) -> list:\n",
    "#     tools = [agent1_tool, agent2_tool, agent3_tool]\n",
    "#     results = []\n",
    "    \n",
    "#     for tool in tools:\n",
    "#         try:\n",
    "#             result = tool.invoke(input_prompt)\n",
    "#             results.append(result)\n",
    "#         except Exception as e:\n",
    "#             print(f\"Error running {tool.name}: {str(e)}\")\n",
    "#             results.append(f\"Error: {str(e)}\")\n",
    "    \n",
    "#     return results"
   ]
  },
  {
   "cell_type": "code",
   "execution_count": null,
   "id": "3b1aecd8",
   "metadata": {},
   "outputs": [
    {
     "name": "stdout",
     "output_type": "stream",
     "text": [
      "\n",
      "=== Professional Email (Draft 1) ===\n",
      "\n",
      "Subject: Streamline Your SOC 2 Compliance with ComplAI\n",
      "\n",
      "Dear [Prospect's Name],\n",
      "\n",
      "I came across your company, [Company Name], and was impressed with the innovative solutions you're bringing to the [Industry/Market] space. As a trusted partner to numerous organizations in this sector, I'm aware of the importance of maintaining robust security controls and complying with industry standards, such as SOC 2.\n",
      "\n",
      "As you prepare for your upcoming audit, I understand the challenges that come with manually managing compliance. The time-consuming task of gathering evidence, identifying gaps, and implementing remediation measures can be overwhelming, taking away from your core business focus.\n",
      "\n",
      "That's where ComplAI comes in. Our cutting-edge SaaS tool leverages AI to simplify and automate SOC 2 compliance, ensuring you're always audit-ready. With ComplAI, you can:\n",
      "\n",
      "* Automate evidence collection and mapping to relevant controls\n",
      "* Identify and prioritize gaps in your security posture\n",
      "* Implement tailored remediation measures, and track progress\n",
      "\n",
      "By leveraging ComplAI, our clients have seen a significant reduction in compliance-related burdens, allowing them to focus on growth and innovation.\n",
      "\n",
      "Would you be open to a brief call to discuss how ComplAI can help streamline your SOC 2 compliance efforts and alleviate the stress associated with audit preparation?\n",
      "\n",
      "Best regards,\n",
      "\n",
      "[Your Name]\n",
      "Sales Agent, ComplAI\n",
      "[Your Contact Information]\n",
      "\n",
      "========================================\n",
      "\n",
      "\n",
      "=== Humorous Email (Draft 2) ===\n",
      "\n",
      "Here is a cold sales email:\n",
      "\n",
      "Subject: Are Auditors Your Arch-Nemesis Too?\n",
      "\n",
      "Dear [First Name],\n",
      "\n",
      "If the thought of an impending SOC2 audit sends you into a tailspin of dread, rest assured you're not alone! We've all been there – pouring over spreadsheets, praying to the compliance gods, and mainlining coffee like it's oxygen.\n",
      "\n",
      "But what if I told you there's a way to tame the audit beast, and actually enjoy the process (okay, maybe \"enjoy\" is a stretch, but at least not lose sleep over it)? \n",
      "\n",
      "Our AI-powered SOC2 compliance tool, ComplAI, is here to save the day (and your sanity)! With automated workflows, real-time monitoring, and actionable insights, we'll have you ready for that audit in no time.\n",
      "\n",
      "Curious how it works? I'd love to set up a quick call to discuss the magic of ComplAI.\n",
      "\n",
      "Hit reply, and let's get this compliance party started!\n",
      "\n",
      "Cheers,\n",
      "\n",
      "[Your Name]\n",
      "\n",
      "P.S. If you're still using spreadsheets, don't worry, your secret is safe with me\n",
      "\n",
      "========================================\n",
      "\n",
      "\n",
      "=== Concise Email (Draft 3) ===\n",
      "\n",
      "Subject: Simplify Your SOC2 Compliance with ComplAI\n",
      "\n",
      "Hi [First Name],\n",
      "\n",
      "Are audit prep and SOC2 compliance consuming valuable time and resources at [Company]? \n",
      "\n",
      "ComplAI's AI-powered SaaS tool streamlines the compliance process, ensuring you're always audit-ready.\n",
      "\n",
      "Our solution helps:\n",
      "\n",
      "* Automate evidence collection and mapping\n",
      "* Identify and remediate gaps in real-time\n",
      "* Reduce audit prep time by up to 70%\n",
      "\n",
      "Interested in learning more? Let's schedule a quick call to discuss how ComplAI can help [Company] simplify compliance.\n",
      "\n",
      "Best,\n",
      "[Your Name]\n",
      "\n",
      "========================================\n",
      "\n"
     ]
    }
   ],
   "source": [
    "# prompt = \"Write a cold sales email\"\n",
    "# labels = [\"Professional Email\", \"Humorous Email\", \"Concise Email\"]\n",
    "# drafts = run_all_agents(prompt)\n",
    "\n",
    "# for i, (label, draft) in enumerate(zip(labels, drafts), start=1):\n",
    "#     print(f\"\\n=== {label} (Draft {i}) ===\\n\")\n",
    "#     print(draft)\n",
    "#     print(\"\\n\" + \"=\" * 40 + \"\\n\")"
   ]
  },
  {
   "cell_type": "code",
   "execution_count": null,
   "id": "e1df42dd",
   "metadata": {},
   "outputs": [],
   "source": [
    "# sengrid_api_key = os.getenv(\"SENDGRID_API_KEY\")"
   ]
  },
  {
   "cell_type": "code",
   "execution_count": null,
   "id": "daf9d59a",
   "metadata": {},
   "outputs": [
    {
     "name": "stdout",
     "output_type": "stream",
     "text": [
      "202\n"
     ]
    }
   ],
   "source": [
    "# def send_test_email():\n",
    "#     sg = sendgrid.SendGridAPIClient(api_key=sengrid_api_key)\n",
    "#     from_email = Email(\"dabhideep44@gmail.com\")  \n",
    "#     to_email = To(\"dabhideep424@gmail.com\")  \n",
    "#     content = Content(\"text/plain\", \"This is an important test email\")\n",
    "#     mail = Mail(from_email, to_email, \"Test email\", content).get()\n",
    "#     response = sg.client.mail.send.post(request_body=mail)\n",
    "#     print(response.status_code)\n",
    "\n",
    "# send_test_email()"
   ]
  },
  {
   "cell_type": "code",
   "execution_count": null,
   "id": "739ef8f4",
   "metadata": {},
   "outputs": [],
   "source": []
  },
  {
   "cell_type": "code",
   "execution_count": null,
   "id": "3b49ab6e",
   "metadata": {},
   "outputs": [],
   "source": [
    "# memory_picker = ConversationBufferMemory(memory_key=\"chat_history\", return_messages=True)\n",
    "# @tool\n",
    "# def sales_picker(input: str) -> str:\n",
    "#     \"\"\"Best email picker\"\"\"\n",
    "#     prompt = ChatPromptTemplate.from_messages([\n",
    "#         SystemMessagePromptTemplate.from_template(instructions[\"picker\"]),\n",
    "#         HumanMessagePromptTemplate.from_template(\"{input}\")\n",
    "#     ])\n",
    "#     chain = RunnableSequence(prompt | llm)\n",
    "#     return chain.invoke({\"input\": input, \"chat_history\": memory_picker.buffer}).content"
   ]
  },
  {
   "cell_type": "code",
   "execution_count": null,
   "id": "b6e5d0c8",
   "metadata": {},
   "outputs": [
    {
     "name": "stdout",
     "output_type": "stream",
     "text": [
      "\n",
      "=== Selected Email ===\n",
      "\n",
      "Subject: Are Auditors Your Arch-Nemesis Too?\n",
      "\n",
      "Dear [First Name],\n",
      "\n",
      "If the thought of an impending SOC2 audit sends you into a tailspin of dread, rest assured you're not alone! We've all been there – pouring over spreadsheets, praying to the compliance gods, and mainlining coffee like it's oxygen.\n",
      "\n",
      "But what if I told you there's a way to tame the audit beast, and actually enjoy the process (okay, maybe \"enjoy\" is a stretch, but at least not lose sleep over it)? \n",
      "\n",
      "Our AI-powered SOC2 compliance tool, ComplAI, is here to save the day (and your sanity)! With automated workflows, real-time monitoring, and actionable insights, we'll have you ready for that audit in no time.\n",
      "\n",
      "Curious how it works? I'd love to set up a quick call to discuss the magic of ComplAI.\n",
      "\n",
      "Hit reply, and let's get this compliance party started!\n",
      "\n",
      "Cheers,\n",
      "\n",
      "[Your Name]\n",
      "\n",
      "P.S. If you're still using spreadsheets, don't worry, your secret is safe with me\n",
      "\n",
      "========================================\n",
      "\n"
     ]
    }
   ],
   "source": [
    "# input_for_picker = \"\\n\\n---\\n\\n\".join(drafts)  \n",
    "# selected_email = sales_picker.invoke(input_for_picker)\n",
    "# print(\"\\n=== Selected Email ===\\n\")\n",
    "# print(selected_email)\n",
    "# print(\"\\n\" + \"=\" * 40 + \"\\n\")"
   ]
  },
  {
   "cell_type": "code",
   "execution_count": null,
   "id": "5b15b747",
   "metadata": {},
   "outputs": [],
   "source": [
    "@tool\n",
    "def send_email(email_content: str) -> str:\n",
    "    \"\"\"sends the selected email to the reciepent's email using SendGrid\"\"\"\n",
    "    try:\n",
    "        message = Mail(\n",
    "            from_email = Email(\"dabhideep44@gmail.com\"),\n",
    "            to_email = To(\"dabhideep424@gmail.com\"),\n",
    "            subject = \"Cold Sales Email from ComplAI\",\n",
    "            plain_text_content = Content(\"text/plain\", email_content)\n",
    "        )\n",
    "        sg = SendGridAPIClient(sendgrid_api_key)\n",
    "        response = sg.send(message)\n",
    "        return f\"Email sent successfully: {email_content[:50]}...\"\n",
    "        \n",
    "    except Exception as e:\n",
    "        return f\"Error sending email: {str(e)}\""
   ]
  },
  {
   "cell_type": "code",
   "execution_count": 75,
   "id": "ec4ececc",
   "metadata": {},
   "outputs": [],
   "source": [
    "memory_sales_manager = ConversationBufferMemory(memory_key=\"chat_history\", return_messages=True)\n",
    "def sales_manager(input_prompt: str) -> str:\n",
    "    \"\"\"Sales Manager agent that generates, selects, and sends the best email.\"\"\"\n",
    "    tools = [agent1_tool, agent2_tool, agent3_tool]\n",
    "    drafts = []\n",
    "    for tool in tools:\n",
    "        try:\n",
    "            result = tool.invoke(input_prompt)\n",
    "            drafts.append(result)\n",
    "        except Exception as e:\n",
    "            drafts.append(f\"Error: {str(e)}\")\n",
    "\n",
    "    drafts_input = \"\\n\\n---\\n\\n\".join(drafts)\n",
    "\n",
    "    prompt = ChatPromptTemplate.from_messages([\n",
    "        SystemMessagePromptTemplate.from_template(instructions[\"sales_manager\"]),\n",
    "        HumanMessagePromptTemplate.from_template(\"Input prompt: {input_prompt}\\nDrafts:\\n{drafts}\")\n",
    "    ])\n",
    "    chain = RunnableSequence(prompt | llm.bind_tools([agent1_tool, agent2_tool, agent3_tool, send_email]))\n",
    "    result = chain.invoke({\"input_prompt\": input_prompt, \"drafts\": drafts_input})\n",
    "\n",
    "    return result.content"
   ]
  },
  {
   "cell_type": "code",
   "execution_count": 76,
   "id": "e9a2f814",
   "metadata": {},
   "outputs": [],
   "source": [
    "os.environ[\"LANGCHAIN_TRACING_V2\"] = \"true\"\n",
    "os.environ[\"LANGCHAIN_ENDPOINT\"] = \"https://api.smith.langchain.com\"\n",
    "os.environ[\"LANGCHAIN_API_KEY\"] = os.getenv(\"LANGCHAIN_API_KEY\")\n",
    "os.environ[\"LANGCHAIN_PROJECT\"] = \"SalesManagerProject\""
   ]
  },
  {
   "cell_type": "code",
   "execution_count": 77,
   "id": "08ec96ef",
   "metadata": {},
   "outputs": [
    {
     "name": "stdout",
     "output_type": "stream",
     "text": [
      "\n",
      "=== Sales Manager Result ===\n",
      "\n",
      "\n",
      "\n",
      "========================================\n",
      "\n"
     ]
    }
   ],
   "source": [
    "message = \"Send a cold sales email addressed to 'Dear CEO'\"\n",
    "result = sales_manager(message)\n",
    "print(\"\\n=== Sales Manager Result ===\\n\")\n",
    "print(result)\n",
    "print(\"\\n\" + \"=\" * 40 + \"\\n\")"
   ]
  }
 ],
 "metadata": {
  "kernelspec": {
   "display_name": "Python 3",
   "language": "python",
   "name": "python3"
  },
  "language_info": {
   "codemirror_mode": {
    "name": "ipython",
    "version": 3
   },
   "file_extension": ".py",
   "mimetype": "text/x-python",
   "name": "python",
   "nbconvert_exporter": "python",
   "pygments_lexer": "ipython3",
   "version": "3.13.1"
  }
 },
 "nbformat": 4,
 "nbformat_minor": 5
}
