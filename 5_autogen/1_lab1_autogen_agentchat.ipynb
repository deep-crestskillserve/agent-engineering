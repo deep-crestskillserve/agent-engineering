{
 "cells": [
  {
   "cell_type": "markdown",
   "metadata": {},
   "source": [
    "### Welcome to Week 5 Day 1\n",
    "\n",
    "AutoGen AgentChat!\n",
    "\n",
    "This should look simple and familiar, because it has a lot in common with Crew and OpenAI Agents SDK"
   ]
  },
  {
   "cell_type": "code",
   "execution_count": 1,
   "metadata": {},
   "outputs": [
    {
     "data": {
      "text/plain": [
       "True"
      ]
     },
     "execution_count": 1,
     "metadata": {},
     "output_type": "execute_result"
    }
   ],
   "source": [
    "from dotenv import load_dotenv\n",
    "load_dotenv(override=True)"
   ]
  },
  {
   "cell_type": "code",
   "execution_count": 2,
   "metadata": {},
   "outputs": [],
   "source": [
    "import os\n",
    "GEMINI_API_KEY = os.getenv(\"GEMINI_API_KEY\")"
   ]
  },
  {
   "cell_type": "markdown",
   "metadata": {},
   "source": [
    "### First concept: the Model"
   ]
  },
  {
   "cell_type": "code",
   "execution_count": 6,
   "metadata": {},
   "outputs": [],
   "source": [
    "from autogen_ext.models.openai import OpenAIChatCompletionClient\n",
    "model_client = OpenAIChatCompletionClient(model=\"gemini-2.0-flash\",  api_key = GEMINI_API_KEY)"
   ]
  },
  {
   "cell_type": "code",
   "execution_count": 4,
   "metadata": {},
   "outputs": [],
   "source": [
    "from autogen_ext.models.ollama import OllamaChatCompletionClient\n",
    "ollamamodel_client = OllamaChatCompletionClient(model=\"llama3.2\")"
   ]
  },
  {
   "cell_type": "markdown",
   "metadata": {},
   "source": [
    "### Second concept: The Message"
   ]
  },
  {
   "cell_type": "code",
   "execution_count": 7,
   "metadata": {},
   "outputs": [
    {
     "data": {
      "text/plain": [
       "TextMessage(source='user', models_usage=None, metadata={}, created_at=datetime.datetime(2025, 8, 4, 6, 53, 42, 386656, tzinfo=datetime.timezone.utc), content=\"I'd like to go to London\", type='TextMessage')"
      ]
     },
     "execution_count": 7,
     "metadata": {},
     "output_type": "execute_result"
    }
   ],
   "source": [
    "from autogen_agentchat.messages import TextMessage\n",
    "message = TextMessage(content=\"I'd like to go to London\", source=\"user\")\n",
    "message"
   ]
  },
  {
   "cell_type": "markdown",
   "metadata": {},
   "source": [
    "### Third concept: The Agent"
   ]
  },
  {
   "cell_type": "code",
   "execution_count": 24,
   "metadata": {},
   "outputs": [],
   "source": [
    "from autogen_agentchat.agents import AssistantAgent\n",
    "\n",
    "agent = AssistantAgent(\n",
    "    name=\"airline_agent\",\n",
    "    model_client=model_client,\n",
    "    system_message=\"you are humorous tour guide\",\n",
    "    model_client_stream=True\n",
    ")"
   ]
  },
  {
   "cell_type": "markdown",
   "metadata": {},
   "source": [
    "### Put it all together with on_messages"
   ]
  },
  {
   "cell_type": "code",
   "execution_count": 25,
   "metadata": {},
   "outputs": [
    {
     "data": {
      "text/plain": [
       "\"Alright, buckle up buttercup, because you're about to embark on a whirlwind tour of London with yours truly as your guide. Now, I'm not your typical stuffy historian droning on about Henry the VIII's waistline. I'm here to give you the inside scoop, the cheeky commentary, and the best places to snag a decent cuppa.\\n\\nFirst things first, **London is big. REALLY big.**  Imagine trying to wrangle a gaggle of pigeons, a flock of tourists, and a red double-decker bus, all while juggling a sausage roll and avoiding a rogue umbrella. That's London in a nutshell.\\n\\nHere's your survival guide:\\n\\n*   **Oyster Card is your BFF:**  Forget fumbling for change. The Oyster card is your magical key to the Tube, London's underground labyrinth. Just tap and go, and pray you don't end up in Zone 6 by accident. Zone 6 is where the mythical creatures reside, or so I'm told.\\n*   **Mind the Gap!**  Seriously, *mind the gap*. It's not just a catchy slogan; it's a genuine warning that you might end up plummeting into the depths of the Tube. It's happened to the best of us (not me, of course, I'm far too graceful...ahem).\\n*   **Weather is a Wild Card:** Pack for all seasons, even if it's July. You might experience sunshine, rain, hail, and a brief snow flurry, all within the space of an hour. Layers are key, my friend. Think onion, but make it fashionable (or at least not tragically un-fashionable).\\n*   **Don't Block the Pavement!**  Londoners are on a mission, and that mission usually involves getting somewhere very, very quickly.  Standing in the middle of the pavement, taking selfies with a phone box, is a surefire way to earn yourself some glares and possibly a tut or two.  Move along, please!\\n\\nNow, let's talk attractions. We've got all the classics:\\n\\n*   **Buckingham Palace:**  Home to the Royal Family.  If you see a corgi trying to flag you down, it's probably trying to escape. Just kidding! ...probably.\\n*   **Tower of London:**  Filled with ravens, Beefeaters (who are surprisingly jolly), and enough history to make your head spin. Rumour has it if the ravens ever leave the Tower, the kingdom and the Tower will fall. No pressure, birds.\\n*   **The London Eye:**  A giant Ferris wheel that offers stunning views of the city.  Try not to scream if you're afraid of heights.  Or do scream, I won't judge.  Just maybe not in my ear.\\n*   **Shakespeare's Globe:**  A reconstruction of the famous theatre.  Prepare to be transported back in time, and possibly get rained on if you're in the standing area.  Such is the price of dramatic artistry.\\n*   **The British Museum:** Containing artifacts plundered from around the world. Oops! Did I say that out loud? Moving on...\\n\\n**Food and Drink:**\\n\\n*   **Fish and Chips:** A must-try.  Just be prepared for the seagulls to try and steal your chips right out of your hand. They're cunning little blighters.\\n*   **Afternoon Tea:**  Scones, clotted cream, sandwiches with the crusts cut off. It's as fancy as it sounds.  Just don't spill tea on your crumpets.\\n*   **A Proper Pub:**  Find a cozy pub, order a pint of ale, and soak up the atmosphere.  Just don't start singing sea shanties unless you know all the words.\\n*   **Sunday Roast:** Huge plates of meat, potatoes, Yorkshire pudding, and gravy. The perfect way to recover from a night of debauchery or to fuel up for an afternoon of sightseeing.\\n\\nSo, there you have it! London in a nutshell (a very large, slightly chaotic, and occasionally damp nutshell).  Get ready for a fantastic time filled with history, culture, and enough quirky charm to make you want to move here... until you see the rent prices.\\n\\nAny questions?  Fire away! And remember, don't take life too seriously, especially when you're surrounded by pigeons trying to steal your lunch.\\n\""
      ]
     },
     "execution_count": 25,
     "metadata": {},
     "output_type": "execute_result"
    }
   ],
   "source": [
    "from autogen_core import CancellationToken\n",
    "\n",
    "response = await agent.on_messages([message], cancellation_token=CancellationToken())\n",
    "response.chat_message.content"
   ]
  },
  {
   "cell_type": "markdown",
   "metadata": {},
   "source": [
    "### Let's make a local database of ticket prices"
   ]
  },
  {
   "cell_type": "code",
   "execution_count": 26,
   "metadata": {},
   "outputs": [],
   "source": [
    "import os\n",
    "import sqlite3\n",
    "\n",
    "# Delete existing database file if it exists\n",
    "if os.path.exists(\"tickets.db\"):\n",
    "    os.remove(\"tickets.db\")\n",
    "\n",
    "# Create the database and the table\n",
    "conn = sqlite3.connect(\"tickets.db\")\n",
    "c = conn.cursor()\n",
    "c.execute(\"CREATE TABLE cities (city_name TEXT PRIMARY KEY, round_trip_price REAL)\")\n",
    "conn.commit()\n",
    "conn.close()"
   ]
  },
  {
   "cell_type": "code",
   "execution_count": 27,
   "metadata": {},
   "outputs": [],
   "source": [
    "# Populate our database\n",
    "def save_city_price(city_name, round_trip_price):\n",
    "    conn = sqlite3.connect(\"tickets.db\")\n",
    "    c = conn.cursor()\n",
    "    c.execute(\"REPLACE INTO cities (city_name, round_trip_price) VALUES (?, ?)\", (city_name.lower(), round_trip_price))\n",
    "    conn.commit()\n",
    "    conn.close()\n",
    "\n",
    "# Some cities!\n",
    "save_city_price(\"London\", 299)\n",
    "save_city_price(\"Paris\", 399)\n",
    "save_city_price(\"Rome\", 499)\n",
    "save_city_price(\"Madrid\", 550)\n",
    "save_city_price(\"Barcelona\", 580)\n",
    "save_city_price(\"Berlin\", 525)"
   ]
  },
  {
   "cell_type": "code",
   "execution_count": 28,
   "metadata": {},
   "outputs": [],
   "source": [
    "# Method to get price for a city\n",
    "def get_city_price(city_name: str) -> float | None:\n",
    "    \"\"\" Get the roundtrip ticket price to travel to the city \"\"\"\n",
    "    conn = sqlite3.connect(\"tickets.db\")\n",
    "    c = conn.cursor()\n",
    "    c.execute(\"SELECT round_trip_price FROM cities WHERE city_name = ?\", (city_name.lower(),))\n",
    "    result = c.fetchone()\n",
    "    conn.close()\n",
    "    return result[0] if result else None"
   ]
  },
  {
   "cell_type": "code",
   "execution_count": 29,
   "metadata": {},
   "outputs": [
    {
     "data": {
      "text/plain": [
       "499.0"
      ]
     },
     "execution_count": 29,
     "metadata": {},
     "output_type": "execute_result"
    }
   ],
   "source": [
    "get_city_price(\"Rome\")"
   ]
  },
  {
   "cell_type": "code",
   "execution_count": 30,
   "metadata": {},
   "outputs": [],
   "source": [
    "from autogen_agentchat.agents import AssistantAgent\n",
    "\n",
    "smart_agent = AssistantAgent(\n",
    "    name=\"smart_airline_agent\",\n",
    "    model_client=model_client,\n",
    "    system_message=\"You are a helpful assistant for an airline. You give short, humorous answers, including the price of a roundtrip ticket.\",\n",
    "    model_client_stream=True,\n",
    "    tools=[get_city_price],\n",
    "    reflect_on_tool_use=True\n",
    ")"
   ]
  },
  {
   "cell_type": "code",
   "execution_count": 31,
   "metadata": {},
   "outputs": [
    {
     "name": "stdout",
     "output_type": "stream",
     "text": [
      "Lucky you! Roundtrip tickets to London are the stuff of legends, and cost a pretty penny. Let me check.\n",
      "\n",
      "\n",
      "[FunctionCall(id='', arguments='{\"city_name\":\"London\"}', name='get_city_price')]\n",
      "[FunctionExecutionResult(content='299.0', name='get_city_price', call_id='', is_error=False)]\n"
     ]
    },
    {
     "data": {
      "text/plain": [
       "'Hold on to your bowler hat! A roundtrip ticket to London will cost you $299.\\n'"
      ]
     },
     "execution_count": 31,
     "metadata": {},
     "output_type": "execute_result"
    }
   ],
   "source": [
    "response = await smart_agent.on_messages([message], cancellation_token=CancellationToken())\n",
    "for inner_message in response.inner_messages:\n",
    "    print(inner_message.content)\n",
    "response.chat_message.content"
   ]
  },
  {
   "cell_type": "code",
   "execution_count": null,
   "metadata": {},
   "outputs": [],
   "source": []
  }
 ],
 "metadata": {
  "kernelspec": {
   "display_name": ".venv",
   "language": "python",
   "name": "python3"
  },
  "language_info": {
   "codemirror_mode": {
    "name": "ipython",
    "version": 3
   },
   "file_extension": ".py",
   "mimetype": "text/x-python",
   "name": "python",
   "nbconvert_exporter": "python",
   "pygments_lexer": "ipython3",
   "version": "3.12.9"
  }
 },
 "nbformat": 4,
 "nbformat_minor": 2
}
