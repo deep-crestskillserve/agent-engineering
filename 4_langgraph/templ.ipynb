{
 "cells": [
  {
   "cell_type": "code",
   "execution_count": 2,
   "id": "c0eed939",
   "metadata": {},
   "outputs": [
    {
     "name": "stdout",
     "output_type": "stream",
     "text": [
      "Collecting langchain-google-genai\n",
      "  Using cached langchain_google_genai-2.1.8-py3-none-any.whl.metadata (7.0 kB)\n",
      "Collecting filetype<2.0.0,>=1.2.0 (from langchain-google-genai)\n",
      "  Using cached filetype-1.2.0-py2.py3-none-any.whl.metadata (6.5 kB)\n",
      "Collecting google-ai-generativelanguage<0.7.0,>=0.6.18 (from langchain-google-genai)\n",
      "  Using cached google_ai_generativelanguage-0.6.18-py3-none-any.whl.metadata (9.8 kB)\n",
      "Collecting langchain-core<0.4.0,>=0.3.68 (from langchain-google-genai)\n",
      "  Using cached langchain_core-0.3.72-py3-none-any.whl.metadata (5.8 kB)\n",
      "Requirement already satisfied: pydantic<3,>=2 in c:\\users\\deepadabhi\\desktop\\projects\\temp\\agents\\.venv\\lib\\site-packages (from langchain-google-genai) (2.11.7)\n",
      "Collecting google-api-core!=2.0.*,!=2.1.*,!=2.10.*,!=2.2.*,!=2.3.*,!=2.4.*,!=2.5.*,!=2.6.*,!=2.7.*,!=2.8.*,!=2.9.*,<3.0.0,>=1.34.1 (from google-api-core[grpc]!=2.0.*,!=2.1.*,!=2.10.*,!=2.2.*,!=2.3.*,!=2.4.*,!=2.5.*,!=2.6.*,!=2.7.*,!=2.8.*,!=2.9.*,<3.0.0,>=1.34.1->google-ai-generativelanguage<0.7.0,>=0.6.18->langchain-google-genai)\n",
      "  Using cached google_api_core-2.25.1-py3-none-any.whl.metadata (3.0 kB)\n",
      "Collecting google-auth!=2.24.0,!=2.25.0,<3.0.0,>=2.14.1 (from google-ai-generativelanguage<0.7.0,>=0.6.18->langchain-google-genai)\n",
      "  Using cached google_auth-2.40.3-py2.py3-none-any.whl.metadata (6.2 kB)\n",
      "Collecting proto-plus<2.0.0,>=1.22.3 (from google-ai-generativelanguage<0.7.0,>=0.6.18->langchain-google-genai)\n",
      "  Using cached proto_plus-1.26.1-py3-none-any.whl.metadata (2.2 kB)\n",
      "Requirement already satisfied: protobuf!=4.21.0,!=4.21.1,!=4.21.2,!=4.21.3,!=4.21.4,!=4.21.5,<7.0.0,>=3.20.2 in c:\\users\\deepadabhi\\desktop\\projects\\temp\\agents\\.venv\\lib\\site-packages (from google-ai-generativelanguage<0.7.0,>=0.6.18->langchain-google-genai) (5.29.5)\n",
      "Requirement already satisfied: langsmith>=0.3.45 in c:\\users\\deepadabhi\\desktop\\projects\\temp\\agents\\.venv\\lib\\site-packages (from langchain-core<0.4.0,>=0.3.68->langchain-google-genai) (0.4.1)\n",
      "Requirement already satisfied: tenacity!=8.4.0,<10.0.0,>=8.1.0 in c:\\users\\deepadabhi\\desktop\\projects\\temp\\agents\\.venv\\lib\\site-packages (from langchain-core<0.4.0,>=0.3.68->langchain-google-genai) (9.1.2)\n",
      "Requirement already satisfied: jsonpatch<2.0,>=1.33 in c:\\users\\deepadabhi\\desktop\\projects\\temp\\agents\\.venv\\lib\\site-packages (from langchain-core<0.4.0,>=0.3.68->langchain-google-genai) (1.33)\n",
      "Requirement already satisfied: PyYAML>=5.3 in c:\\users\\deepadabhi\\desktop\\projects\\temp\\agents\\.venv\\lib\\site-packages (from langchain-core<0.4.0,>=0.3.68->langchain-google-genai) (6.0.2)\n",
      "Requirement already satisfied: typing-extensions>=4.7 in c:\\users\\deepadabhi\\desktop\\projects\\temp\\agents\\.venv\\lib\\site-packages (from langchain-core<0.4.0,>=0.3.68->langchain-google-genai) (4.14.0)\n",
      "Requirement already satisfied: packaging>=23.2 in c:\\users\\deepadabhi\\desktop\\projects\\temp\\agents\\.venv\\lib\\site-packages (from langchain-core<0.4.0,>=0.3.68->langchain-google-genai) (24.2)\n",
      "Requirement already satisfied: annotated-types>=0.6.0 in c:\\users\\deepadabhi\\desktop\\projects\\temp\\agents\\.venv\\lib\\site-packages (from pydantic<3,>=2->langchain-google-genai) (0.7.0)\n",
      "Requirement already satisfied: pydantic-core==2.33.2 in c:\\users\\deepadabhi\\desktop\\projects\\temp\\agents\\.venv\\lib\\site-packages (from pydantic<3,>=2->langchain-google-genai) (2.33.2)\n",
      "Requirement already satisfied: typing-inspection>=0.4.0 in c:\\users\\deepadabhi\\desktop\\projects\\temp\\agents\\.venv\\lib\\site-packages (from pydantic<3,>=2->langchain-google-genai) (0.4.1)\n",
      "Collecting googleapis-common-protos<2.0.0,>=1.56.2 (from google-api-core!=2.0.*,!=2.1.*,!=2.10.*,!=2.2.*,!=2.3.*,!=2.4.*,!=2.5.*,!=2.6.*,!=2.7.*,!=2.8.*,!=2.9.*,<3.0.0,>=1.34.1->google-api-core[grpc]!=2.0.*,!=2.1.*,!=2.10.*,!=2.2.*,!=2.3.*,!=2.4.*,!=2.5.*,!=2.6.*,!=2.7.*,!=2.8.*,!=2.9.*,<3.0.0,>=1.34.1->google-ai-generativelanguage<0.7.0,>=0.6.18->langchain-google-genai)\n",
      "  Using cached googleapis_common_protos-1.70.0-py3-none-any.whl.metadata (9.3 kB)\n",
      "Requirement already satisfied: requests<3.0.0,>=2.18.0 in c:\\users\\deepadabhi\\desktop\\projects\\temp\\agents\\.venv\\lib\\site-packages (from google-api-core!=2.0.*,!=2.1.*,!=2.10.*,!=2.2.*,!=2.3.*,!=2.4.*,!=2.5.*,!=2.6.*,!=2.7.*,!=2.8.*,!=2.9.*,<3.0.0,>=1.34.1->google-api-core[grpc]!=2.0.*,!=2.1.*,!=2.10.*,!=2.2.*,!=2.3.*,!=2.4.*,!=2.5.*,!=2.6.*,!=2.7.*,!=2.8.*,!=2.9.*,<3.0.0,>=1.34.1->google-ai-generativelanguage<0.7.0,>=0.6.18->langchain-google-genai) (2.32.4)\n",
      "Requirement already satisfied: grpcio<2.0.0,>=1.33.2 in c:\\users\\deepadabhi\\desktop\\projects\\temp\\agents\\.venv\\lib\\site-packages (from google-api-core[grpc]!=2.0.*,!=2.1.*,!=2.10.*,!=2.2.*,!=2.3.*,!=2.4.*,!=2.5.*,!=2.6.*,!=2.7.*,!=2.8.*,!=2.9.*,<3.0.0,>=1.34.1->google-ai-generativelanguage<0.7.0,>=0.6.18->langchain-google-genai) (1.70.0)\n",
      "Collecting grpcio-status<2.0.0,>=1.33.2 (from google-api-core[grpc]!=2.0.*,!=2.1.*,!=2.10.*,!=2.2.*,!=2.3.*,!=2.4.*,!=2.5.*,!=2.6.*,!=2.7.*,!=2.8.*,!=2.9.*,<3.0.0,>=1.34.1->google-ai-generativelanguage<0.7.0,>=0.6.18->langchain-google-genai)\n",
      "  Using cached grpcio_status-1.74.0-py3-none-any.whl.metadata (1.1 kB)\n",
      "Collecting cachetools<6.0,>=2.0.0 (from google-auth!=2.24.0,!=2.25.0,<3.0.0,>=2.14.1->google-ai-generativelanguage<0.7.0,>=0.6.18->langchain-google-genai)\n",
      "  Using cached cachetools-5.5.2-py3-none-any.whl.metadata (5.4 kB)\n",
      "Collecting pyasn1-modules>=0.2.1 (from google-auth!=2.24.0,!=2.25.0,<3.0.0,>=2.14.1->google-ai-generativelanguage<0.7.0,>=0.6.18->langchain-google-genai)\n",
      "  Using cached pyasn1_modules-0.4.2-py3-none-any.whl.metadata (3.5 kB)\n",
      "Collecting rsa<5,>=3.1.4 (from google-auth!=2.24.0,!=2.25.0,<3.0.0,>=2.14.1->google-ai-generativelanguage<0.7.0,>=0.6.18->langchain-google-genai)\n",
      "  Using cached rsa-4.9.1-py3-none-any.whl.metadata (5.6 kB)\n",
      "Requirement already satisfied: jsonpointer>=1.9 in c:\\users\\deepadabhi\\desktop\\projects\\temp\\agents\\.venv\\lib\\site-packages (from jsonpatch<2.0,>=1.33->langchain-core<0.4.0,>=0.3.68->langchain-google-genai) (3.0.0)\n",
      "Requirement already satisfied: httpx<1,>=0.23.0 in c:\\users\\deepadabhi\\desktop\\projects\\temp\\agents\\.venv\\lib\\site-packages (from langsmith>=0.3.45->langchain-core<0.4.0,>=0.3.68->langchain-google-genai) (0.28.1)\n",
      "Requirement already satisfied: orjson<4.0.0,>=3.9.14 in c:\\users\\deepadabhi\\desktop\\projects\\temp\\agents\\.venv\\lib\\site-packages (from langsmith>=0.3.45->langchain-core<0.4.0,>=0.3.68->langchain-google-genai) (3.10.18)\n",
      "Requirement already satisfied: requests-toolbelt<2.0.0,>=1.0.0 in c:\\users\\deepadabhi\\desktop\\projects\\temp\\agents\\.venv\\lib\\site-packages (from langsmith>=0.3.45->langchain-core<0.4.0,>=0.3.68->langchain-google-genai) (1.0.0)\n",
      "Requirement already satisfied: zstandard<0.24.0,>=0.23.0 in c:\\users\\deepadabhi\\desktop\\projects\\temp\\agents\\.venv\\lib\\site-packages (from langsmith>=0.3.45->langchain-core<0.4.0,>=0.3.68->langchain-google-genai) (0.23.0)\n",
      "Collecting protobuf!=4.21.0,!=4.21.1,!=4.21.2,!=4.21.3,!=4.21.4,!=4.21.5,<7.0.0,>=3.20.2 (from google-ai-generativelanguage<0.7.0,>=0.6.18->langchain-google-genai)\n",
      "  Using cached protobuf-6.31.1-cp310-abi3-win_amd64.whl.metadata (593 bytes)\n",
      "Collecting grpcio<2.0.0,>=1.33.2 (from google-api-core[grpc]!=2.0.*,!=2.1.*,!=2.10.*,!=2.2.*,!=2.3.*,!=2.4.*,!=2.5.*,!=2.6.*,!=2.7.*,!=2.8.*,!=2.9.*,<3.0.0,>=1.34.1->google-ai-generativelanguage<0.7.0,>=0.6.18->langchain-google-genai)\n",
      "  Using cached grpcio-1.74.0-cp312-cp312-win_amd64.whl.metadata (4.0 kB)\n",
      "Requirement already satisfied: anyio in c:\\users\\deepadabhi\\desktop\\projects\\temp\\agents\\.venv\\lib\\site-packages (from httpx<1,>=0.23.0->langsmith>=0.3.45->langchain-core<0.4.0,>=0.3.68->langchain-google-genai) (4.9.0)\n",
      "Requirement already satisfied: certifi in c:\\users\\deepadabhi\\desktop\\projects\\temp\\agents\\.venv\\lib\\site-packages (from httpx<1,>=0.23.0->langsmith>=0.3.45->langchain-core<0.4.0,>=0.3.68->langchain-google-genai) (2025.6.15)\n",
      "Requirement already satisfied: httpcore==1.* in c:\\users\\deepadabhi\\desktop\\projects\\temp\\agents\\.venv\\lib\\site-packages (from httpx<1,>=0.23.0->langsmith>=0.3.45->langchain-core<0.4.0,>=0.3.68->langchain-google-genai) (1.0.9)\n",
      "Requirement already satisfied: idna in c:\\users\\deepadabhi\\desktop\\projects\\temp\\agents\\.venv\\lib\\site-packages (from httpx<1,>=0.23.0->langsmith>=0.3.45->langchain-core<0.4.0,>=0.3.68->langchain-google-genai) (3.10)\n",
      "Requirement already satisfied: h11>=0.16 in c:\\users\\deepadabhi\\desktop\\projects\\temp\\agents\\.venv\\lib\\site-packages (from httpcore==1.*->httpx<1,>=0.23.0->langsmith>=0.3.45->langchain-core<0.4.0,>=0.3.68->langchain-google-genai) (0.16.0)\n",
      "Collecting pyasn1<0.7.0,>=0.6.1 (from pyasn1-modules>=0.2.1->google-auth!=2.24.0,!=2.25.0,<3.0.0,>=2.14.1->google-ai-generativelanguage<0.7.0,>=0.6.18->langchain-google-genai)\n",
      "  Using cached pyasn1-0.6.1-py3-none-any.whl.metadata (8.4 kB)\n",
      "Requirement already satisfied: charset_normalizer<4,>=2 in c:\\users\\deepadabhi\\desktop\\projects\\temp\\agents\\.venv\\lib\\site-packages (from requests<3.0.0,>=2.18.0->google-api-core!=2.0.*,!=2.1.*,!=2.10.*,!=2.2.*,!=2.3.*,!=2.4.*,!=2.5.*,!=2.6.*,!=2.7.*,!=2.8.*,!=2.9.*,<3.0.0,>=1.34.1->google-api-core[grpc]!=2.0.*,!=2.1.*,!=2.10.*,!=2.2.*,!=2.3.*,!=2.4.*,!=2.5.*,!=2.6.*,!=2.7.*,!=2.8.*,!=2.9.*,<3.0.0,>=1.34.1->google-ai-generativelanguage<0.7.0,>=0.6.18->langchain-google-genai) (3.4.2)\n",
      "Requirement already satisfied: urllib3<3,>=1.21.1 in c:\\users\\deepadabhi\\desktop\\projects\\temp\\agents\\.venv\\lib\\site-packages (from requests<3.0.0,>=2.18.0->google-api-core!=2.0.*,!=2.1.*,!=2.10.*,!=2.2.*,!=2.3.*,!=2.4.*,!=2.5.*,!=2.6.*,!=2.7.*,!=2.8.*,!=2.9.*,<3.0.0,>=1.34.1->google-api-core[grpc]!=2.0.*,!=2.1.*,!=2.10.*,!=2.2.*,!=2.3.*,!=2.4.*,!=2.5.*,!=2.6.*,!=2.7.*,!=2.8.*,!=2.9.*,<3.0.0,>=1.34.1->google-ai-generativelanguage<0.7.0,>=0.6.18->langchain-google-genai) (2.5.0)\n",
      "Requirement already satisfied: sniffio>=1.1 in c:\\users\\deepadabhi\\desktop\\projects\\temp\\agents\\.venv\\lib\\site-packages (from anyio->httpx<1,>=0.23.0->langsmith>=0.3.45->langchain-core<0.4.0,>=0.3.68->langchain-google-genai) (1.3.1)\n",
      "Using cached langchain_google_genai-2.1.8-py3-none-any.whl (47 kB)\n",
      "Using cached filetype-1.2.0-py2.py3-none-any.whl (19 kB)\n",
      "Using cached google_ai_generativelanguage-0.6.18-py3-none-any.whl (1.4 MB)\n",
      "Using cached langchain_core-0.3.72-py3-none-any.whl (442 kB)\n",
      "Using cached google_api_core-2.25.1-py3-none-any.whl (160 kB)\n",
      "Using cached google_auth-2.40.3-py2.py3-none-any.whl (216 kB)\n",
      "Using cached proto_plus-1.26.1-py3-none-any.whl (50 kB)\n",
      "Using cached cachetools-5.5.2-py3-none-any.whl (10 kB)\n",
      "Using cached googleapis_common_protos-1.70.0-py3-none-any.whl (294 kB)\n",
      "Using cached grpcio_status-1.74.0-py3-none-any.whl (14 kB)\n",
      "Using cached protobuf-6.31.1-cp310-abi3-win_amd64.whl (435 kB)\n",
      "Using cached grpcio-1.74.0-cp312-cp312-win_amd64.whl (4.5 MB)\n",
      "Using cached pyasn1_modules-0.4.2-py3-none-any.whl (181 kB)\n",
      "Using cached rsa-4.9.1-py3-none-any.whl (34 kB)\n",
      "Using cached pyasn1-0.6.1-py3-none-any.whl (83 kB)\n",
      "Installing collected packages: filetype, pyasn1, protobuf, grpcio, cachetools, rsa, pyasn1-modules, proto-plus, googleapis-common-protos, grpcio-status, google-auth, langchain-core, google-api-core, google-ai-generativelanguage, langchain-google-genai\n",
      "  Attempting uninstall: protobuf\n",
      "    Found existing installation: protobuf 5.29.5\n",
      "    Uninstalling protobuf-5.29.5:\n",
      "      Successfully uninstalled protobuf-5.29.5\n",
      "  Attempting uninstall: grpcio\n",
      "    Found existing installation: grpcio 1.70.0\n",
      "    Uninstalling grpcio-1.70.0:\n",
      "      Successfully uninstalled grpcio-1.70.0\n",
      "  Attempting uninstall: langchain-core\n",
      "    Found existing installation: langchain-core 0.3.66\n",
      "    Uninstalling langchain-core-0.3.66:\n",
      "      Successfully uninstalled langchain-core-0.3.66\n",
      "Successfully installed cachetools-5.5.2 filetype-1.2.0 google-ai-generativelanguage-0.6.18 google-api-core-2.25.1 google-auth-2.40.3 googleapis-common-protos-1.70.0 grpcio-1.74.0 grpcio-status-1.74.0 langchain-core-0.3.72 langchain-google-genai-2.1.8 proto-plus-1.26.1 protobuf-6.31.1 pyasn1-0.6.1 pyasn1-modules-0.4.2 rsa-4.9.1\n",
      "Note: you may need to restart the kernel to use updated packages.\n"
     ]
    },
    {
     "name": "stderr",
     "output_type": "stream",
     "text": [
      "ERROR: pip's dependency resolver does not currently take into account all the packages that are installed. This behaviour is the source of the following dependency conflicts.\n",
      "autogen-core 0.6.1 requires protobuf~=5.29.3, but you have protobuf 6.31.1 which is incompatible.\n",
      "\n",
      "[notice] A new release of pip is available: 24.3.1 -> 25.1.1\n",
      "[notice] To update, run: python.exe -m pip install --upgrade pip\n"
     ]
    }
   ],
   "source": [
    "%pip install langchain-google-genai"
   ]
  },
  {
   "cell_type": "code",
   "execution_count": 21,
   "id": "e28f87f2",
   "metadata": {},
   "outputs": [],
   "source": [
    "import os # for dotenv\n",
    "import random # for randomly chosing the element\n",
    "import gradio as gr # for chat interface\n",
    "from dotenv import load_dotenv # fot dotenv\n",
    "from pydantic import BaseModel # for determining argument and return type\n",
    "from langgraph.graph import StateGraph, START, END # for building graph\n",
    "from langgraph.graph.message import add_messages # reducer passed to state\n",
    "from langchain_openai import ChatOpenAI # llm\n",
    "from langchain_google_genai import ChatGoogleGenerativeAI\n",
    "from typing import Annotated # Annotation\n",
    "from IPython.display import Image, display # displaying compiled graph\n",
    "from langchain_core.messages import SystemMessage"
   ]
  },
  {
   "cell_type": "code",
   "execution_count": 2,
   "id": "037e41af",
   "metadata": {},
   "outputs": [
    {
     "data": {
      "text/plain": [
       "True"
      ]
     },
     "execution_count": 2,
     "metadata": {},
     "output_type": "execute_result"
    }
   ],
   "source": [
    "load_dotenv(override=True)"
   ]
  },
  {
   "cell_type": "code",
   "execution_count": 5,
   "id": "845c2166",
   "metadata": {},
   "outputs": [],
   "source": [
    "# Some useful constants\n",
    "\n",
    "nouns = [\"Cabbages\", \"Unicorns\", \"Toasters\", \"Penguins\", \"Bananas\", \"Zombies\", \"Rainbows\", \"Eels\", \"Pickles\", \"Muffins\"]\n",
    "adjectives = [\"outrageous\", \"smelly\", \"pedantic\", \"existential\", \"moody\", \"sparkly\", \"untrustworthy\", \"sarcastic\", \"squishy\", \"haunted\"]"
   ]
  },
  {
   "cell_type": "code",
   "execution_count": 6,
   "id": "9cf7ad68",
   "metadata": {},
   "outputs": [],
   "source": [
    "class State(BaseModel):\n",
    "    messages: Annotated[list, add_messages]"
   ]
  },
  {
   "cell_type": "code",
   "execution_count": 7,
   "id": "281842fb",
   "metadata": {},
   "outputs": [],
   "source": [
    "graph_builder = StateGraph(State)"
   ]
  },
  {
   "cell_type": "code",
   "execution_count": 8,
   "id": "dcd65b54",
   "metadata": {},
   "outputs": [],
   "source": [
    "def our_first_node(old_state: State) -> State:\n",
    "    response = f\"{random.choice(nouns)} are {random.choice(adjectives)}\"\n",
    "    messages = [{\"role\": \"assistant\", \"content\": response}]\n",
    "    new_state = State(messages = messages)\n",
    "    return new_state"
   ]
  },
  {
   "cell_type": "code",
   "execution_count": 9,
   "id": "645dbe02",
   "metadata": {},
   "outputs": [
    {
     "data": {
      "text/plain": [
       "<langgraph.graph.state.StateGraph at 0x2ba288dfb30>"
      ]
     },
     "execution_count": 9,
     "metadata": {},
     "output_type": "execute_result"
    }
   ],
   "source": [
    "graph_builder.add_node(\"first_node\", our_first_node)\n",
    "graph_builder.add_edge(START, \"first_node\")\n",
    "graph_builder.add_edge(\"first_node\", END)"
   ]
  },
  {
   "cell_type": "code",
   "execution_count": 10,
   "id": "b101985f",
   "metadata": {},
   "outputs": [],
   "source": [
    "graph = graph_builder.compile()"
   ]
  },
  {
   "cell_type": "code",
   "execution_count": 11,
   "id": "9ec82bae",
   "metadata": {},
   "outputs": [
    {
     "data": {
      "image/png": "[encoded data removed]",
      "text/plain": [
       "<IPython.core.display.Image object>"
      ]
     },
     "metadata": {},
     "output_type": "display_data"
    }
   ],
   "source": [
    "display(Image(graph.get_graph().draw_mermaid_png()))"
   ]
  },
  {
   "cell_type": "code",
   "execution_count": 12,
   "id": "2bcbbe01",
   "metadata": {},
   "outputs": [
    {
     "name": "stdout",
     "output_type": "stream",
     "text": [
      "* Running on local URL:  http://127.0.0.1:7860\n",
      "* To create a public link, set `share=True` in `launch()`.\n"
     ]
    },
    {
     "data": {
      "text/html": [
       "<div><iframe src=\"http://127.0.0.1:7860/\" width=\"100%\" height=\"500\" allow=\"autoplay; camera; microphone; clipboard-read; clipboard-write;\" frameborder=\"0\" allowfullscreen></iframe></div>"
      ],
      "text/plain": [
       "<IPython.core.display.HTML object>"
      ]
     },
     "metadata": {},
     "output_type": "display_data"
    },
    {
     "data": {
      "text/plain": []
     },
     "execution_count": 12,
     "metadata": {},
     "output_type": "execute_result"
    }
   ],
   "source": [
    "def chat(user_input: str, history):\n",
    "    messages = [{\"role\": \"user\", \"content\": user_input}]\n",
    "    state = State(messages = messages)\n",
    "    result = graph.invoke(state)\n",
    "    print(result)\n",
    "    return result[\"messages\"][-1].content\n",
    "\n",
    "gr.ChatInterface(chat, type=\"messages\").launch()\n"
   ]
  },
  {
   "cell_type": "code",
   "execution_count": 3,
   "id": "636e2976",
   "metadata": {},
   "outputs": [],
   "source": [
    "# Step 1: Defining state\n",
    "class State(BaseModel):\n",
    "    messages: Annotated[list, add_messages]"
   ]
  },
  {
   "cell_type": "code",
   "execution_count": 4,
   "id": "df80ab04",
   "metadata": {},
   "outputs": [],
   "source": [
    "graph_builder = StateGraph(State)"
   ]
  },
  {
   "cell_type": "code",
   "execution_count": 5,
   "id": "e09fb193",
   "metadata": {},
   "outputs": [],
   "source": [
    "google_api_key = os.getenv('GOOGLE_API_KEY')\n",
    "\n",
    "llm = ChatGoogleGenerativeAI(model=\"gemini-2.0-flash\")"
   ]
  },
  {
   "cell_type": "code",
   "execution_count": 6,
   "id": "c267611d",
   "metadata": {},
   "outputs": [
    {
     "data": {
      "text/plain": [
       "<langgraph.graph.state.StateGraph at 0x25569da2840>"
      ]
     },
     "execution_count": 6,
     "metadata": {},
     "output_type": "execute_result"
    }
   ],
   "source": [
    "def chatbot_node(old_state: State) -> State:\n",
    "\n",
    "    # passing messages in the format of llm response in the case of already using llm(gemini) gives error as there is no need to do so, as it is already handled by the llm, instead pass a \n",
    "    # Don't wrap AIMessage into a dict — just pass it directly as State(messages=[reply])\n",
    "    # reply = llm.invoke(old_state.messages)\n",
    "    # messages = [{\"role\": \"assistant\", \"content\": reply}]\n",
    "    # new_state = State(messages=messages)\n",
    "    reply = llm.invoke(old_state.messages)  # returns AIMessage\n",
    "    new_state = State(messages=[reply])\n",
    "    return new_state\n",
    "\n",
    "graph_builder.add_node(\"chatbot\", chatbot_node)"
   ]
  },
  {
   "cell_type": "code",
   "execution_count": 7,
   "id": "e6b82b1e",
   "metadata": {},
   "outputs": [
    {
     "data": {
      "text/plain": [
       "<langgraph.graph.state.StateGraph at 0x25569da2840>"
      ]
     },
     "execution_count": 7,
     "metadata": {},
     "output_type": "execute_result"
    }
   ],
   "source": [
    "graph_builder.add_edge(START, \"chatbot\")\n",
    "graph_builder.add_edge(\"chatbot\", END)"
   ]
  },
  {
   "cell_type": "code",
   "execution_count": 8,
   "id": "a3f5a884",
   "metadata": {},
   "outputs": [
    {
     "data": {
      "image/png": "[encoded data removed]",
      "text/plain": [
       "<IPython.core.display.Image object>"
      ]
     },
     "metadata": {},
     "output_type": "display_data"
    }
   ],
   "source": [
    "graph = graph_builder.compile()\n",
    "display(Image(graph.get_graph().draw_mermaid_png()))"
   ]
  },
  {
   "cell_type": "code",
   "execution_count": 9,
   "id": "bc4b47b3",
   "metadata": {},
   "outputs": [
    {
     "name": "stdout",
     "output_type": "stream",
     "text": [
      "* Running on local URL:  http://127.0.0.1:7860\n",
      "* To create a public link, set `share=True` in `launch()`.\n"
     ]
    },
    {
     "data": {
      "text/html": [
       "<div><iframe src=\"http://127.0.0.1:7860/\" width=\"100%\" height=\"500\" allow=\"autoplay; camera; microphone; clipboard-read; clipboard-write;\" frameborder=\"0\" allowfullscreen></iframe></div>"
      ],
      "text/plain": [
       "<IPython.core.display.HTML object>"
      ]
     },
     "metadata": {},
     "output_type": "display_data"
    },
    {
     "data": {
      "text/plain": []
     },
     "execution_count": 9,
     "metadata": {},
     "output_type": "execute_result"
    },
    {
     "name": "stdout",
     "output_type": "stream",
     "text": [
      "{'messages': [HumanMessage(content='hi', additional_kwargs={}, response_metadata={}, id='46e7d0ec-e695-41f2-9673-0ad29d6d1eb8'), AIMessage(content='Hi there! How can I help you today?', additional_kwargs={}, response_metadata={'prompt_feedback': {'block_reason': 0, 'safety_ratings': []}, 'finish_reason': 'STOP', 'model_name': 'gemini-2.0-flash', 'safety_ratings': []}, id='run--be73d56a-d50a-4278-bf58-955cfcdb891f-0', usage_metadata={'input_tokens': 1, 'output_tokens': 11, 'total_tokens': 12, 'input_token_details': {'cache_read': 0}})]}\n",
      "{'messages': [HumanMessage(content='hello', additional_kwargs={}, response_metadata={}, id='6fc9d8af-3dfe-44bb-8cd6-824b7bc1b8d7'), AIMessage(content='Hello! How can I help you today?', additional_kwargs={}, response_metadata={'prompt_feedback': {'block_reason': 0, 'safety_ratings': []}, 'finish_reason': 'STOP', 'model_name': 'gemini-2.0-flash', 'safety_ratings': []}, id='run--6b476737-7b61-43f1-b888-95877c567075-0', usage_metadata={'input_tokens': 1, 'output_tokens': 10, 'total_tokens': 11, 'input_token_details': {'cache_read': 0}})]}\n",
      "{'messages': [HumanMessage(content='are you a bot?', additional_kwargs={}, response_metadata={}, id='ede6058e-14db-4872-95ee-dca5b898dbff'), AIMessage(content='I am a large language model, trained by Google.', additional_kwargs={}, response_metadata={'prompt_feedback': {'block_reason': 0, 'safety_ratings': []}, 'finish_reason': 'STOP', 'model_name': 'gemini-2.0-flash', 'safety_ratings': []}, id='run--5e7089de-7ef4-43bf-8450-c12450555759-0', usage_metadata={'input_tokens': 5, 'output_tokens': 12, 'total_tokens': 17, 'input_token_details': {'cache_read': 0}})]}\n",
      "{'messages': [HumanMessage(content='nice', additional_kwargs={}, response_metadata={}, id='47dfbfcc-1034-4136-8551-eba20de6bed6'), AIMessage(content=\"Thanks! I'm glad I could be helpful. Is there anything else I can do for you?\", additional_kwargs={}, response_metadata={'prompt_feedback': {'block_reason': 0, 'safety_ratings': []}, 'finish_reason': 'STOP', 'model_name': 'gemini-2.0-flash', 'safety_ratings': []}, id='run--1a450c48-d869-4948-9846-0ee12333d494-0', usage_metadata={'input_tokens': 1, 'output_tokens': 22, 'total_tokens': 23, 'input_token_details': {'cache_read': 0}})]}\n",
      "{'messages': [HumanMessage(content='close the session now', additional_kwargs={}, response_metadata={}, id='43828b6f-148c-4b53-9416-f9f4e21a6b78'), AIMessage(content='Okay, I am now closing the session. If you need anything in the future, feel free to start a new chat. Goodbye!', additional_kwargs={}, response_metadata={'prompt_feedback': {'block_reason': 0, 'safety_ratings': []}, 'finish_reason': 'STOP', 'model_name': 'gemini-2.0-flash', 'safety_ratings': []}, id='run--e8ba50e8-1feb-4182-a11d-955c63bcd3f2-0', usage_metadata={'input_tokens': 4, 'output_tokens': 28, 'total_tokens': 32, 'input_token_details': {'cache_read': 0}})]}\n",
      "{'messages': [HumanMessage(content='2 + 2 ?', additional_kwargs={}, response_metadata={}, id='b30731c0-343c-42af-a93c-802ba495fad5'), AIMessage(content='2 + 2 = 4', additional_kwargs={}, response_metadata={'prompt_feedback': {'block_reason': 0, 'safety_ratings': []}, 'finish_reason': 'STOP', 'model_name': 'gemini-2.0-flash', 'safety_ratings': []}, id='run--d3cec0e9-a8b7-45b9-b945-c7351c82b662-0', usage_metadata={'input_tokens': 5, 'output_tokens': 8, 'total_tokens': 13, 'input_token_details': {'cache_read': 0}})]}\n",
      "{'messages': [HumanMessage(content='what was my previous query?', additional_kwargs={}, response_metadata={}, id='a376c711-4f32-427f-9ba9-71746cbe700a'), AIMessage(content=\"I'm sorry, but I do not have access to your previous queries. I am a stateless model, which means I do not retain information from past conversations.\", additional_kwargs={}, response_metadata={'prompt_feedback': {'block_reason': 0, 'safety_ratings': []}, 'finish_reason': 'STOP', 'model_name': 'gemini-2.0-flash', 'safety_ratings': []}, id='run--958ddebd-d2f4-4bb0-84ee-4b231fdd5f2c-0', usage_metadata={'input_tokens': 6, 'output_tokens': 35, 'total_tokens': 41, 'input_token_details': {'cache_read': 0}})]}\n"
     ]
    }
   ],
   "source": [
    "def chat(user_input: str, history):\n",
    "    state = State(messages = [{\"role\": \"user\", \"content\": user_input}])\n",
    "    result = graph.invoke(state)\n",
    "    print(result)\n",
    "    return result['messages'][-1].content\n",
    "\n",
    "gr.ChatInterface(chat, type=\"messages\").launch()"
   ]
  },
  {
   "cell_type": "code",
   "execution_count": null,
   "id": "e5a7933a",
   "metadata": {},
   "outputs": [],
   "source": []
  },
  {
   "cell_type": "code",
   "execution_count": 26,
   "id": "86d2f4f4",
   "metadata": {},
   "outputs": [
    {
     "data": {
      "image/png": "[encoded data removed]",
      "text/plain": [
       "<IPython.core.display.Image object>"
      ]
     },
     "metadata": {},
     "output_type": "display_data"
    },
    {
     "name": "stdout",
     "output_type": "stream",
     "text": [
      "* Running on local URL:  http://127.0.0.1:7873\n",
      "* To create a public link, set `share=True` in `launch()`.\n"
     ]
    },
    {
     "data": {
      "text/html": [
       "<div><iframe src=\"http://127.0.0.1:7873/\" width=\"100%\" height=\"500\" allow=\"autoplay; camera; microphone; clipboard-read; clipboard-write;\" frameborder=\"0\" allowfullscreen></iframe></div>"
      ],
      "text/plain": [
       "<IPython.core.display.HTML object>"
      ]
     },
     "metadata": {},
     "output_type": "display_data"
    },
    {
     "data": {
      "text/plain": []
     },
     "execution_count": 26,
     "metadata": {},
     "output_type": "execute_result"
    },
    {
     "name": "stdout",
     "output_type": "stream",
     "text": [
      "{'messages': [HumanMessage(content='1+2', additional_kwargs={}, response_metadata={}, id='9315749b-8bba-45ea-a1fd-3b084bf43acf'), AIMessage(content='1 + 2 = 3', additional_kwargs={}, response_metadata={'prompt_feedback': {'block_reason': 0, 'safety_ratings': []}, 'finish_reason': 'STOP', 'model_name': 'gemini-2.0-flash', 'safety_ratings': []}, id='run--38b6bc50-3c8c-423d-b3bc-4bb6a41826a9-0', usage_metadata={'input_tokens': 3, 'output_tokens': 8, 'total_tokens': 11, 'input_token_details': {'cache_read': 0}})]}\n",
      "{'messages': [HumanMessage(content='1+2', additional_kwargs={'metadata': None, 'options': None}, response_metadata={}, id='1ee8a3fe-c9d1-4c09-8a4e-abf7bbf6c035'), AIMessage(content='1 + 2 = 3', additional_kwargs={'metadata': None, 'options': None}, response_metadata={}, id='6676cbf2-bbd1-4b6d-8cb5-1500673cb842'), HumanMessage(content='1+2', additional_kwargs={}, response_metadata={}, id='2737d7fc-7710-45c7-9cd8-b489dd0657fb'), AIMessage(content='3', additional_kwargs={}, response_metadata={'prompt_feedback': {'block_reason': 0, 'safety_ratings': []}, 'finish_reason': 'STOP', 'model_name': 'gemini-2.0-flash', 'safety_ratings': []}, id='run--9d3f050b-1c05-4139-88fa-00b8da665d3e-0', usage_metadata={'input_tokens': 13, 'output_tokens': 2, 'total_tokens': 15, 'input_token_details': {'cache_read': 0}})]}\n",
      "{'messages': [HumanMessage(content='1+2', additional_kwargs={'metadata': None, 'options': None}, response_metadata={}, id='6c4dcfa6-5d85-4a7b-b681-4a5d37e64914'), AIMessage(content='1 + 2 = 3', additional_kwargs={'metadata': None, 'options': None}, response_metadata={}, id='27b05b0f-9a68-4e35-8539-e3d3e1b64ec7'), HumanMessage(content='1+2', additional_kwargs={'metadata': None, 'options': None}, response_metadata={}, id='8cb7f0c1-e3d5-460d-b3aa-e5bf471cd122'), AIMessage(content='3', additional_kwargs={'metadata': None, 'options': None}, response_metadata={}, id='1e83fa75-cd66-4adc-8123-b387a79f7e17'), HumanMessage(content='1+2', additional_kwargs={}, response_metadata={}, id='9efe929e-b11f-4686-9df9-66928ce7fe55'), AIMessage(content='3', additional_kwargs={}, response_metadata={'prompt_feedback': {'block_reason': 0, 'safety_ratings': []}, 'finish_reason': 'STOP', 'model_name': 'gemini-2.0-flash', 'safety_ratings': []}, id='run--e0a2f63c-85e0-4ff0-a68a-d26e1638361b-0', usage_metadata={'input_tokens': 17, 'output_tokens': 2, 'total_tokens': 19, 'input_token_details': {'cache_read': 0}})]}\n",
      "{'messages': [HumanMessage(content='1+2', additional_kwargs={'metadata': None, 'options': None}, response_metadata={}, id='e55977df-8ce3-4801-8aec-bd6fd3f9c2e3'), AIMessage(content='1 + 2 = 3', additional_kwargs={'metadata': None, 'options': None}, response_metadata={}, id='4cb2e478-b228-4134-8c03-0f5a16a9d142'), HumanMessage(content='1+2', additional_kwargs={'metadata': None, 'options': None}, response_metadata={}, id='9ac9c8d0-3c61-4a89-84c5-686e8328f9f9'), AIMessage(content='3', additional_kwargs={'metadata': None, 'options': None}, response_metadata={}, id='de5cc681-6477-4ddd-9b77-602ce28cdd4a'), HumanMessage(content='1+2', additional_kwargs={'metadata': None, 'options': None}, response_metadata={}, id='da9d3102-c571-4df0-b8ad-fd3fc7699534'), AIMessage(content='3', additional_kwargs={'metadata': None, 'options': None}, response_metadata={}, id='7d218b58-8423-4385-8368-0cccd41558ca'), HumanMessage(content='1+2', additional_kwargs={}, response_metadata={}, id='efc88366-85f4-4c2c-bf32-6f83b0f660d2'), AIMessage(content='3', additional_kwargs={}, response_metadata={'prompt_feedback': {'block_reason': 0, 'safety_ratings': []}, 'finish_reason': 'STOP', 'model_name': 'gemini-2.0-flash', 'safety_ratings': []}, id='run--11a4b3f4-f0e9-4a2e-ace1-5a2ef91509bb-0', usage_metadata={'input_tokens': 21, 'output_tokens': 2, 'total_tokens': 23, 'input_token_details': {'cache_read': 0}})]}\n",
      "{'messages': [HumanMessage(content='1+2', additional_kwargs={'metadata': None, 'options': None}, response_metadata={}, id='02513c71-9d11-4974-bf6d-5d8dbc2bc45c'), AIMessage(content='1 + 2 = 3', additional_kwargs={'metadata': None, 'options': None}, response_metadata={}, id='c24e023b-3b49-4d3a-a4c2-8623dbafbed6'), HumanMessage(content='1+2', additional_kwargs={'metadata': None, 'options': None}, response_metadata={}, id='ca80c142-53ed-4b95-b4fc-b457e5a382fa'), AIMessage(content='3', additional_kwargs={'metadata': None, 'options': None}, response_metadata={}, id='ad1c3e99-1841-4c42-b211-92e012de160c'), HumanMessage(content='1+2', additional_kwargs={'metadata': None, 'options': None}, response_metadata={}, id='b85d4e9c-9b9b-4419-aa6d-ce056843e006'), AIMessage(content='3', additional_kwargs={'metadata': None, 'options': None}, response_metadata={}, id='d416268a-df03-47a2-9df4-a47ea46cfa50'), HumanMessage(content='1+2', additional_kwargs={'metadata': None, 'options': None}, response_metadata={}, id='5e28e56d-646d-44de-8a93-9d649c3b23b5'), AIMessage(content='3', additional_kwargs={'metadata': None, 'options': None}, response_metadata={}, id='dd9d7d7f-121e-41d5-8794-d7450934cbaf'), HumanMessage(content='2+3', additional_kwargs={}, response_metadata={}, id='1be4287d-597e-40e6-be71-50826ea247ed'), AIMessage(content='5', additional_kwargs={}, response_metadata={'prompt_feedback': {'block_reason': 0, 'safety_ratings': []}, 'finish_reason': 'STOP', 'model_name': 'gemini-2.0-flash', 'safety_ratings': []}, id='run--c9328a3e-b9bc-4205-a075-f4c5faadd408-0', usage_metadata={'input_tokens': 25, 'output_tokens': 2, 'total_tokens': 27, 'input_token_details': {'cache_read': 0}})]}\n",
      "{'messages': [HumanMessage(content='1+2', additional_kwargs={'metadata': None, 'options': None}, response_metadata={}, id='5da4699e-062b-409a-9d18-1d16df2b4905'), AIMessage(content='1 + 2 = 3', additional_kwargs={'metadata': None, 'options': None}, response_metadata={}, id='e177f96c-a2f7-477c-b23d-830749dc09d1'), HumanMessage(content='1+2', additional_kwargs={'metadata': None, 'options': None}, response_metadata={}, id='1b995361-2949-4bcd-98d5-ba318a8f8abf'), AIMessage(content='3', additional_kwargs={'metadata': None, 'options': None}, response_metadata={}, id='ce171441-1b87-4e4a-99c2-45d6f851f4d9'), HumanMessage(content='1+2', additional_kwargs={'metadata': None, 'options': None}, response_metadata={}, id='361f21f4-e921-4e76-9a6d-834292ea818d'), AIMessage(content='3', additional_kwargs={'metadata': None, 'options': None}, response_metadata={}, id='55acf700-b02f-4594-a9ed-ba4fe5f6c337'), HumanMessage(content='1+2', additional_kwargs={'metadata': None, 'options': None}, response_metadata={}, id='cf4ba39c-9e0f-4dce-ad3f-aacf2b05e7bb'), AIMessage(content='3', additional_kwargs={'metadata': None, 'options': None}, response_metadata={}, id='b3b57fae-1806-470e-81d7-b9c7d57738bc'), HumanMessage(content='2+3', additional_kwargs={'metadata': None, 'options': None}, response_metadata={}, id='0d4b0006-2145-4396-a71c-e289d48e3291'), AIMessage(content='5', additional_kwargs={'metadata': None, 'options': None}, response_metadata={}, id='96d87b63-0225-4685-9b44-bbe732026989'), HumanMessage(content='3+4', additional_kwargs={}, response_metadata={}, id='232c28c2-2cc1-4ea6-b079-8ec559f56f43'), AIMessage(content='7', additional_kwargs={}, response_metadata={'prompt_feedback': {'block_reason': 0, 'safety_ratings': []}, 'finish_reason': 'STOP', 'model_name': 'gemini-2.0-flash', 'safety_ratings': []}, id='run--46b6a3a5-5fb0-4ced-9c19-a1168070ca34-0', usage_metadata={'input_tokens': 29, 'output_tokens': 2, 'total_tokens': 31, 'input_token_details': {'cache_read': 0}})]}\n",
      "{'messages': [HumanMessage(content='1+2', additional_kwargs={'metadata': None, 'options': None}, response_metadata={}, id='df29f502-469e-4de3-9a06-d9aa0223701f'), AIMessage(content='1 + 2 = 3', additional_kwargs={'metadata': None, 'options': None}, response_metadata={}, id='8a823f0f-2ba8-4ea8-b88d-ae98b2ed96eb'), HumanMessage(content='1+2', additional_kwargs={'metadata': None, 'options': None}, response_metadata={}, id='e4d0326b-7648-4198-b0a5-d7e05401f9d6'), AIMessage(content='3', additional_kwargs={'metadata': None, 'options': None}, response_metadata={}, id='b15f6332-d2f4-483d-9654-aba58c34dc56'), HumanMessage(content='1+2', additional_kwargs={'metadata': None, 'options': None}, response_metadata={}, id='0b06bf88-b3bd-4e90-ac0f-7ad1d52e956c'), AIMessage(content='3', additional_kwargs={'metadata': None, 'options': None}, response_metadata={}, id='04d94534-d399-42eb-b9bd-94d4a97407e7'), HumanMessage(content='1+2', additional_kwargs={'metadata': None, 'options': None}, response_metadata={}, id='7a674455-ea05-439b-b003-0a44e7db3dc6'), AIMessage(content='3', additional_kwargs={'metadata': None, 'options': None}, response_metadata={}, id='51de73cf-b8d9-4c99-bdb1-937e33472828'), HumanMessage(content='2+3', additional_kwargs={'metadata': None, 'options': None}, response_metadata={}, id='aa42396b-8093-46bf-a93a-1eb306029af2'), AIMessage(content='5', additional_kwargs={'metadata': None, 'options': None}, response_metadata={}, id='98457436-6699-4a3e-b798-26b14d07a3d7'), HumanMessage(content='3+4', additional_kwargs={'metadata': None, 'options': None}, response_metadata={}, id='89a42c3b-96a7-4e08-87ce-52af999e3399'), AIMessage(content='7', additional_kwargs={'metadata': None, 'options': None}, response_metadata={}, id='f31ad7d9-608b-4e5e-9c23-c8c25955b188'), HumanMessage(content='5+7+', additional_kwargs={}, response_metadata={}, id='e99856fc-27d1-4b90-b97b-79ce82bc6b40'), AIMessage(content='5 + 7 = 12\\n\\nPlease provide the complete expression so I can give you the final answer.  For example, is it 5+7+2, 5+7+5, etc.?', additional_kwargs={}, response_metadata={'prompt_feedback': {'block_reason': 0, 'safety_ratings': []}, 'finish_reason': 'STOP', 'model_name': 'gemini-2.0-flash', 'safety_ratings': []}, id='run--d5d19be8-cdca-4c1e-90de-e22312203e2e-0', usage_metadata={'input_tokens': 34, 'output_tokens': 46, 'total_tokens': 80, 'input_token_details': {'cache_read': 0}})]}\n",
      "{'messages': [HumanMessage(content='1+2', additional_kwargs={'metadata': None, 'options': None}, response_metadata={}, id='4c43ccb6-cbcd-402a-96e2-576155c2d519'), AIMessage(content='1 + 2 = 3', additional_kwargs={'metadata': None, 'options': None}, response_metadata={}, id='1f1c2c92-bce4-476e-8cb9-8e9447073fb4'), HumanMessage(content='1+2', additional_kwargs={'metadata': None, 'options': None}, response_metadata={}, id='b2492862-70e3-4d5f-acb4-94a38d73d0bf'), AIMessage(content='3', additional_kwargs={'metadata': None, 'options': None}, response_metadata={}, id='f2a2d700-c13a-40fd-a164-909a474b9464'), HumanMessage(content='1+2', additional_kwargs={'metadata': None, 'options': None}, response_metadata={}, id='5596a034-c034-44b4-9573-28c7d40080a3'), AIMessage(content='3', additional_kwargs={'metadata': None, 'options': None}, response_metadata={}, id='1bfbed03-3501-4503-a22d-17d35218e353'), HumanMessage(content='1+2', additional_kwargs={'metadata': None, 'options': None}, response_metadata={}, id='4fd44b57-c7fa-4de9-88d5-168074a9bc15'), AIMessage(content='3', additional_kwargs={'metadata': None, 'options': None}, response_metadata={}, id='844adbb5-58cd-4b10-94b3-37c578205f40'), HumanMessage(content='2+3', additional_kwargs={'metadata': None, 'options': None}, response_metadata={}, id='3fc66bcd-ec1c-4e8f-b22b-24338e0c47f9'), AIMessage(content='5', additional_kwargs={'metadata': None, 'options': None}, response_metadata={}, id='958c1ef4-49ef-4b2a-ac69-795ba1247cf9'), HumanMessage(content='3+4', additional_kwargs={'metadata': None, 'options': None}, response_metadata={}, id='031de346-3f0c-4580-85e0-924e71fa6fac'), AIMessage(content='7', additional_kwargs={'metadata': None, 'options': None}, response_metadata={}, id='c5b959c5-5a01-4205-9859-dfecace2e5a8'), HumanMessage(content='5+7+', additional_kwargs={'metadata': None, 'options': None}, response_metadata={}, id='ddefa60c-575c-40e2-aa36-ab7c18963070'), AIMessage(content='5 + 7 = 12\\n\\nPlease provide the complete expression so I can give you the final answer.  For example, is it 5+7+2, 5+7+5, etc.?', additional_kwargs={'metadata': None, 'options': None}, response_metadata={}, id='9b3de1c3-caf9-4d42-a3ae-2bf4d903d2d4'), HumanMessage(content='43+', additional_kwargs={}, response_metadata={}, id='d2ba6586-2a4e-4e92-8d25-acc4eb9b695f'), AIMessage(content='43 + ?\\n\\nI need another number to add to 43.  Please provide the complete expression.', additional_kwargs={}, response_metadata={'prompt_feedback': {'block_reason': 0, 'safety_ratings': []}, 'finish_reason': 'STOP', 'model_name': 'gemini-2.0-flash', 'safety_ratings': []}, id='run--52cd24c8-3f1e-4106-ad23-f48684e4ebab-0', usage_metadata={'input_tokens': 82, 'output_tokens': 24, 'total_tokens': 106, 'input_token_details': {'cache_read': 0}})]}\n",
      "{'messages': [HumanMessage(content='1+2', additional_kwargs={'metadata': None, 'options': None}, response_metadata={}, id='39158fca-baab-4e52-8e1c-0ee37f8a5c02'), AIMessage(content='1 + 2 = 3', additional_kwargs={'metadata': None, 'options': None}, response_metadata={}, id='7acb2531-5ccf-4ebd-be1a-ec6e9b4264ac'), HumanMessage(content='1+2', additional_kwargs={'metadata': None, 'options': None}, response_metadata={}, id='1950bfb9-7ff5-4b4a-8eee-8d839fefe917'), AIMessage(content='3', additional_kwargs={'metadata': None, 'options': None}, response_metadata={}, id='571c7b24-32a1-48d5-ac72-52ef2ffcb3be'), HumanMessage(content='1+2', additional_kwargs={'metadata': None, 'options': None}, response_metadata={}, id='89eeed97-a2c3-406a-827d-0dfbbf75b3d9'), AIMessage(content='3', additional_kwargs={'metadata': None, 'options': None}, response_metadata={}, id='ae9df9be-e294-4d8f-814a-d77b4f8f95e0'), HumanMessage(content='1+2', additional_kwargs={'metadata': None, 'options': None}, response_metadata={}, id='464c4af5-8c58-4cf7-b11f-ff3e7a2a0f4d'), AIMessage(content='3', additional_kwargs={'metadata': None, 'options': None}, response_metadata={}, id='7f67149d-02a6-4749-bde0-b906fcc2edd6'), HumanMessage(content='2+3', additional_kwargs={'metadata': None, 'options': None}, response_metadata={}, id='fccfd294-6f7e-4e6e-90dc-63d2a6bd666b'), AIMessage(content='5', additional_kwargs={'metadata': None, 'options': None}, response_metadata={}, id='64a934fa-412f-42f7-8eae-b67cdcc616f7'), HumanMessage(content='3+4', additional_kwargs={'metadata': None, 'options': None}, response_metadata={}, id='08bbb362-c0ed-4b00-b3cf-5811d9c63748'), AIMessage(content='7', additional_kwargs={'metadata': None, 'options': None}, response_metadata={}, id='2f2f5b6a-f519-4765-b121-7f969c7db7b1'), HumanMessage(content='5+7+', additional_kwargs={'metadata': None, 'options': None}, response_metadata={}, id='b33e54ff-b642-4ec0-ad5b-49cc863e5416'), AIMessage(content='5 + 7 = 12\\n\\nPlease provide the complete expression so I can give you the final answer.  For example, is it 5+7+2, 5+7+5, etc.?', additional_kwargs={'metadata': None, 'options': None}, response_metadata={}, id='b1c3eb94-ea4f-491d-ac15-66aed25ec9c5'), HumanMessage(content='43+', additional_kwargs={'metadata': None, 'options': None}, response_metadata={}, id='e05c9668-f4ec-479e-b09a-386ef511c12e'), AIMessage(content='43 + ?\\n\\nI need another number to add to 43.  Please provide the complete expression.', additional_kwargs={'metadata': None, 'options': None}, response_metadata={}, id='63ef5860-9453-43ae-9c66-856d210b806b'), HumanMessage(content='454+312', additional_kwargs={}, response_metadata={}, id='9eb62322-1a28-4280-adc3-20f9592d4a28'), AIMessage(content='454 + 312 = 766', additional_kwargs={}, response_metadata={'prompt_feedback': {'block_reason': 0, 'safety_ratings': []}, 'finish_reason': 'STOP', 'model_name': 'gemini-2.0-flash', 'safety_ratings': []}, id='run--1805fd46-ff44-4502-83ee-8e89c2d8077f-0', usage_metadata={'input_tokens': 112, 'output_tokens': 14, 'total_tokens': 126, 'input_token_details': {'cache_read': 0}})]}\n"
     ]
    }
   ],
   "source": [
    "from typing import Annotated\n",
    "import os\n",
    "from pydantic import BaseModel\n",
    "from IPython.display import display, Image\n",
    "from dotenv import load_dotenv\n",
    "from langgraph.graph import StateGraph, START, END\n",
    "from langgraph.graph.message import add_messages\n",
    "import gradio as gr\n",
    "from langchain_google_genai import ChatGoogleGenerativeAI\n",
    "\n",
    "load_dotenv(override=True)\n",
    "google_api_key = os.getenv('GOOGLE_API_KEY')\n",
    "\n",
    "class State(BaseModel):\n",
    "    messages: Annotated[list, add_messages]\n",
    "\n",
    "graph_builder = StateGraph(State)\n",
    "\n",
    "llm = ChatGoogleGenerativeAI(model=\"gemini-2.0-flash\", google_api_key=google_api_key)\n",
    "\n",
    "def chatbot_node(old_state: State) -> State:\n",
    "    # Invoke the LLM with the current messages\n",
    "    # sends [HumanMessage(content=\"hi\")] to the Gemini model.\n",
    "    reply = llm.invoke(old_state.messages)  # Returns AIMessage\n",
    "    \n",
    "    # Append the reply to the existing messages using add_messages\n",
    "    new_messages = old_state.messages + [reply]\n",
    "    \n",
    "    # here, add_messages ensures the HumanMessage and AIMessage are appended correctly.\n",
    "    # this returns dictionary containing \"messages\" array\n",
    "    new_state = State(messages=new_messages)\n",
    "    return new_state\n",
    "\n",
    "# Add the node and edges\n",
    "graph_builder.add_node(\"chatbot\", chatbot_node)\n",
    "graph_builder.add_edge(START, \"chatbot\")\n",
    "graph_builder.add_edge(\"chatbot\", END)\n",
    "\n",
    "# Compile the graph\n",
    "graph = graph_builder.compile()\n",
    "\n",
    "# Visualize the graph\n",
    "display(Image(graph.get_graph().draw_mermaid_png()))\n",
    "\n",
    "# Define the chat function to handle Gradio input and history\n",
    "def chat(user_input: str, history: list):\n",
    "    # Use history directly; if empty, include the user_input\n",
    "    messages = history or [{\"role\": \"user\", \"content\": user_input}]\n",
    "    \n",
    "    # If history is not empty, ensure the last user input isn't duplicated\n",
    "    if history and history[-1][\"role\"] == \"user\" and history[-1][\"content\"] == user_input:\n",
    "        messages = history\n",
    "    else:\n",
    "        messages = history + [{\"role\": \"user\", \"content\": user_input}]\n",
    "    \n",
    "    # Create the State object\n",
    "    # the State class processes the message using add_messages\n",
    "    # add_message converts the dictionary messages to a HumanMessage object\n",
    "    state = State(messages=messages)\n",
    "\n",
    "    # Invoke the graph\n",
    "    # this graph will run the chatbot_node\n",
    "    result = graph.invoke(state)\n",
    "    print(result)\n",
    "    # Return the latest assistant message for Gradio\n",
    "    return result['messages'][-1].content\n",
    "\n",
    "# Launch the Gradio interface\n",
    "gr.ChatInterface(chat, type=\"messages\").launch()\n",
    "\n",
    "\n",
    "\n",
    "\n",
    "#--------------------------\n",
    "# add_message is invoked when State object is created (State(messages=messages)) or updated (new_state = State(messages=new_messages))\n",
    "# add_message functionality:\n",
    "#    converts the input dictionaries to HumanMessage objects\n",
    "#    appends the AIMessage objects from LLM to the messages list\n",
    "#    it ensures the list maintains the order, (user → assistant → user → assistant)\n",
    "#--------------------------"
   ]
  },
  {
   "cell_type": "code",
   "execution_count": null,
   "id": "a1bf533a",
   "metadata": {},
   "outputs": [],
   "source": []
  },
  {
   "cell_type": "code",
   "execution_count": 28,
   "metadata": {},
   "outputs": [
    {
     "data": {
      "image/png": "[encoded data removed]",
      "text/plain": [
       "<IPython.core.display.Image object>"
      ]
     },
     "metadata": {},
     "output_type": "display_data"
    },
    {
     "name": "stdout",
     "output_type": "stream",
     "text": [
      "* Running on local URL:  http://127.0.0.1:7875\n",
      "* To create a public link, set `share=True` in `launch()`.\n"
     ]
    },
    {
     "data": {
      "text/html": [
       "<div><iframe src=\"http://127.0.0.1:7875/\" width=\"100%\" height=\"500\" allow=\"autoplay; camera; microphone; clipboard-read; clipboard-write;\" frameborder=\"0\" allowfullscreen></iframe></div>"
      ],
      "text/plain": [
       "<IPython.core.display.HTML object>"
      ]
     },
     "metadata": {},
     "output_type": "display_data"
    },
    {
     "data": {
      "text/plain": []
     },
     "execution_count": 28,
     "metadata": {},
     "output_type": "execute_result"
    },
    {
     "name": "stdout",
     "output_type": "stream",
     "text": [
      "{'messages': [HumanMessage(content='1', additional_kwargs={}, response_metadata={}, id='aa5749f4-f495-4664-99c8-b7c4f9b306d2'), AIMessage(content=\"Okay. Is there anything specific you'd like me to do with the number 1? For example:\\n\\n*   **Calculate something with it?** (e.g., 1 + 1, 1 * 5)\\n*   **Tell you a fact about it?**\\n*   **Use it in a sentence?**\\n*   **Include it in a list?**\\n\\nLet me know how I can help!\", additional_kwargs={}, response_metadata={'prompt_feedback': {'block_reason': 0, 'safety_ratings': []}, 'finish_reason': 'STOP', 'model_name': 'gemini-2.0-flash', 'safety_ratings': []}, id='run--6f366b57-b7a8-4f96-96b7-e578c5997d9b-0', usage_metadata={'input_tokens': 1, 'output_tokens': 93, 'total_tokens': 94, 'input_token_details': {'cache_read': 0}})]}\n",
      "{'messages': [HumanMessage(content='1', additional_kwargs={'metadata': None, 'options': None}, response_metadata={}, id='1ef8d739-7fc1-4dc8-8727-9d3fa68c5258'), AIMessage(content=\"Okay. Is there anything specific you'd like me to do with the number 1? For example:\\n\\n*   **Calculate something with it?** (e.g., 1 + 1, 1 * 5)\\n*   **Tell you a fact about it?**\\n*   **Use it in a sentence?**\\n*   **Include it in a list?**\\n\\nLet me know how I can help!\", additional_kwargs={'metadata': None, 'options': None}, response_metadata={}, id='436a2ed8-9e8b-4eb5-a0b1-32a40a7a0dc6'), HumanMessage(content='ji', additional_kwargs={}, response_metadata={}, id='d1a13055-7542-4acf-80c6-6fcf56dd4cdf'), AIMessage(content='\"Ji\" doesn\\'t have a standard meaning in English. It could be:\\n\\n*   **A name:** \"Ji\" could be someone\\'s name.\\n*   **Part of a word:** It could be the beginning or end of a longer word.\\n*   **A transliteration:** It could be a transliteration of a word from another language (like Mandarin Chinese, Japanese, or Korean). For example, in Mandarin Chinese, depending on the tone, \"Ji\" can mean several different things (chicken, machine, remember, etc.).\\n*   **A typo:** It could be a typo for another word.\\n\\nTo help me understand, could you provide more context? Where did you see this word? What were you talking about before you said \"ji\"? Knowing more will help me understand what you mean.', additional_kwargs={}, response_metadata={'prompt_feedback': {'block_reason': 0, 'safety_ratings': []}, 'finish_reason': 'STOP', 'model_name': 'gemini-2.0-flash', 'safety_ratings': []}, id='run--12535cb4-97df-42af-a9dc-b81e3044b342-0', usage_metadata={'input_tokens': 94, 'output_tokens': 171, 'total_tokens': 265, 'input_token_details': {'cache_read': 0}})]}\n",
      "{'messages': [AIMessage(content=\"Okay. Is there anything specific you'd like me to do with the number 1? For example:\\n\\n*   **Calculate something with it?** (e.g., 1 + 1, 1 * 5)\\n*   **Tell you a fact about it?**\\n*   **Use it in a sentence?**\\n*   **Include it in a list?**\\n\\nLet me know how I can help!\", additional_kwargs={'metadata': None, 'options': None}, response_metadata={}, id='1e66ca07-8497-454f-b3cb-054dd7320b1e'), HumanMessage(content='ji', additional_kwargs={'metadata': None, 'options': None}, response_metadata={}, id='b7f91846-66ea-4fdd-84fa-3ae2dc5d62e5'), AIMessage(content='\"Ji\" doesn\\'t have a standard meaning in English. It could be:\\n\\n*   **A name:** \"Ji\" could be someone\\'s name.\\n*   **Part of a word:** It could be the beginning or end of a longer word.\\n*   **A transliteration:** It could be a transliteration of a word from another language (like Mandarin Chinese, Japanese, or Korean). For example, in Mandarin Chinese, depending on the tone, \"Ji\" can mean several different things (chicken, machine, remember, etc.).\\n*   **A typo:** It could be a typo for another word.\\n\\nTo help me understand, could you provide more context? Where did you see this word? What were you talking about before you said \"ji\"? Knowing more will help me understand what you mean.', additional_kwargs={'metadata': None, 'options': None}, response_metadata={}, id='42790966-b40b-4011-91eb-4c140b5856f3'), HumanMessage(content='hi', additional_kwargs={}, response_metadata={}, id='0f17cf24-0624-49a2-8e7c-430103f715eb'), AIMessage(content='Hi there! How can I help you today?', additional_kwargs={}, response_metadata={'prompt_feedback': {'block_reason': 0, 'safety_ratings': []}, 'finish_reason': 'STOP', 'model_name': 'gemini-2.0-flash', 'safety_ratings': []}, id='run--8c4703bf-eb14-427b-ab38-929d89d7dfb3-0', usage_metadata={'input_tokens': 264, 'output_tokens': 11, 'total_tokens': 275, 'input_token_details': {'cache_read': 0}})]}\n",
      "{'messages': [AIMessage(content='\"Ji\" doesn\\'t have a standard meaning in English. It could be:\\n\\n*   **A name:** \"Ji\" could be someone\\'s name.\\n*   **Part of a word:** It could be the beginning or end of a longer word.\\n*   **A transliteration:** It could be a transliteration of a word from another language (like Mandarin Chinese, Japanese, or Korean). For example, in Mandarin Chinese, depending on the tone, \"Ji\" can mean several different things (chicken, machine, remember, etc.).\\n*   **A typo:** It could be a typo for another word.\\n\\nTo help me understand, could you provide more context? Where did you see this word? What were you talking about before you said \"ji\"? Knowing more will help me understand what you mean.', additional_kwargs={'metadata': None, 'options': None}, response_metadata={}, id='32795377-75a4-4bb1-b41e-a22bec557210'), HumanMessage(content='hi', additional_kwargs={'metadata': None, 'options': None}, response_metadata={}, id='1cb5ea98-da6d-45a0-8275-aa1337d5f511'), AIMessage(content='Hi there! How can I help you today?', additional_kwargs={'metadata': None, 'options': None}, response_metadata={}, id='4001a429-c866-45f5-8bad-66d99eeab355'), HumanMessage(content='thanks', additional_kwargs={}, response_metadata={}, id='c73ca4b8-066d-4055-a471-cdd1dd9530ff'), AIMessage(content=\"You're welcome! Let me know if you need anything else.\", additional_kwargs={}, response_metadata={'prompt_feedback': {'block_reason': 0, 'safety_ratings': []}, 'finish_reason': 'STOP', 'model_name': 'gemini-2.0-flash', 'safety_ratings': []}, id='run--e94e03e0-92e9-429d-bdea-91291f530289-0', usage_metadata={'input_tokens': 182, 'output_tokens': 15, 'total_tokens': 197, 'input_token_details': {'cache_read': 0}})]}\n",
      "{'messages': [AIMessage(content='Hi there! How can I help you today?', additional_kwargs={'metadata': None, 'options': None}, response_metadata={}, id='d295cd48-e0d9-4a9a-9b5d-607bac509a2d'), HumanMessage(content='thanks', additional_kwargs={'metadata': None, 'options': None}, response_metadata={}, id='1b3d85eb-d213-438c-9cfd-c38959f4b432'), AIMessage(content=\"You're welcome! Let me know if you need anything else.\", additional_kwargs={'metadata': None, 'options': None}, response_metadata={}, id='1da545a2-deab-44de-bf74-dde93a6ff7f3'), HumanMessage(content='ohh', additional_kwargs={}, response_metadata={}, id='f2e5ef3f-7fb6-4f27-adaa-98db15b11d31'), AIMessage(content='Okay! Still here if you have a question or want to chat about something. Just let me know! 😊', additional_kwargs={}, response_metadata={'prompt_feedback': {'block_reason': 0, 'safety_ratings': []}, 'finish_reason': 'STOP', 'model_name': 'gemini-2.0-flash', 'safety_ratings': []}, id='run--a1d16f5c-adc4-457d-a0ba-c94cf90b41cf-0', usage_metadata={'input_tokens': 26, 'output_tokens': 23, 'total_tokens': 49, 'input_token_details': {'cache_read': 0}})]}\n",
      "{'messages': [AIMessage(content=\"You're welcome! Let me know if you need anything else.\", additional_kwargs={'metadata': None, 'options': None}, response_metadata={}, id='00e38578-c60d-4547-913f-571fa1c1accc'), HumanMessage(content='ohh', additional_kwargs={'metadata': None, 'options': None}, response_metadata={}, id='163ee0d9-8f4f-477f-9af9-c92f0c24f32b'), AIMessage(content='Okay! Still here if you have a question or want to chat about something. Just let me know! 😊', additional_kwargs={'metadata': None, 'options': None}, response_metadata={}, id='acb97568-ba43-4c23-a254-8edc312fcf19'), HumanMessage(content='movr', additional_kwargs={}, response_metadata={}, id='3aee5b79-53cc-4ad1-88c5-e41d797727f0'), AIMessage(content='\"Movr\" could refer to a few different things. To help me understand what you\\'re looking for, could you tell me more? For example, are you interested in:\\n\\n*   **The cryptocurrency MOVR (Moonriver)?**\\n*   **A company or product named Movr?**\\n*   **The concept of movement in general?**\\n*   **Something else entirely?**\\n\\nThe more information you give me, the better I can assist you!', additional_kwargs={}, response_metadata={'prompt_feedback': {'block_reason': 0, 'safety_ratings': []}, 'finish_reason': 'STOP', 'model_name': 'gemini-2.0-flash', 'safety_ratings': []}, id='run--2aad3fcc-c4d5-468a-b6ed-d19eb20a5683-0', usage_metadata={'input_tokens': 39, 'output_tokens': 100, 'total_tokens': 139, 'input_token_details': {'cache_read': 0}})]}\n",
      "{'messages': [AIMessage(content='Okay! Still here if you have a question or want to chat about something. Just let me know! 😊', additional_kwargs={'metadata': None, 'options': None}, response_metadata={}, id='374b481c-7f3d-4830-a2b1-bf35e8ae4582'), HumanMessage(content='movr', additional_kwargs={'metadata': None, 'options': None}, response_metadata={}, id='70250090-fecc-4dd3-8738-8092a14a6f84'), AIMessage(content='\"Movr\" could refer to a few different things. To help me understand what you\\'re looking for, could you tell me more? For example, are you interested in:\\n\\n*   **The cryptocurrency MOVR (Moonriver)?**\\n*   **A company or product named Movr?**\\n*   **The concept of movement in general?**\\n*   **Something else entirely?**\\n\\nThe more information you give me, the better I can assist you!', additional_kwargs={'metadata': None, 'options': None}, response_metadata={}, id='901a1ecc-1b0e-47f3-bc70-0797526f08d3'), HumanMessage(content='damn', additional_kwargs={}, response_metadata={}, id='d075bfd6-2526-40f3-9889-9719791ad9a9'), AIMessage(content='Okay, I understand. \"Damn\" is an expression that can have different meanings depending on the context. It can express:\\n\\n*   **Disappointment or frustration:** \"Damn, I missed the bus!\"\\n*   **Surprise or amazement:** \"Damn, that\\'s a beautiful car!\"\\n*   **Anger or annoyance:** \"Damn it, I can\\'t get this to work!\"\\n*   **Emphasis:** \"That\\'s a damn good burger.\"\\n\\nIs there anything specific you\\'d like to talk about related to this word or the feelings it expresses? I can also try to provide more context if you had something else in mind.', additional_kwargs={}, response_metadata={'prompt_feedback': {'block_reason': 0, 'safety_ratings': []}, 'finish_reason': 'STOP', 'model_name': 'gemini-2.0-flash', 'safety_ratings': []}, id='run--4ccb85b4-fce3-4e1a-9b0d-cf43d8403beb-0', usage_metadata={'input_tokens': 124, 'output_tokens': 135, 'total_tokens': 259, 'input_token_details': {'cache_read': 0}})]}\n",
      "{'messages': [AIMessage(content='\"Movr\" could refer to a few different things. To help me understand what you\\'re looking for, could you tell me more? For example, are you interested in:\\n\\n*   **The cryptocurrency MOVR (Moonriver)?**\\n*   **A company or product named Movr?**\\n*   **The concept of movement in general?**\\n*   **Something else entirely?**\\n\\nThe more information you give me, the better I can assist you!', additional_kwargs={'metadata': None, 'options': None}, response_metadata={}, id='e3297230-022b-426e-b62a-162e283e7e54'), HumanMessage(content='damn', additional_kwargs={'metadata': None, 'options': None}, response_metadata={}, id='38bede8a-b716-4183-b361-b420925863eb'), AIMessage(content='Okay, I understand. \"Damn\" is an expression that can have different meanings depending on the context. It can express:\\n\\n*   **Disappointment or frustration:** \"Damn, I missed the bus!\"\\n*   **Surprise or amazement:** \"Damn, that\\'s a beautiful car!\"\\n*   **Anger or annoyance:** \"Damn it, I can\\'t get this to work!\"\\n*   **Emphasis:** \"That\\'s a damn good burger.\"\\n\\nIs there anything specific you\\'d like to talk about related to this word or the feelings it expresses? I can also try to provide more context if you had something else in mind.', additional_kwargs={'metadata': None, 'options': None}, response_metadata={}, id='28ccf049-04f0-401c-a5e5-d60788bd2cea'), HumanMessage(content='1+', additional_kwargs={}, response_metadata={}, id='9f959d88-c8ac-4c5f-bb04-8428c0c72678'), AIMessage(content=\"That's a simple one! 1 + 1 = **2**\", additional_kwargs={}, response_metadata={'prompt_feedback': {'block_reason': 0, 'safety_ratings': []}, 'finish_reason': 'STOP', 'model_name': 'gemini-2.0-flash', 'safety_ratings': []}, id='run--42b466ab-34f4-43fd-8cd2-44650c9bc563-0', usage_metadata={'input_tokens': 236, 'output_tokens': 17, 'total_tokens': 253, 'input_token_details': {'cache_read': 0}})]}\n",
      "{'messages': [AIMessage(content='Okay, I understand. \"Damn\" is an expression that can have different meanings depending on the context. It can express:\\n\\n*   **Disappointment or frustration:** \"Damn, I missed the bus!\"\\n*   **Surprise or amazement:** \"Damn, that\\'s a beautiful car!\"\\n*   **Anger or annoyance:** \"Damn it, I can\\'t get this to work!\"\\n*   **Emphasis:** \"That\\'s a damn good burger.\"\\n\\nIs there anything specific you\\'d like to talk about related to this word or the feelings it expresses? I can also try to provide more context if you had something else in mind.', additional_kwargs={'metadata': None, 'options': None}, response_metadata={}, id='f3325745-0937-40af-8c7d-1f5c7582699f'), HumanMessage(content='1+', additional_kwargs={'metadata': None, 'options': None}, response_metadata={}, id='3162831f-ab58-47a4-b853-7f78eae06b8a'), AIMessage(content=\"That's a simple one! 1 + 1 = **2**\", additional_kwargs={'metadata': None, 'options': None}, response_metadata={}, id='85ac68d2-48b2-467e-80fc-1c46b1e10c28'), HumanMessage(content='2', additional_kwargs={}, response_metadata={}, id='c2e79461-174e-42a2-898c-03ea18b54939'), AIMessage(content=\"Okay, 2 is a number! What would you like to do with it? I can:\\n\\n*   **Add something to it:** Tell me another number to add.\\n*   **Subtract something from it:** Tell me another number to subtract.\\n*   **Multiply it:** Tell me what to multiply it by.\\n*   **Divide it:** Tell me what to divide it by.\\n*   **Tell you some facts about the number 2:** Like it's the only even prime number.\\n*   **Something else?** Tell me what you have in mind!\", additional_kwargs={}, response_metadata={'prompt_feedback': {'block_reason': 0, 'safety_ratings': []}, 'finish_reason': 'STOP', 'model_name': 'gemini-2.0-flash', 'safety_ratings': []}, id='run--d23891e6-571d-4173-a913-eb31f8c83d06-0', usage_metadata={'input_tokens': 153, 'output_tokens': 123, 'total_tokens': 276, 'input_token_details': {'cache_read': 0}})]}\n",
      "{'messages': [AIMessage(content=\"That's a simple one! 1 + 1 = **2**\", additional_kwargs={'metadata': None, 'options': None}, response_metadata={}, id='9c69468f-ded7-45ae-b481-08b5bf5fa1cd'), HumanMessage(content='2', additional_kwargs={'metadata': None, 'options': None}, response_metadata={}, id='aa256036-e2bb-4de8-8356-5f4cb90cd787'), AIMessage(content=\"Okay, 2 is a number! What would you like to do with it? I can:\\n\\n*   **Add something to it:** Tell me another number to add.\\n*   **Subtract something from it:** Tell me another number to subtract.\\n*   **Multiply it:** Tell me what to multiply it by.\\n*   **Divide it:** Tell me what to divide it by.\\n*   **Tell you some facts about the number 2:** Like it's the only even prime number.\\n*   **Something else?** Tell me what you have in mind!\", additional_kwargs={'metadata': None, 'options': None}, response_metadata={}, id='e50134c9-5e13-43d2-8445-17956b35189a'), HumanMessage(content='2', additional_kwargs={}, response_metadata={}, id='50385819-ee9d-49c6-a501-f48174a47dd2'), AIMessage(content='Okay, you\\'ve said \"2\" again. Do you want to perform an operation on the number 2 with another 2? For example:\\n\\n*   **2 + 2?**\\n*   **2 - 2?**\\n*   **2 * 2?**\\n*   **2 / 2?**\\n\\nOr are you just repeating the number? If so, I can tell you more about the number 2. Let me know what you\\'d like me to do!', additional_kwargs={}, response_metadata={'prompt_feedback': {'block_reason': 0, 'safety_ratings': []}, 'finish_reason': 'STOP', 'model_name': 'gemini-2.0-flash', 'safety_ratings': []}, id='run--43f07ef1-ecdc-4ce7-9a1e-51aacd5a0327-0', usage_metadata={'input_tokens': 140, 'output_tokens': 107, 'total_tokens': 247, 'input_token_details': {'cache_read': 0}})]}\n",
      "{'messages': [AIMessage(content=\"Okay, 2 is a number! What would you like to do with it? I can:\\n\\n*   **Add something to it:** Tell me another number to add.\\n*   **Subtract something from it:** Tell me another number to subtract.\\n*   **Multiply it:** Tell me what to multiply it by.\\n*   **Divide it:** Tell me what to divide it by.\\n*   **Tell you some facts about the number 2:** Like it's the only even prime number.\\n*   **Something else?** Tell me what you have in mind!\", additional_kwargs={'metadata': None, 'options': None}, response_metadata={}, id='21e061c2-9d48-4048-82cc-9c2630ad7644'), HumanMessage(content='2', additional_kwargs={'metadata': None, 'options': None}, response_metadata={}, id='412d3818-be54-472d-95bd-3386d32bb80c'), AIMessage(content='Okay, you\\'ve said \"2\" again. Do you want to perform an operation on the number 2 with another 2? For example:\\n\\n*   **2 + 2?**\\n*   **2 - 2?**\\n*   **2 * 2?**\\n*   **2 / 2?**\\n\\nOr are you just repeating the number? If so, I can tell you more about the number 2. Let me know what you\\'d like me to do!', additional_kwargs={'metadata': None, 'options': None}, response_metadata={}, id='86c03712-0fa1-4ead-82c5-f5d422f7b070'), HumanMessage(content='2+2', additional_kwargs={}, response_metadata={}, id='b7162a07-289c-4a66-81bc-03b5b384c193'), AIMessage(content='2 + 2 = 4', additional_kwargs={}, response_metadata={'prompt_feedback': {'block_reason': 0, 'safety_ratings': []}, 'finish_reason': 'STOP', 'model_name': 'gemini-2.0-flash', 'safety_ratings': []}, id='run--8d1b0152-6451-4e99-9494-379286f42594-0', usage_metadata={'input_tokens': 232, 'output_tokens': 8, 'total_tokens': 240, 'input_token_details': {'cache_read': 0}})]}\n",
      "{'messages': [AIMessage(content='Okay, you\\'ve said \"2\" again. Do you want to perform an operation on the number 2 with another 2? For example:\\n\\n*   **2 + 2?**\\n*   **2 - 2?**\\n*   **2 * 2?**\\n*   **2 / 2?**\\n\\nOr are you just repeating the number? If so, I can tell you more about the number 2. Let me know what you\\'d like me to do!', additional_kwargs={'metadata': None, 'options': None}, response_metadata={}, id='553a6f4b-093e-4d6e-8609-8a96670fd64c'), HumanMessage(content='2+2', additional_kwargs={'metadata': None, 'options': None}, response_metadata={}, id='0e297b8d-4710-46ab-aa26-9bafd59407f6'), AIMessage(content='2 + 2 = 4', additional_kwargs={'metadata': None, 'options': None}, response_metadata={}, id='5db4f7b9-2ac6-4265-99eb-c279b2fe4a04'), HumanMessage(content='2+2', additional_kwargs={}, response_metadata={}, id='f12ae70a-8bb5-4d02-ab95-f3b14352bac5'), AIMessage(content='2 + 2 = 4', additional_kwargs={}, response_metadata={'prompt_feedback': {'block_reason': 0, 'safety_ratings': []}, 'finish_reason': 'STOP', 'model_name': 'gemini-2.0-flash', 'safety_ratings': []}, id='run--bc58d205-cc34-497d-91c4-2e4d152f4664-0', usage_metadata={'input_tokens': 119, 'output_tokens': 8, 'total_tokens': 127, 'input_token_details': {'cache_read': 0}})]}\n",
      "{'messages': [AIMessage(content='2 + 2 = 4', additional_kwargs={'metadata': None, 'options': None}, response_metadata={}, id='f4dd07da-98e2-42da-82b1-aa0fc6524f50'), HumanMessage(content='2+2', additional_kwargs={'metadata': None, 'options': None}, response_metadata={}, id='f1c8e070-cd6a-4b19-bab5-80bd22606552'), AIMessage(content='2 + 2 = 4', additional_kwargs={'metadata': None, 'options': None}, response_metadata={}, id='3d783338-9140-41fe-a3c4-fc0637f2d263'), HumanMessage(content='2+2', additional_kwargs={}, response_metadata={}, id='c27580bb-d6d3-458a-a508-dc45de91982b'), AIMessage(content='4', additional_kwargs={}, response_metadata={'prompt_feedback': {'block_reason': 0, 'safety_ratings': []}, 'finish_reason': 'STOP', 'model_name': 'gemini-2.0-flash', 'safety_ratings': []}, id='run--cdc2c5af-39cb-40b5-8333-8b78af183d1c-0', usage_metadata={'input_tokens': 20, 'output_tokens': 2, 'total_tokens': 22, 'input_token_details': {'cache_read': 0}})]}\n",
      "{'messages': [AIMessage(content='2 + 2 = 4', additional_kwargs={'metadata': None, 'options': None}, response_metadata={}, id='a6e3c9a5-0d90-43d2-b8b0-ee130b4eed6e'), HumanMessage(content='2+2', additional_kwargs={'metadata': None, 'options': None}, response_metadata={}, id='1f7dc009-6cce-47d8-b747-8119d5912140'), AIMessage(content='4', additional_kwargs={'metadata': None, 'options': None}, response_metadata={}, id='3c95ffa7-7af5-4073-a2d0-1be2de3a953c'), HumanMessage(content='2+2', additional_kwargs={}, response_metadata={}, id='ed5e925f-c504-4b73-a4bc-cc4e03f88edd'), AIMessage(content='4', additional_kwargs={}, response_metadata={'prompt_feedback': {'block_reason': 0, 'safety_ratings': []}, 'finish_reason': 'STOP', 'model_name': 'gemini-2.0-flash', 'safety_ratings': []}, id='run--efeb16cc-2b7b-499d-8e82-e34207b6f6a8-0', usage_metadata={'input_tokens': 14, 'output_tokens': 2, 'total_tokens': 16, 'input_token_details': {'cache_read': 0}})]}\n",
      "{'messages': [AIMessage(content='4', additional_kwargs={'metadata': None, 'options': None}, response_metadata={}, id='9072d6f2-7d5e-4a24-9677-692cb93f606e'), HumanMessage(content='2+2', additional_kwargs={'metadata': None, 'options': None}, response_metadata={}, id='9a232644-e25a-463d-ae29-08aabbf7139d'), AIMessage(content='4', additional_kwargs={'metadata': None, 'options': None}, response_metadata={}, id='e4c8b6d6-d938-4324-99bb-6b8ccaf9d549'), HumanMessage(content='2+2', additional_kwargs={}, response_metadata={}, id='f476a1bd-6a52-40b5-a74c-28622289cd74'), AIMessage(content='4', additional_kwargs={}, response_metadata={'prompt_feedback': {'block_reason': 0, 'safety_ratings': []}, 'finish_reason': 'STOP', 'model_name': 'gemini-2.0-flash', 'safety_ratings': []}, id='run--76e3fb30-8398-4057-9908-d3df91ac36cb-0', usage_metadata={'input_tokens': 8, 'output_tokens': 2, 'total_tokens': 10, 'input_token_details': {'cache_read': 0}})]}\n",
      "{'messages': [AIMessage(content='4', additional_kwargs={'metadata': None, 'options': None}, response_metadata={}, id='4a8da32c-33eb-4436-ab91-9cea15e1ba87'), HumanMessage(content='2+2', additional_kwargs={'metadata': None, 'options': None}, response_metadata={}, id='1866bc19-a17d-4848-9b4f-e67d4bec5aad'), AIMessage(content='4', additional_kwargs={'metadata': None, 'options': None}, response_metadata={}, id='76f7c434-dd46-4b89-86c9-76792484f2f7'), HumanMessage(content='2+2', additional_kwargs={}, response_metadata={}, id='115be6d0-a2a7-4d50-9ac7-3913d787a2ec'), AIMessage(content='4', additional_kwargs={}, response_metadata={'prompt_feedback': {'block_reason': 0, 'safety_ratings': []}, 'finish_reason': 'STOP', 'model_name': 'gemini-2.0-flash', 'safety_ratings': []}, id='run--afbb2728-0967-47fe-868c-b5f752c7bc32-0', usage_metadata={'input_tokens': 8, 'output_tokens': 2, 'total_tokens': 10, 'input_token_details': {'cache_read': 0}})]}\n",
      "{'messages': [AIMessage(content='4', additional_kwargs={'metadata': None, 'options': None}, response_metadata={}, id='c8d4d9e3-3ace-483e-9789-b846d5d0d134'), HumanMessage(content='2+2', additional_kwargs={'metadata': None, 'options': None}, response_metadata={}, id='bb9d6213-782f-45d3-bc31-1468b7d47669'), AIMessage(content='4', additional_kwargs={'metadata': None, 'options': None}, response_metadata={}, id='30d9344e-bd30-45ee-8f56-bee28bb54940'), HumanMessage(content='2+2', additional_kwargs={}, response_metadata={}, id='c288fd0c-3ee9-4cef-82e4-928a9f98ab71'), AIMessage(content='2 + 2 = 4', additional_kwargs={}, response_metadata={'prompt_feedback': {'block_reason': 0, 'safety_ratings': []}, 'finish_reason': 'STOP', 'model_name': 'gemini-2.0-flash', 'safety_ratings': []}, id='run--285fceda-f7c8-48bb-a297-6f32590b0415-0', usage_metadata={'input_tokens': 8, 'output_tokens': 8, 'total_tokens': 16, 'input_token_details': {'cache_read': 0}})]}\n",
      "{'messages': [AIMessage(content='4', additional_kwargs={'metadata': None, 'options': None}, response_metadata={}, id='31296d4c-2533-4480-bdcc-518cb5bb26be'), HumanMessage(content='2+2', additional_kwargs={'metadata': None, 'options': None}, response_metadata={}, id='1befef0b-6935-431f-9f44-65983bd1edab'), AIMessage(content='2 + 2 = 4', additional_kwargs={'metadata': None, 'options': None}, response_metadata={}, id='948e9da9-d75f-465a-bf86-9390ede1a769'), HumanMessage(content='2+2', additional_kwargs={}, response_metadata={}, id='c3e300aa-07b0-4da0-ba15-b63df37465a1'), AIMessage(content='2 + 2 = 4', additional_kwargs={}, response_metadata={'prompt_feedback': {'block_reason': 0, 'safety_ratings': []}, 'finish_reason': 'STOP', 'model_name': 'gemini-2.0-flash', 'safety_ratings': []}, id='run--22527a5a-3cd3-431c-96d7-cc12099f506a-0', usage_metadata={'input_tokens': 14, 'output_tokens': 8, 'total_tokens': 22, 'input_token_details': {'cache_read': 0}})]}\n",
      "{'messages': [AIMessage(content='2 + 2 = 4', additional_kwargs={'metadata': None, 'options': None}, response_metadata={}, id='0fbfa44e-49ab-4004-a34d-2fb353bf2b72'), HumanMessage(content='2+2', additional_kwargs={'metadata': None, 'options': None}, response_metadata={}, id='5c58d6fb-c3c6-49d6-b5bb-4112c77df71a'), AIMessage(content='2 + 2 = 4', additional_kwargs={'metadata': None, 'options': None}, response_metadata={}, id='6f696e6c-8101-4741-bfef-e9c3ce405761'), HumanMessage(content='2+2', additional_kwargs={}, response_metadata={}, id='30d0069c-04ef-4d42-8326-aa43a4a08c73'), AIMessage(content='4', additional_kwargs={}, response_metadata={'prompt_feedback': {'block_reason': 0, 'safety_ratings': []}, 'finish_reason': 'STOP', 'model_name': 'gemini-2.0-flash', 'safety_ratings': []}, id='run--9a84d891-999b-4fb8-8037-25a2b2c31b43-0', usage_metadata={'input_tokens': 20, 'output_tokens': 2, 'total_tokens': 22, 'input_token_details': {'cache_read': 0}})]}\n",
      "{'messages': [AIMessage(content='2 + 2 = 4', additional_kwargs={'metadata': None, 'options': None}, response_metadata={}, id='09497cac-910d-47b9-bf44-1d3386fc4f5d'), HumanMessage(content='2+2', additional_kwargs={'metadata': None, 'options': None}, response_metadata={}, id='1b08061c-6b5c-4161-aa30-fcb9da5be14c'), AIMessage(content='4', additional_kwargs={'metadata': None, 'options': None}, response_metadata={}, id='36401ccc-40df-49d2-80d6-c1451912d14d'), HumanMessage(content='2', additional_kwargs={}, response_metadata={}, id='750e9977-6eaf-47f8-9778-d630cd6a0a11'), AIMessage(content=\"Okay, 2. Is there anything you'd like to do with that number? For example, would you like to add something to it, subtract from it, or do something else?\", additional_kwargs={}, response_metadata={'prompt_feedback': {'block_reason': 0, 'safety_ratings': []}, 'finish_reason': 'STOP', 'model_name': 'gemini-2.0-flash', 'safety_ratings': []}, id='run--f2e0318d-1488-42d3-9705-e0266b984793-0', usage_metadata={'input_tokens': 12, 'output_tokens': 40, 'total_tokens': 52, 'input_token_details': {'cache_read': 0}})]}\n"
     ]
    }
   ],
   "source": [
    "from typing import Annotated\n",
    "import os\n",
    "from pydantic import BaseModel\n",
    "from IPython.display import display, Image\n",
    "from dotenv import load_dotenv\n",
    "from langgraph.graph import StateGraph, START, END\n",
    "from langgraph.graph.message import add_messages\n",
    "import gradio as gr\n",
    "from langchain_google_genai import ChatGoogleGenerativeAI\n",
    "\n",
    "load_dotenv(override=True)\n",
    "google_api_key = os.getenv('GOOGLE_API_KEY')\n",
    "\n",
    "class State(BaseModel):\n",
    "    messages: Annotated[list, add_messages]\n",
    "\n",
    "graph_builder = StateGraph(State)\n",
    "\n",
    "llm = ChatGoogleGenerativeAI(model=\"gemini-2.0-flash\", google_api_key=google_api_key)\n",
    "\n",
    "def chatbot_node(old_state: State) -> State:\n",
    "    # Invoke the LLM with the current messages\n",
    "    # sends [HumanMessage(content=\"hi\")] to the Gemini model.\n",
    "    reply = llm.invoke(old_state.messages)  # Returns AIMessage\n",
    "    \n",
    "    # Append the reply to the existing messages using add_messages\n",
    "    new_messages = old_state.messages + [reply]\n",
    "    \n",
    "    # here, add_messages ensures the HumanMessage and AIMessage are appended correctly.\n",
    "    # this returns dictionary containing \"messages\" array\n",
    "    new_state = State(messages=new_messages)\n",
    "    return new_state\n",
    "\n",
    "# Add the node and edges\n",
    "graph_builder.add_node(\"chatbot\", chatbot_node)\n",
    "graph_builder.add_edge(START, \"chatbot\")\n",
    "graph_builder.add_edge(\"chatbot\", END)\n",
    "\n",
    "# Compile the graph\n",
    "graph = graph_builder.compile()\n",
    "\n",
    "# Visualize the graph\n",
    "display(Image(graph.get_graph().draw_mermaid_png()))\n",
    "\n",
    "# Define the chat function to handle Gradio input and history\n",
    "def chat(user_input: str, history: list):\n",
    "    # Use history directly; if empty, include the user_input\n",
    "    messages = history or [{\"role\": \"user\", \"content\": user_input}]\n",
    "    \n",
    "    # If history is not empty, ensure the last user input isn't duplicated\n",
    "    if history and history[-1][\"role\"] == \"user\" and history[-1][\"content\"] == user_input:\n",
    "        messages = history\n",
    "    else:\n",
    "        messages = history + [{\"role\": \"user\", \"content\": user_input}]\n",
    "    messages = messages[-4:]\n",
    "    # Create the State object\n",
    "    # the State class processes the message using add_messages\n",
    "    # add_message converts the dictionary messages to a HumanMessage object\n",
    "    state = State(messages=messages)\n",
    "\n",
    "    # Invoke the graph\n",
    "    # this graph will run the chatbot_node\n",
    "    result = graph.invoke(state)\n",
    "    print(result)\n",
    "    # Return the latest assistant message for Gradio\n",
    "    return result['messages'][-1].content\n",
    "\n",
    "# Launch the Gradio interface\n",
    "gr.ChatInterface(chat, type=\"messages\").launch()\n",
    "\n",
    "\n",
    "\n",
    "\n",
    "#--------------------------\n",
    "# add_message is invoked when State object is created (State(messages=messages)) or updated (new_state = State(messages=new_messages))\n",
    "# add_message functionality:\n",
    "#    converts the input dictionaries to HumanMessage objects\n",
    "#    appends the AIMessage objects from LLM to the messages list\n",
    "#    it ensures the list maintains the order, (user → assistant → user → assistant)\n",
    "#--------------------------"
   ]
  },
  {
   "cell_type": "code",
   "execution_count": 30,
   "id": "42837946",
   "metadata": {},
   "outputs": [
    {
     "data": {
      "image/png": "[encoded data removed]",
      "text/plain": [
       "<IPython.core.display.Image object>"
      ]
     },
     "metadata": {},
     "output_type": "display_data"
    }
   ],
   "source": [
    "class State(BaseModel):\n",
    "    messages: Annotated[list, add_messages]\n",
    "\n",
    "_graph_builder = StateGraph(State)\n",
    "\n",
    "_llm = ChatGoogleGenerativeAI(model=\"gemini-2.0-flash\", google_api_key=google_api_key)\n",
    "\n",
    "def _chat_node(_old_state: State) -> State:\n",
    "    _response = llm.invoke(_old_state.messages)\n",
    "    _new_message = _old_state.messages + [_response]\n",
    "    _new_state = State(messages=_new_message)\n",
    "    return _new_state\n",
    "\n",
    "_graph_builder.add_node(\"_chatbot\", _chat_node)\n",
    "_graph_builder.add_edge(START, \"_chatbot\")\n",
    "_graph_builder.add_edge(\"_chatbot\", END)\n",
    "\n",
    "_graph = _graph_builder.compile()\n",
    "\n",
    "display(Image(_graph.get_graph().draw_mermaid_png()))"
   ]
  },
  {
   "cell_type": "code",
   "execution_count": null,
   "id": "c38d72f3",
   "metadata": {},
   "outputs": [
    {
     "name": "stdout",
     "output_type": "stream",
     "text": [
      "* Running on local URL:  http://127.0.0.1:7876\n",
      "* To create a public link, set `share=True` in `launch()`.\n"
     ]
    },
    {
     "data": {
      "text/html": [
       "<div><iframe src=\"http://127.0.0.1:7876/\" width=\"100%\" height=\"500\" allow=\"autoplay; camera; microphone; clipboard-read; clipboard-write;\" frameborder=\"0\" allowfullscreen></iframe></div>"
      ],
      "text/plain": [
       "<IPython.core.display.HTML object>"
      ]
     },
     "metadata": {},
     "output_type": "display_data"
    },
    {
     "data": {
      "text/plain": []
     },
     "execution_count": 32,
     "metadata": {},
     "output_type": "execute_result"
    },
    {
     "name": "stdout",
     "output_type": "stream",
     "text": [
      "{'messages': [HumanMessage(content='hi', additional_kwargs={}, response_metadata={}, id='0be840d7-c594-44cc-8307-eb1d0f52fdca'), AIMessage(content='Hi there! How can I help you today?', additional_kwargs={}, response_metadata={'prompt_feedback': {'block_reason': 0, 'safety_ratings': []}, 'finish_reason': 'STOP', 'model_name': 'gemini-2.0-flash', 'safety_ratings': []}, id='run--dee52579-c833-49b2-8cfc-bb8b503a6539-0', usage_metadata={'input_tokens': 1, 'output_tokens': 11, 'total_tokens': 12, 'input_token_details': {'cache_read': 0}})]}\n",
      "history\n",
      " []\n",
      "{'messages': [HumanMessage(content='hi', additional_kwargs={'metadata': None, 'options': None}, response_metadata={}, id='44ef2509-5cb4-4230-bac7-d5c18865d446'), AIMessage(content='Hi there! How can I help you today?', additional_kwargs={'metadata': None, 'options': None}, response_metadata={}, id='252e0102-8906-4575-b9e7-0a17729d7c03'), HumanMessage(content='ohh', additional_kwargs={}, response_metadata={}, id='5e58862e-8ad4-48b6-97a1-f27569ebbd51'), AIMessage(content=\"Is there anything on your mind? I'm here to chat, answer questions, or help with tasks. Just let me know what you're thinking!\", additional_kwargs={}, response_metadata={'prompt_feedback': {'block_reason': 0, 'safety_ratings': []}, 'finish_reason': 'STOP', 'model_name': 'gemini-2.0-flash', 'safety_ratings': []}, id='run--2db4fd6e-4255-41c0-b13a-fee15bfebb08-0', usage_metadata={'input_tokens': 12, 'output_tokens': 33, 'total_tokens': 45, 'input_token_details': {'cache_read': 0}})]}\n",
      "history\n",
      " [{'role': 'user', 'metadata': None, 'content': 'hi', 'options': None}, {'role': 'assistant', 'metadata': None, 'content': 'Hi there! How can I help you today?', 'options': None}]\n",
      "{'messages': [AIMessage(content='Hi there! How can I help you today?', additional_kwargs={'metadata': None, 'options': None}, response_metadata={}, id='21d80798-1c1a-4b7d-82f6-6acd71a64f0c'), HumanMessage(content='ohh', additional_kwargs={'metadata': None, 'options': None}, response_metadata={}, id='5c0a6cd0-a91d-4e98-87f6-9edcf4c524c5'), AIMessage(content=\"Is there anything on your mind? I'm here to chat, answer questions, or help with tasks. Just let me know what you're thinking!\", additional_kwargs={'metadata': None, 'options': None}, response_metadata={}, id='9321bbe9-be27-46be-9ae2-4346d6f19d31'), HumanMessage(content='1', additional_kwargs={}, response_metadata={}, id='7a584633-1169-465d-bc98-8a3cef34afce'), AIMessage(content=\"Okay! Is there anything you'd like me to do with the number 1?  For example:\\n\\n*   **Do you want me to do math with it?** (e.g., 1 + 5, 1 * 10)\\n*   **Do you want me to tell you something about the number 1?** (e.g., it's the first positive integer)\\n*   **Are you just acknowledging that you're here?**\\n\\nLet me know!\", additional_kwargs={}, response_metadata={'prompt_feedback': {'block_reason': 0, 'safety_ratings': []}, 'finish_reason': 'STOP', 'model_name': 'gemini-2.0-flash', 'safety_ratings': []}, id='run--6ed21838-a7da-4827-af71-375776fa4b98-0', usage_metadata={'input_tokens': 44, 'output_tokens': 108, 'total_tokens': 152, 'input_token_details': {'cache_read': 0}})]}\n",
      "history\n",
      " [{'role': 'user', 'metadata': None, 'content': 'hi', 'options': None}, {'role': 'assistant', 'metadata': None, 'content': 'Hi there! How can I help you today?', 'options': None}, {'role': 'user', 'metadata': None, 'content': 'ohh', 'options': None}, {'role': 'assistant', 'metadata': None, 'content': \"Is there anything on your mind? I'm here to chat, answer questions, or help with tasks. Just let me know what you're thinking!\", 'options': None}]\n",
      "{'messages': [AIMessage(content=\"Is there anything on your mind? I'm here to chat, answer questions, or help with tasks. Just let me know what you're thinking!\", additional_kwargs={'metadata': None, 'options': None}, response_metadata={}, id='ced2ec4b-5560-4606-9c31-e7430c28b925'), HumanMessage(content='1', additional_kwargs={'metadata': None, 'options': None}, response_metadata={}, id='7a47a688-0e60-4f06-8445-c0afa919992c'), AIMessage(content=\"Okay! Is there anything you'd like me to do with the number 1?  For example:\\n\\n*   **Do you want me to do math with it?** (e.g., 1 + 5, 1 * 10)\\n*   **Do you want me to tell you something about the number 1?** (e.g., it's the first positive integer)\\n*   **Are you just acknowledging that you're here?**\\n\\nLet me know!\", additional_kwargs={'metadata': None, 'options': None}, response_metadata={}, id='64174612-22fb-42d8-b5a2-c1b71c4af6aa'), HumanMessage(content='1+2', additional_kwargs={}, response_metadata={}, id='ab83d7d3-b503-4cc6-a723-ff81723f6d0e'), AIMessage(content='1 + 2 = 3', additional_kwargs={}, response_metadata={'prompt_feedback': {'block_reason': 0, 'safety_ratings': []}, 'finish_reason': 'STOP', 'model_name': 'gemini-2.0-flash', 'safety_ratings': []}, id='run--1468b2c1-6fa7-4a56-a186-f527697a487b-0', usage_metadata={'input_tokens': 143, 'output_tokens': 8, 'total_tokens': 151, 'input_token_details': {'cache_read': 0}})]}\n",
      "history\n",
      " [{'role': 'user', 'metadata': None, 'content': 'hi', 'options': None}, {'role': 'assistant', 'metadata': None, 'content': 'Hi there! How can I help you today?', 'options': None}, {'role': 'user', 'metadata': None, 'content': 'ohh', 'options': None}, {'role': 'assistant', 'metadata': None, 'content': \"Is there anything on your mind? I'm here to chat, answer questions, or help with tasks. Just let me know what you're thinking!\", 'options': None}, {'role': 'user', 'metadata': None, 'content': '1', 'options': None}, {'role': 'assistant', 'metadata': None, 'content': \"Okay! Is there anything you'd like me to do with the number 1?  For example:\\n\\n*   **Do you want me to do math with it?** (e.g., 1 + 5, 1 * 10)\\n*   **Do you want me to tell you something about the number 1?** (e.g., it's the first positive integer)\\n*   **Are you just acknowledging that you're here?**\\n\\nLet me know!\", 'options': None}]\n",
      "{'messages': [AIMessage(content=\"Okay! Is there anything you'd like me to do with the number 1?  For example:\\n\\n*   **Do you want me to do math with it?** (e.g., 1 + 5, 1 * 10)\\n*   **Do you want me to tell you something about the number 1?** (e.g., it's the first positive integer)\\n*   **Are you just acknowledging that you're here?**\\n\\nLet me know!\", additional_kwargs={'metadata': None, 'options': None}, response_metadata={}, id='e2aa1347-a68c-45f3-ac41-0b0ec3bfc201'), HumanMessage(content='1+2', additional_kwargs={'metadata': None, 'options': None}, response_metadata={}, id='52012dc5-176e-4b0a-a695-983f24c8942a'), AIMessage(content='1 + 2 = 3', additional_kwargs={'metadata': None, 'options': None}, response_metadata={}, id='8a8883e7-bd55-44b7-b59e-2c69cd3389f0'), HumanMessage(content='2+3+5', additional_kwargs={}, response_metadata={}, id='fe4f9409-2a4b-400f-9b7e-471c998a989d'), AIMessage(content='2 + 3 + 5 = 10', additional_kwargs={}, response_metadata={'prompt_feedback': {'block_reason': 0, 'safety_ratings': []}, 'finish_reason': 'STOP', 'model_name': 'gemini-2.0-flash', 'safety_ratings': []}, id='run--57cb9cc7-6740-4f98-81ad-5032018b8a22-0', usage_metadata={'input_tokens': 122, 'output_tokens': 12, 'total_tokens': 134, 'input_token_details': {'cache_read': 0}})]}\n",
      "history\n",
      " [{'role': 'user', 'metadata': None, 'content': 'hi', 'options': None}, {'role': 'assistant', 'metadata': None, 'content': 'Hi there! How can I help you today?', 'options': None}, {'role': 'user', 'metadata': None, 'content': 'ohh', 'options': None}, {'role': 'assistant', 'metadata': None, 'content': \"Is there anything on your mind? I'm here to chat, answer questions, or help with tasks. Just let me know what you're thinking!\", 'options': None}, {'role': 'user', 'metadata': None, 'content': '1', 'options': None}, {'role': 'assistant', 'metadata': None, 'content': \"Okay! Is there anything you'd like me to do with the number 1?  For example:\\n\\n*   **Do you want me to do math with it?** (e.g., 1 + 5, 1 * 10)\\n*   **Do you want me to tell you something about the number 1?** (e.g., it's the first positive integer)\\n*   **Are you just acknowledging that you're here?**\\n\\nLet me know!\", 'options': None}, {'role': 'user', 'metadata': None, 'content': '1+2', 'options': None}, {'role': 'assistant', 'metadata': None, 'content': '1 + 2 = 3', 'options': None}]\n",
      "{'messages': [AIMessage(content='1 + 2 = 3', additional_kwargs={'metadata': None, 'options': None}, response_metadata={}, id='61c5e479-ab1f-4ef7-8335-df7d514af393'), HumanMessage(content='2+3+5', additional_kwargs={'metadata': None, 'options': None}, response_metadata={}, id='5ce5d284-6b46-4de3-b4b4-b99cc63fa6eb'), AIMessage(content='2 + 3 + 5 = 10', additional_kwargs={'metadata': None, 'options': None}, response_metadata={}, id='2b5a3355-956f-4c6c-8391-df7026156701'), HumanMessage(content='2+3+5\\n\\n', additional_kwargs={}, response_metadata={}, id='055f68e3-5878-4ae5-af07-99abc45c0ead'), AIMessage(content='2 + 3 + 5 = 10', additional_kwargs={}, response_metadata={'prompt_feedback': {'block_reason': 0, 'safety_ratings': []}, 'finish_reason': 'STOP', 'model_name': 'gemini-2.0-flash', 'safety_ratings': []}, id='run--43c991cf-f100-46b8-913d-2bcb891aa224-0', usage_metadata={'input_tokens': 29, 'output_tokens': 12, 'total_tokens': 41, 'input_token_details': {'cache_read': 0}})]}\n",
      "history\n",
      " [{'role': 'user', 'metadata': None, 'content': 'hi', 'options': None}, {'role': 'assistant', 'metadata': None, 'content': 'Hi there! How can I help you today?', 'options': None}, {'role': 'user', 'metadata': None, 'content': 'ohh', 'options': None}, {'role': 'assistant', 'metadata': None, 'content': \"Is there anything on your mind? I'm here to chat, answer questions, or help with tasks. Just let me know what you're thinking!\", 'options': None}, {'role': 'user', 'metadata': None, 'content': '1', 'options': None}, {'role': 'assistant', 'metadata': None, 'content': \"Okay! Is there anything you'd like me to do with the number 1?  For example:\\n\\n*   **Do you want me to do math with it?** (e.g., 1 + 5, 1 * 10)\\n*   **Do you want me to tell you something about the number 1?** (e.g., it's the first positive integer)\\n*   **Are you just acknowledging that you're here?**\\n\\nLet me know!\", 'options': None}, {'role': 'user', 'metadata': None, 'content': '1+2', 'options': None}, {'role': 'assistant', 'metadata': None, 'content': '1 + 2 = 3', 'options': None}, {'role': 'user', 'metadata': None, 'content': '2+3+5', 'options': None}, {'role': 'assistant', 'metadata': None, 'content': '2 + 3 + 5 = 10', 'options': None}]\n",
      "{'messages': [AIMessage(content='2 + 3 + 5 = 10', additional_kwargs={'metadata': None, 'options': None}, response_metadata={}, id='6f12ed7c-7137-4c59-98f8-435e352d938b'), HumanMessage(content='2+3+5', additional_kwargs={'metadata': None, 'options': None}, response_metadata={}, id='2a8f6b7b-c440-4cd4-807c-47afb8eb5864'), AIMessage(content='2 + 3 + 5 = 10', additional_kwargs={'metadata': None, 'options': None}, response_metadata={}, id='e53b72f0-9b37-4f2d-9483-ce13e91de67c'), HumanMessage(content='2+3+5\\n\\n', additional_kwargs={}, response_metadata={}, id='90542999-3077-4fbd-95ae-b6b8463b7bb2'), AIMessage(content='2 + 3 + 5 = 10', additional_kwargs={}, response_metadata={'prompt_feedback': {'block_reason': 0, 'safety_ratings': []}, 'finish_reason': 'STOP', 'model_name': 'gemini-2.0-flash', 'safety_ratings': []}, id='run--e37c2da3-4a0f-4db7-b8f3-485e386d7c82-0', usage_metadata={'input_tokens': 33, 'output_tokens': 12, 'total_tokens': 45, 'input_token_details': {'cache_read': 0}})]}\n",
      "history\n",
      " [{'role': 'user', 'metadata': None, 'content': 'hi', 'options': None}, {'role': 'assistant', 'metadata': None, 'content': 'Hi there! How can I help you today?', 'options': None}, {'role': 'user', 'metadata': None, 'content': 'ohh', 'options': None}, {'role': 'assistant', 'metadata': None, 'content': \"Is there anything on your mind? I'm here to chat, answer questions, or help with tasks. Just let me know what you're thinking!\", 'options': None}, {'role': 'user', 'metadata': None, 'content': '1', 'options': None}, {'role': 'assistant', 'metadata': None, 'content': \"Okay! Is there anything you'd like me to do with the number 1?  For example:\\n\\n*   **Do you want me to do math with it?** (e.g., 1 + 5, 1 * 10)\\n*   **Do you want me to tell you something about the number 1?** (e.g., it's the first positive integer)\\n*   **Are you just acknowledging that you're here?**\\n\\nLet me know!\", 'options': None}, {'role': 'user', 'metadata': None, 'content': '1+2', 'options': None}, {'role': 'assistant', 'metadata': None, 'content': '1 + 2 = 3', 'options': None}, {'role': 'user', 'metadata': None, 'content': '2+3+5', 'options': None}, {'role': 'assistant', 'metadata': None, 'content': '2 + 3 + 5 = 10', 'options': None}, {'role': 'user', 'metadata': None, 'content': '2+3+5', 'options': None}, {'role': 'assistant', 'metadata': None, 'content': '2 + 3 + 5 = 10', 'options': None}]\n",
      "{'messages': [AIMessage(content='2 + 3 + 5 = 10', additional_kwargs={'metadata': None, 'options': None}, response_metadata={}, id='3897c04b-d09d-44c1-ada9-5e8741fbf12b'), HumanMessage(content='2+3+5', additional_kwargs={'metadata': None, 'options': None}, response_metadata={}, id='e1df2099-8252-4032-8b8c-093397266d9e'), AIMessage(content='2 + 3 + 5 = 10', additional_kwargs={'metadata': None, 'options': None}, response_metadata={}, id='01a9d649-0f67-41f3-8cb7-0c3da745fbef'), HumanMessage(content='2+3+5\\n\\n', additional_kwargs={}, response_metadata={}, id='b78a7dc0-022b-452e-a0d6-b7c647fe1ecf'), AIMessage(content='2 + 3 + 5 = 10', additional_kwargs={}, response_metadata={'prompt_feedback': {'block_reason': 0, 'safety_ratings': []}, 'finish_reason': 'STOP', 'model_name': 'gemini-2.0-flash', 'safety_ratings': []}, id='run--c2e74642-b457-418b-9f9e-dda01129451c-0', usage_metadata={'input_tokens': 33, 'output_tokens': 12, 'total_tokens': 45, 'input_token_details': {'cache_read': 0}})]}\n",
      "history\n",
      " [{'role': 'user', 'metadata': None, 'content': 'hi', 'options': None}, {'role': 'assistant', 'metadata': None, 'content': 'Hi there! How can I help you today?', 'options': None}, {'role': 'user', 'metadata': None, 'content': 'ohh', 'options': None}, {'role': 'assistant', 'metadata': None, 'content': \"Is there anything on your mind? I'm here to chat, answer questions, or help with tasks. Just let me know what you're thinking!\", 'options': None}, {'role': 'user', 'metadata': None, 'content': '1', 'options': None}, {'role': 'assistant', 'metadata': None, 'content': \"Okay! Is there anything you'd like me to do with the number 1?  For example:\\n\\n*   **Do you want me to do math with it?** (e.g., 1 + 5, 1 * 10)\\n*   **Do you want me to tell you something about the number 1?** (e.g., it's the first positive integer)\\n*   **Are you just acknowledging that you're here?**\\n\\nLet me know!\", 'options': None}, {'role': 'user', 'metadata': None, 'content': '1+2', 'options': None}, {'role': 'assistant', 'metadata': None, 'content': '1 + 2 = 3', 'options': None}, {'role': 'user', 'metadata': None, 'content': '2+3+5', 'options': None}, {'role': 'assistant', 'metadata': None, 'content': '2 + 3 + 5 = 10', 'options': None}, {'role': 'user', 'metadata': None, 'content': '2+3+5', 'options': None}, {'role': 'assistant', 'metadata': None, 'content': '2 + 3 + 5 = 10', 'options': None}, {'role': 'user', 'metadata': None, 'content': '2+3+5', 'options': None}, {'role': 'assistant', 'metadata': None, 'content': '2 + 3 + 5 = 10', 'options': None}]\n",
      "{'messages': [AIMessage(content='2 + 3 + 5 = 10', additional_kwargs={'metadata': None, 'options': None}, response_metadata={}, id='483f66f5-e799-45a4-9863-5fcb7082c4e0'), HumanMessage(content='2+3+5', additional_kwargs={'metadata': None, 'options': None}, response_metadata={}, id='9a92d36e-ea89-4fd3-8196-96d113284e93'), AIMessage(content='2 + 3 + 5 = 10', additional_kwargs={'metadata': None, 'options': None}, response_metadata={}, id='c06259dc-7189-4d57-a02e-87a524701f85'), HumanMessage(content='2+3+5\\n\\n', additional_kwargs={}, response_metadata={}, id='9b38b8fc-44aa-4817-a01d-f7aacc6b0f73'), AIMessage(content='2 + 3 + 5 = 10', additional_kwargs={}, response_metadata={'prompt_feedback': {'block_reason': 0, 'safety_ratings': []}, 'finish_reason': 'STOP', 'model_name': 'gemini-2.0-flash', 'safety_ratings': []}, id='run--06d7dcd1-15bc-4ce6-b0d2-07eb55750bae-0', usage_metadata={'input_tokens': 33, 'output_tokens': 12, 'total_tokens': 45, 'input_token_details': {'cache_read': 0}})]}\n",
      "history\n",
      " [{'role': 'user', 'metadata': None, 'content': 'hi', 'options': None}, {'role': 'assistant', 'metadata': None, 'content': 'Hi there! How can I help you today?', 'options': None}, {'role': 'user', 'metadata': None, 'content': 'ohh', 'options': None}, {'role': 'assistant', 'metadata': None, 'content': \"Is there anything on your mind? I'm here to chat, answer questions, or help with tasks. Just let me know what you're thinking!\", 'options': None}, {'role': 'user', 'metadata': None, 'content': '1', 'options': None}, {'role': 'assistant', 'metadata': None, 'content': \"Okay! Is there anything you'd like me to do with the number 1?  For example:\\n\\n*   **Do you want me to do math with it?** (e.g., 1 + 5, 1 * 10)\\n*   **Do you want me to tell you something about the number 1?** (e.g., it's the first positive integer)\\n*   **Are you just acknowledging that you're here?**\\n\\nLet me know!\", 'options': None}, {'role': 'user', 'metadata': None, 'content': '1+2', 'options': None}, {'role': 'assistant', 'metadata': None, 'content': '1 + 2 = 3', 'options': None}, {'role': 'user', 'metadata': None, 'content': '2+3+5', 'options': None}, {'role': 'assistant', 'metadata': None, 'content': '2 + 3 + 5 = 10', 'options': None}, {'role': 'user', 'metadata': None, 'content': '2+3+5', 'options': None}, {'role': 'assistant', 'metadata': None, 'content': '2 + 3 + 5 = 10', 'options': None}, {'role': 'user', 'metadata': None, 'content': '2+3+5', 'options': None}, {'role': 'assistant', 'metadata': None, 'content': '2 + 3 + 5 = 10', 'options': None}, {'role': 'user', 'metadata': None, 'content': '2+3+5', 'options': None}, {'role': 'assistant', 'metadata': None, 'content': '2 + 3 + 5 = 10', 'options': None}]\n",
      "{'messages': [AIMessage(content='2 + 3 + 5 = 10', additional_kwargs={'metadata': None, 'options': None}, response_metadata={}, id='86958e86-3769-47e1-bad6-3454600a9295'), HumanMessage(content='2+3+5', additional_kwargs={'metadata': None, 'options': None}, response_metadata={}, id='d7ab219a-7679-4ac2-b5b2-acb7882c6091'), AIMessage(content='2 + 3 + 5 = 10', additional_kwargs={'metadata': None, 'options': None}, response_metadata={}, id='2884baac-26a8-4fa3-b3ff-f01310d26fa6'), HumanMessage(content='2+3+5\\n\\n', additional_kwargs={}, response_metadata={}, id='5811fdd6-63f5-4779-a1d4-a0382e472598'), AIMessage(content='2 + 3 + 5 = 10', additional_kwargs={}, response_metadata={'prompt_feedback': {'block_reason': 0, 'safety_ratings': []}, 'finish_reason': 'STOP', 'model_name': 'gemini-2.0-flash', 'safety_ratings': []}, id='run--4cc034a2-529c-4231-b211-980f5b4bfb1e-0', usage_metadata={'input_tokens': 33, 'output_tokens': 12, 'total_tokens': 45, 'input_token_details': {'cache_read': 0}})]}\n",
      "history\n",
      " [{'role': 'user', 'metadata': None, 'content': 'hi', 'options': None}, {'role': 'assistant', 'metadata': None, 'content': 'Hi there! How can I help you today?', 'options': None}, {'role': 'user', 'metadata': None, 'content': 'ohh', 'options': None}, {'role': 'assistant', 'metadata': None, 'content': \"Is there anything on your mind? I'm here to chat, answer questions, or help with tasks. Just let me know what you're thinking!\", 'options': None}, {'role': 'user', 'metadata': None, 'content': '1', 'options': None}, {'role': 'assistant', 'metadata': None, 'content': \"Okay! Is there anything you'd like me to do with the number 1?  For example:\\n\\n*   **Do you want me to do math with it?** (e.g., 1 + 5, 1 * 10)\\n*   **Do you want me to tell you something about the number 1?** (e.g., it's the first positive integer)\\n*   **Are you just acknowledging that you're here?**\\n\\nLet me know!\", 'options': None}, {'role': 'user', 'metadata': None, 'content': '1+2', 'options': None}, {'role': 'assistant', 'metadata': None, 'content': '1 + 2 = 3', 'options': None}, {'role': 'user', 'metadata': None, 'content': '2+3+5', 'options': None}, {'role': 'assistant', 'metadata': None, 'content': '2 + 3 + 5 = 10', 'options': None}, {'role': 'user', 'metadata': None, 'content': '2+3+5', 'options': None}, {'role': 'assistant', 'metadata': None, 'content': '2 + 3 + 5 = 10', 'options': None}, {'role': 'user', 'metadata': None, 'content': '2+3+5', 'options': None}, {'role': 'assistant', 'metadata': None, 'content': '2 + 3 + 5 = 10', 'options': None}, {'role': 'user', 'metadata': None, 'content': '2+3+5', 'options': None}, {'role': 'assistant', 'metadata': None, 'content': '2 + 3 + 5 = 10', 'options': None}, {'role': 'user', 'metadata': None, 'content': '2+3+5', 'options': None}, {'role': 'assistant', 'metadata': None, 'content': '2 + 3 + 5 = 10', 'options': None}]\n"
     ]
    },
    {
     "name": "stderr",
     "output_type": "stream",
     "text": [
      "c:\\Users\\DeepADabhi\\Desktop\\projects\\temp\\agents\\.venv\\Lib\\site-packages\\langchain_google_genai\\chat_models.py:1649: UserWarning: HumanMessage with empty content was removed to prevent API error\n",
      "  warnings.warn(\n"
     ]
    },
    {
     "name": "stdout",
     "output_type": "stream",
     "text": [
      "{'messages': [AIMessage(content='2 + 3 + 5 = 10', additional_kwargs={'metadata': None, 'options': None}, response_metadata={}, id='47640ffc-b985-4a65-b52e-48ee62cf9ae8'), HumanMessage(content='2+3+5', additional_kwargs={'metadata': None, 'options': None}, response_metadata={}, id='ef766075-5b6e-41fc-826b-325ef2e884ff'), AIMessage(content='2 + 3 + 5 = 10', additional_kwargs={'metadata': None, 'options': None}, response_metadata={}, id='03f16360-b42c-4817-b04c-b5a0f0f58f9c'), HumanMessage(content='', additional_kwargs={}, response_metadata={}, id='4bb5cf83-a7ee-4a9a-b31c-baa080195c9d'), AIMessage(content='', additional_kwargs={}, response_metadata={'prompt_feedback': {'block_reason': 0, 'safety_ratings': []}, 'finish_reason': 'STOP', 'model_name': 'gemini-2.0-flash', 'safety_ratings': []}, id='run--9fd6ac1d-a693-442e-a1d7-5e8be7c7a76d-0', usage_metadata={'input_tokens': 27, 'output_tokens': 0, 'total_tokens': 27, 'input_token_details': {'cache_read': 0}})]}\n",
      "history\n",
      " [{'role': 'user', 'metadata': None, 'content': 'hi', 'options': None}, {'role': 'assistant', 'metadata': None, 'content': 'Hi there! How can I help you today?', 'options': None}, {'role': 'user', 'metadata': None, 'content': 'ohh', 'options': None}, {'role': 'assistant', 'metadata': None, 'content': \"Is there anything on your mind? I'm here to chat, answer questions, or help with tasks. Just let me know what you're thinking!\", 'options': None}, {'role': 'user', 'metadata': None, 'content': '1', 'options': None}, {'role': 'assistant', 'metadata': None, 'content': \"Okay! Is there anything you'd like me to do with the number 1?  For example:\\n\\n*   **Do you want me to do math with it?** (e.g., 1 + 5, 1 * 10)\\n*   **Do you want me to tell you something about the number 1?** (e.g., it's the first positive integer)\\n*   **Are you just acknowledging that you're here?**\\n\\nLet me know!\", 'options': None}, {'role': 'user', 'metadata': None, 'content': '1+2', 'options': None}, {'role': 'assistant', 'metadata': None, 'content': '1 + 2 = 3', 'options': None}, {'role': 'user', 'metadata': None, 'content': '2+3+5', 'options': None}, {'role': 'assistant', 'metadata': None, 'content': '2 + 3 + 5 = 10', 'options': None}, {'role': 'user', 'metadata': None, 'content': '2+3+5', 'options': None}, {'role': 'assistant', 'metadata': None, 'content': '2 + 3 + 5 = 10', 'options': None}, {'role': 'user', 'metadata': None, 'content': '2+3+5', 'options': None}, {'role': 'assistant', 'metadata': None, 'content': '2 + 3 + 5 = 10', 'options': None}, {'role': 'user', 'metadata': None, 'content': '2+3+5', 'options': None}, {'role': 'assistant', 'metadata': None, 'content': '2 + 3 + 5 = 10', 'options': None}, {'role': 'user', 'metadata': None, 'content': '2+3+5', 'options': None}, {'role': 'assistant', 'metadata': None, 'content': '2 + 3 + 5 = 10', 'options': None}, {'role': 'user', 'metadata': None, 'content': '2+3+5', 'options': None}, {'role': 'assistant', 'metadata': None, 'content': '2 + 3 + 5 = 10', 'options': None}]\n"
     ]
    },
    {
     "name": "stderr",
     "output_type": "stream",
     "text": [
      "c:\\Users\\DeepADabhi\\Desktop\\projects\\temp\\agents\\.venv\\Lib\\site-packages\\langchain_google_genai\\chat_models.py:1649: UserWarning: HumanMessage with empty content was removed to prevent API error\n",
      "  warnings.warn(\n"
     ]
    },
    {
     "name": "stdout",
     "output_type": "stream",
     "text": [
      "{'messages': [AIMessage(content='2 + 3 + 5 = 10', additional_kwargs={'metadata': None, 'options': None}, response_metadata={}, id='5f4a1c8b-ca1c-4887-b171-5bad4ac6b591'), HumanMessage(content='', additional_kwargs={'metadata': None, 'options': None}, response_metadata={}, id='167edefa-119d-4ee2-8b70-4f7ab70b4314'), AIMessage(content='', additional_kwargs={'metadata': None, 'options': None}, response_metadata={}, id='0d89521d-8541-4064-8f5e-9e1c3e500f20'), HumanMessage(content='2+3+5\\n\\n', additional_kwargs={}, response_metadata={}, id='53629489-9530-44b6-a1ea-b344bd8baa61'), AIMessage(content='2 + 3 + 5 = 10', additional_kwargs={}, response_metadata={'prompt_feedback': {'block_reason': 0, 'safety_ratings': []}, 'finish_reason': 'STOP', 'model_name': 'gemini-2.0-flash', 'safety_ratings': []}, id='run--95c33993-4059-4fde-bfa2-0678a6d47296-0', usage_metadata={'input_tokens': 17, 'output_tokens': 12, 'total_tokens': 29, 'input_token_details': {'cache_read': 0}})]}\n",
      "history\n",
      " [{'role': 'user', 'metadata': None, 'content': 'hi', 'options': None}, {'role': 'assistant', 'metadata': None, 'content': 'Hi there! How can I help you today?', 'options': None}, {'role': 'user', 'metadata': None, 'content': 'ohh', 'options': None}, {'role': 'assistant', 'metadata': None, 'content': \"Is there anything on your mind? I'm here to chat, answer questions, or help with tasks. Just let me know what you're thinking!\", 'options': None}, {'role': 'user', 'metadata': None, 'content': '1', 'options': None}, {'role': 'assistant', 'metadata': None, 'content': \"Okay! Is there anything you'd like me to do with the number 1?  For example:\\n\\n*   **Do you want me to do math with it?** (e.g., 1 + 5, 1 * 10)\\n*   **Do you want me to tell you something about the number 1?** (e.g., it's the first positive integer)\\n*   **Are you just acknowledging that you're here?**\\n\\nLet me know!\", 'options': None}, {'role': 'user', 'metadata': None, 'content': '1+2', 'options': None}, {'role': 'assistant', 'metadata': None, 'content': '1 + 2 = 3', 'options': None}, {'role': 'user', 'metadata': None, 'content': '2+3+5', 'options': None}, {'role': 'assistant', 'metadata': None, 'content': '2 + 3 + 5 = 10', 'options': None}, {'role': 'user', 'metadata': None, 'content': '2+3+5', 'options': None}, {'role': 'assistant', 'metadata': None, 'content': '2 + 3 + 5 = 10', 'options': None}, {'role': 'user', 'metadata': None, 'content': '2+3+5', 'options': None}, {'role': 'assistant', 'metadata': None, 'content': '2 + 3 + 5 = 10', 'options': None}, {'role': 'user', 'metadata': None, 'content': '2+3+5', 'options': None}, {'role': 'assistant', 'metadata': None, 'content': '2 + 3 + 5 = 10', 'options': None}, {'role': 'user', 'metadata': None, 'content': '2+3+5', 'options': None}, {'role': 'assistant', 'metadata': None, 'content': '2 + 3 + 5 = 10', 'options': None}, {'role': 'user', 'metadata': None, 'content': '2+3+5', 'options': None}, {'role': 'assistant', 'metadata': None, 'content': '2 + 3 + 5 = 10', 'options': None}, {'role': 'user', 'metadata': None, 'content': '', 'options': None}, {'role': 'assistant', 'metadata': None, 'content': '', 'options': None}]\n",
      "{'messages': [AIMessage(content='', additional_kwargs={'metadata': None, 'options': None}, response_metadata={}, id='1556b058-cb9d-4079-99ec-97bee3c0c9e2'), HumanMessage(content='2+3+5', additional_kwargs={'metadata': None, 'options': None}, response_metadata={}, id='c2762a24-5d61-4e03-ac8b-6c85ec29e553'), AIMessage(content='2 + 3 + 5 = 10', additional_kwargs={'metadata': None, 'options': None}, response_metadata={}, id='064934e7-e22d-43e5-885c-2b7f1b9bb37a'), HumanMessage(content='2+3+5\\n\\n', additional_kwargs={}, response_metadata={}, id='ecbf758d-3f61-47a9-a7c6-510279b5844f'), AIMessage(content='2 + 3 + 5 = 10', additional_kwargs={}, response_metadata={'prompt_feedback': {'block_reason': 0, 'safety_ratings': []}, 'finish_reason': 'STOP', 'model_name': 'gemini-2.0-flash', 'safety_ratings': []}, id='run--fcb68906-9806-4f44-b23e-4862e4750c94-0', usage_metadata={'input_tokens': 22, 'output_tokens': 12, 'total_tokens': 34, 'input_token_details': {'cache_read': 0}})]}\n",
      "history\n",
      " [{'role': 'user', 'metadata': None, 'content': 'hi', 'options': None}, {'role': 'assistant', 'metadata': None, 'content': 'Hi there! How can I help you today?', 'options': None}, {'role': 'user', 'metadata': None, 'content': 'ohh', 'options': None}, {'role': 'assistant', 'metadata': None, 'content': \"Is there anything on your mind? I'm here to chat, answer questions, or help with tasks. Just let me know what you're thinking!\", 'options': None}, {'role': 'user', 'metadata': None, 'content': '1', 'options': None}, {'role': 'assistant', 'metadata': None, 'content': \"Okay! Is there anything you'd like me to do with the number 1?  For example:\\n\\n*   **Do you want me to do math with it?** (e.g., 1 + 5, 1 * 10)\\n*   **Do you want me to tell you something about the number 1?** (e.g., it's the first positive integer)\\n*   **Are you just acknowledging that you're here?**\\n\\nLet me know!\", 'options': None}, {'role': 'user', 'metadata': None, 'content': '1+2', 'options': None}, {'role': 'assistant', 'metadata': None, 'content': '1 + 2 = 3', 'options': None}, {'role': 'user', 'metadata': None, 'content': '2+3+5', 'options': None}, {'role': 'assistant', 'metadata': None, 'content': '2 + 3 + 5 = 10', 'options': None}, {'role': 'user', 'metadata': None, 'content': '2+3+5', 'options': None}, {'role': 'assistant', 'metadata': None, 'content': '2 + 3 + 5 = 10', 'options': None}, {'role': 'user', 'metadata': None, 'content': '2+3+5', 'options': None}, {'role': 'assistant', 'metadata': None, 'content': '2 + 3 + 5 = 10', 'options': None}, {'role': 'user', 'metadata': None, 'content': '2+3+5', 'options': None}, {'role': 'assistant', 'metadata': None, 'content': '2 + 3 + 5 = 10', 'options': None}, {'role': 'user', 'metadata': None, 'content': '2+3+5', 'options': None}, {'role': 'assistant', 'metadata': None, 'content': '2 + 3 + 5 = 10', 'options': None}, {'role': 'user', 'metadata': None, 'content': '2+3+5', 'options': None}, {'role': 'assistant', 'metadata': None, 'content': '2 + 3 + 5 = 10', 'options': None}, {'role': 'user', 'metadata': None, 'content': '', 'options': None}, {'role': 'assistant', 'metadata': None, 'content': '', 'options': None}, {'role': 'user', 'metadata': None, 'content': '2+3+5', 'options': None}, {'role': 'assistant', 'metadata': None, 'content': '2 + 3 + 5 = 10', 'options': None}]\n",
      "{'messages': [AIMessage(content='2 + 3 + 5 = 10', additional_kwargs={'metadata': None, 'options': None}, response_metadata={}, id='d870a47a-007f-40e1-958f-b471cb4b83cb'), HumanMessage(content='2+3+5', additional_kwargs={'metadata': None, 'options': None}, response_metadata={}, id='f6a2928c-351b-4589-b34a-5972e6ac6db9'), AIMessage(content='2 + 3 + 5 = 10', additional_kwargs={'metadata': None, 'options': None}, response_metadata={}, id='ec884a14-0f24-4e0a-ae4d-208abf8c2ff8'), HumanMessage(content='2+3+5\\n\\n', additional_kwargs={}, response_metadata={}, id='bde7b969-ccbb-4c3b-b38a-abdf1c3347eb'), AIMessage(content='2 + 3 + 5 = 10', additional_kwargs={}, response_metadata={'prompt_feedback': {'block_reason': 0, 'safety_ratings': []}, 'finish_reason': 'STOP', 'model_name': 'gemini-2.0-flash', 'safety_ratings': []}, id='run--1742388b-0e1d-4f26-bbdf-5df6599fe21f-0', usage_metadata={'input_tokens': 33, 'output_tokens': 12, 'total_tokens': 45, 'input_token_details': {'cache_read': 0}})]}\n",
      "history\n",
      " [{'role': 'user', 'metadata': None, 'content': 'hi', 'options': None}, {'role': 'assistant', 'metadata': None, 'content': 'Hi there! How can I help you today?', 'options': None}, {'role': 'user', 'metadata': None, 'content': 'ohh', 'options': None}, {'role': 'assistant', 'metadata': None, 'content': \"Is there anything on your mind? I'm here to chat, answer questions, or help with tasks. Just let me know what you're thinking!\", 'options': None}, {'role': 'user', 'metadata': None, 'content': '1', 'options': None}, {'role': 'assistant', 'metadata': None, 'content': \"Okay! Is there anything you'd like me to do with the number 1?  For example:\\n\\n*   **Do you want me to do math with it?** (e.g., 1 + 5, 1 * 10)\\n*   **Do you want me to tell you something about the number 1?** (e.g., it's the first positive integer)\\n*   **Are you just acknowledging that you're here?**\\n\\nLet me know!\", 'options': None}, {'role': 'user', 'metadata': None, 'content': '1+2', 'options': None}, {'role': 'assistant', 'metadata': None, 'content': '1 + 2 = 3', 'options': None}, {'role': 'user', 'metadata': None, 'content': '2+3+5', 'options': None}, {'role': 'assistant', 'metadata': None, 'content': '2 + 3 + 5 = 10', 'options': None}, {'role': 'user', 'metadata': None, 'content': '2+3+5', 'options': None}, {'role': 'assistant', 'metadata': None, 'content': '2 + 3 + 5 = 10', 'options': None}, {'role': 'user', 'metadata': None, 'content': '2+3+5', 'options': None}, {'role': 'assistant', 'metadata': None, 'content': '2 + 3 + 5 = 10', 'options': None}, {'role': 'user', 'metadata': None, 'content': '2+3+5', 'options': None}, {'role': 'assistant', 'metadata': None, 'content': '2 + 3 + 5 = 10', 'options': None}, {'role': 'user', 'metadata': None, 'content': '2+3+5', 'options': None}, {'role': 'assistant', 'metadata': None, 'content': '2 + 3 + 5 = 10', 'options': None}, {'role': 'user', 'metadata': None, 'content': '2+3+5', 'options': None}, {'role': 'assistant', 'metadata': None, 'content': '2 + 3 + 5 = 10', 'options': None}, {'role': 'user', 'metadata': None, 'content': '', 'options': None}, {'role': 'assistant', 'metadata': None, 'content': '', 'options': None}, {'role': 'user', 'metadata': None, 'content': '2+3+5', 'options': None}, {'role': 'assistant', 'metadata': None, 'content': '2 + 3 + 5 = 10', 'options': None}, {'role': 'user', 'metadata': None, 'content': '2+3+5', 'options': None}, {'role': 'assistant', 'metadata': None, 'content': '2 + 3 + 5 = 10', 'options': None}]\n",
      "{'messages': [AIMessage(content='2 + 3 + 5 = 10', additional_kwargs={'metadata': None, 'options': None}, response_metadata={}, id='c529074d-8c51-4812-afe4-837f15a178ba'), HumanMessage(content='2+3+5', additional_kwargs={'metadata': None, 'options': None}, response_metadata={}, id='06517d3d-bac1-4006-b5bd-1dc1f465ed2e'), AIMessage(content='2 + 3 + 5 = 10', additional_kwargs={'metadata': None, 'options': None}, response_metadata={}, id='11a82a18-a8f4-428a-905f-26ccaebab447'), HumanMessage(content='2+3+5\\n\\n', additional_kwargs={}, response_metadata={}, id='b3da47f5-ad98-461d-ba9c-9c0adc97ffca'), AIMessage(content='2 + 3 + 5 = 10', additional_kwargs={}, response_metadata={'prompt_feedback': {'block_reason': 0, 'safety_ratings': []}, 'finish_reason': 'STOP', 'model_name': 'gemini-2.0-flash', 'safety_ratings': []}, id='run--36bd0e9d-fb55-40c8-b69d-6dd9760f5300-0', usage_metadata={'input_tokens': 33, 'output_tokens': 12, 'total_tokens': 45, 'input_token_details': {'cache_read': 0}})]}\n",
      "history\n",
      " [{'role': 'user', 'metadata': None, 'content': 'hi', 'options': None}, {'role': 'assistant', 'metadata': None, 'content': 'Hi there! How can I help you today?', 'options': None}, {'role': 'user', 'metadata': None, 'content': 'ohh', 'options': None}, {'role': 'assistant', 'metadata': None, 'content': \"Is there anything on your mind? I'm here to chat, answer questions, or help with tasks. Just let me know what you're thinking!\", 'options': None}, {'role': 'user', 'metadata': None, 'content': '1', 'options': None}, {'role': 'assistant', 'metadata': None, 'content': \"Okay! Is there anything you'd like me to do with the number 1?  For example:\\n\\n*   **Do you want me to do math with it?** (e.g., 1 + 5, 1 * 10)\\n*   **Do you want me to tell you something about the number 1?** (e.g., it's the first positive integer)\\n*   **Are you just acknowledging that you're here?**\\n\\nLet me know!\", 'options': None}, {'role': 'user', 'metadata': None, 'content': '1+2', 'options': None}, {'role': 'assistant', 'metadata': None, 'content': '1 + 2 = 3', 'options': None}, {'role': 'user', 'metadata': None, 'content': '2+3+5', 'options': None}, {'role': 'assistant', 'metadata': None, 'content': '2 + 3 + 5 = 10', 'options': None}, {'role': 'user', 'metadata': None, 'content': '2+3+5', 'options': None}, {'role': 'assistant', 'metadata': None, 'content': '2 + 3 + 5 = 10', 'options': None}, {'role': 'user', 'metadata': None, 'content': '2+3+5', 'options': None}, {'role': 'assistant', 'metadata': None, 'content': '2 + 3 + 5 = 10', 'options': None}, {'role': 'user', 'metadata': None, 'content': '2+3+5', 'options': None}, {'role': 'assistant', 'metadata': None, 'content': '2 + 3 + 5 = 10', 'options': None}, {'role': 'user', 'metadata': None, 'content': '2+3+5', 'options': None}, {'role': 'assistant', 'metadata': None, 'content': '2 + 3 + 5 = 10', 'options': None}, {'role': 'user', 'metadata': None, 'content': '2+3+5', 'options': None}, {'role': 'assistant', 'metadata': None, 'content': '2 + 3 + 5 = 10', 'options': None}, {'role': 'user', 'metadata': None, 'content': '', 'options': None}, {'role': 'assistant', 'metadata': None, 'content': '', 'options': None}, {'role': 'user', 'metadata': None, 'content': '2+3+5', 'options': None}, {'role': 'assistant', 'metadata': None, 'content': '2 + 3 + 5 = 10', 'options': None}, {'role': 'user', 'metadata': None, 'content': '2+3+5', 'options': None}, {'role': 'assistant', 'metadata': None, 'content': '2 + 3 + 5 = 10', 'options': None}, {'role': 'user', 'metadata': None, 'content': '2+3+5', 'options': None}, {'role': 'assistant', 'metadata': None, 'content': '2 + 3 + 5 = 10', 'options': None}]\n",
      "{'messages': [AIMessage(content='2 + 3 + 5 = 10', additional_kwargs={'metadata': None, 'options': None}, response_metadata={}, id='3825455b-3ecc-458e-b785-da3a1b0eed87'), HumanMessage(content='2+3+5', additional_kwargs={'metadata': None, 'options': None}, response_metadata={}, id='7dcce9a9-1ed5-4fef-9c68-cc3c9f3c9387'), AIMessage(content='2 + 3 + 5 = 10', additional_kwargs={'metadata': None, 'options': None}, response_metadata={}, id='ad70c9db-6f31-484e-97d1-ef837707336e'), HumanMessage(content='2+3+5\\n\\n', additional_kwargs={}, response_metadata={}, id='b7ef15dc-6694-4348-85ef-3b17c94eefb3'), AIMessage(content='2 + 3 + 5 = 10', additional_kwargs={}, response_metadata={'prompt_feedback': {'block_reason': 0, 'safety_ratings': []}, 'finish_reason': 'STOP', 'model_name': 'gemini-2.0-flash', 'safety_ratings': []}, id='run--50451794-e049-46b5-8632-317dd424f47c-0', usage_metadata={'input_tokens': 33, 'output_tokens': 12, 'total_tokens': 45, 'input_token_details': {'cache_read': 0}})]}\n",
      "history\n",
      " [{'role': 'user', 'metadata': None, 'content': 'hi', 'options': None}, {'role': 'assistant', 'metadata': None, 'content': 'Hi there! How can I help you today?', 'options': None}, {'role': 'user', 'metadata': None, 'content': 'ohh', 'options': None}, {'role': 'assistant', 'metadata': None, 'content': \"Is there anything on your mind? I'm here to chat, answer questions, or help with tasks. Just let me know what you're thinking!\", 'options': None}, {'role': 'user', 'metadata': None, 'content': '1', 'options': None}, {'role': 'assistant', 'metadata': None, 'content': \"Okay! Is there anything you'd like me to do with the number 1?  For example:\\n\\n*   **Do you want me to do math with it?** (e.g., 1 + 5, 1 * 10)\\n*   **Do you want me to tell you something about the number 1?** (e.g., it's the first positive integer)\\n*   **Are you just acknowledging that you're here?**\\n\\nLet me know!\", 'options': None}, {'role': 'user', 'metadata': None, 'content': '1+2', 'options': None}, {'role': 'assistant', 'metadata': None, 'content': '1 + 2 = 3', 'options': None}, {'role': 'user', 'metadata': None, 'content': '2+3+5', 'options': None}, {'role': 'assistant', 'metadata': None, 'content': '2 + 3 + 5 = 10', 'options': None}, {'role': 'user', 'metadata': None, 'content': '2+3+5', 'options': None}, {'role': 'assistant', 'metadata': None, 'content': '2 + 3 + 5 = 10', 'options': None}, {'role': 'user', 'metadata': None, 'content': '2+3+5', 'options': None}, {'role': 'assistant', 'metadata': None, 'content': '2 + 3 + 5 = 10', 'options': None}, {'role': 'user', 'metadata': None, 'content': '2+3+5', 'options': None}, {'role': 'assistant', 'metadata': None, 'content': '2 + 3 + 5 = 10', 'options': None}, {'role': 'user', 'metadata': None, 'content': '2+3+5', 'options': None}, {'role': 'assistant', 'metadata': None, 'content': '2 + 3 + 5 = 10', 'options': None}, {'role': 'user', 'metadata': None, 'content': '2+3+5', 'options': None}, {'role': 'assistant', 'metadata': None, 'content': '2 + 3 + 5 = 10', 'options': None}, {'role': 'user', 'metadata': None, 'content': '', 'options': None}, {'role': 'assistant', 'metadata': None, 'content': '', 'options': None}, {'role': 'user', 'metadata': None, 'content': '2+3+5', 'options': None}, {'role': 'assistant', 'metadata': None, 'content': '2 + 3 + 5 = 10', 'options': None}, {'role': 'user', 'metadata': None, 'content': '2+3+5', 'options': None}, {'role': 'assistant', 'metadata': None, 'content': '2 + 3 + 5 = 10', 'options': None}, {'role': 'user', 'metadata': None, 'content': '2+3+5', 'options': None}, {'role': 'assistant', 'metadata': None, 'content': '2 + 3 + 5 = 10', 'options': None}, {'role': 'user', 'metadata': None, 'content': '2+3+5', 'options': None}, {'role': 'assistant', 'metadata': None, 'content': '2 + 3 + 5 = 10', 'options': None}]\n"
     ]
    },
    {
     "name": "stderr",
     "output_type": "stream",
     "text": [
      "Retrying langchain_google_genai.chat_models._chat_with_retry.<locals>._chat_with_retry in 2.0 seconds as it raised ResourceExhausted: 429 You exceeded your current quota, please check your plan and billing details. For more information on this error, head to: https://ai.google.dev/gemini-api/docs/rate-limits. [violations {\n",
      "  quota_metric: \"generativelanguage.googleapis.com/generate_content_free_tier_requests\"\n",
      "  quota_id: \"GenerateRequestsPerMinutePerProjectPerModel-FreeTier\"\n",
      "  quota_dimensions {\n",
      "    key: \"model\"\n",
      "    value: \"gemini-2.0-flash\"\n",
      "  }\n",
      "  quota_dimensions {\n",
      "    key: \"location\"\n",
      "    value: \"global\"\n",
      "  }\n",
      "  quota_value: 15\n",
      "}\n",
      ", links {\n",
      "  description: \"Learn more about Gemini API quotas\"\n",
      "  url: \"https://ai.google.dev/gemini-api/docs/rate-limits\"\n",
      "}\n",
      ", retry_delay {\n",
      "  seconds: 53\n",
      "}\n",
      "].\n",
      "Traceback (most recent call last):\n",
      "  File \"c:\\Users\\DeepADabhi\\Desktop\\projects\\temp\\agents\\.venv\\Lib\\site-packages\\gradio\\queueing.py\", line 625, in process_events\n",
      "    response = await route_utils.call_process_api(\n",
      "               ^^^^^^^^^^^^^^^^^^^^^^^^^^^^^^^^^^^\n",
      "  File \"c:\\Users\\DeepADabhi\\Desktop\\projects\\temp\\agents\\.venv\\Lib\\site-packages\\gradio\\route_utils.py\", line 322, in call_process_api\n",
      "    output = await app.get_blocks().process_api(\n",
      "             ^^^^^^^^^^^^^^^^^^^^^^^^^^^^^^^^^^^\n",
      "  File \"c:\\Users\\DeepADabhi\\Desktop\\projects\\temp\\agents\\.venv\\Lib\\site-packages\\gradio\\blocks.py\", line 2220, in process_api\n",
      "    result = await self.call_function(\n",
      "             ^^^^^^^^^^^^^^^^^^^^^^^^^\n",
      "  File \"c:\\Users\\DeepADabhi\\Desktop\\projects\\temp\\agents\\.venv\\Lib\\site-packages\\gradio\\blocks.py\", line 1729, in call_function\n",
      "    prediction = await fn(*processed_input)\n",
      "                 ^^^^^^^^^^^^^^^^^^^^^^^^^^\n",
      "  File \"c:\\Users\\DeepADabhi\\Desktop\\projects\\temp\\agents\\.venv\\Lib\\site-packages\\gradio\\utils.py\", line 871, in async_wrapper\n",
      "    response = await f(*args, **kwargs)\n",
      "               ^^^^^^^^^^^^^^^^^^^^^^^^\n",
      "  File \"c:\\Users\\DeepADabhi\\Desktop\\projects\\temp\\agents\\.venv\\Lib\\site-packages\\gradio\\chat_interface.py\", line 545, in __wrapper\n",
      "    return await submit_fn(*args, **kwargs)\n",
      "           ^^^^^^^^^^^^^^^^^^^^^^^^^^^^^^^^\n",
      "  File \"c:\\Users\\DeepADabhi\\Desktop\\projects\\temp\\agents\\.venv\\Lib\\site-packages\\gradio\\chat_interface.py\", line 917, in _submit_fn\n",
      "    response = await anyio.to_thread.run_sync(\n",
      "               ^^^^^^^^^^^^^^^^^^^^^^^^^^^^^^^\n",
      "  File \"c:\\Users\\DeepADabhi\\Desktop\\projects\\temp\\agents\\.venv\\Lib\\site-packages\\anyio\\to_thread.py\", line 56, in run_sync\n",
      "    return await get_async_backend().run_sync_in_worker_thread(\n",
      "           ^^^^^^^^^^^^^^^^^^^^^^^^^^^^^^^^^^^^^^^^^^^^^^^^^^^^\n",
      "  File \"c:\\Users\\DeepADabhi\\Desktop\\projects\\temp\\agents\\.venv\\Lib\\site-packages\\anyio\\_backends\\_asyncio.py\", line 2470, in run_sync_in_worker_thread\n",
      "    return await future\n",
      "           ^^^^^^^^^^^^\n",
      "  File \"c:\\Users\\DeepADabhi\\Desktop\\projects\\temp\\agents\\.venv\\Lib\\site-packages\\anyio\\_backends\\_asyncio.py\", line 967, in run\n",
      "    result = context.run(func, *args)\n",
      "             ^^^^^^^^^^^^^^^^^^^^^^^^\n",
      "  File \"C:\\Users\\DeepADabhi\\AppData\\Local\\Temp\\ipykernel_9532\\1453978088.py\", line 10, in _chat\n",
      "    result = graph.invoke(state)\n",
      "             ^^^^^^^^^^^^^^^^^^^\n",
      "  File \"c:\\Users\\DeepADabhi\\Desktop\\projects\\temp\\agents\\.venv\\Lib\\site-packages\\langgraph\\pregel\\__init__.py\", line 2719, in invoke\n",
      "    for chunk in self.stream(\n",
      "                 ^^^^^^^^^^^^\n",
      "  File \"c:\\Users\\DeepADabhi\\Desktop\\projects\\temp\\agents\\.venv\\Lib\\site-packages\\langgraph\\pregel\\__init__.py\", line 2436, in stream\n",
      "    for _ in runner.tick(\n",
      "             ^^^^^^^^^^^^\n",
      "  File \"c:\\Users\\DeepADabhi\\Desktop\\projects\\temp\\agents\\.venv\\Lib\\site-packages\\langgraph\\pregel\\runner.py\", line 162, in tick\n",
      "    run_with_retry(\n",
      "  File \"c:\\Users\\DeepADabhi\\Desktop\\projects\\temp\\agents\\.venv\\Lib\\site-packages\\langgraph\\pregel\\retry.py\", line 40, in run_with_retry\n",
      "    return task.proc.invoke(task.input, config)\n",
      "           ^^^^^^^^^^^^^^^^^^^^^^^^^^^^^^^^^^^^\n",
      "  File \"c:\\Users\\DeepADabhi\\Desktop\\projects\\temp\\agents\\.venv\\Lib\\site-packages\\langgraph\\utils\\runnable.py\", line 623, in invoke\n",
      "    input = context.run(step.invoke, input, config, **kwargs)\n",
      "            ^^^^^^^^^^^^^^^^^^^^^^^^^^^^^^^^^^^^^^^^^^^^^^^^^\n",
      "  File \"c:\\Users\\DeepADabhi\\Desktop\\projects\\temp\\agents\\.venv\\Lib\\site-packages\\langgraph\\utils\\runnable.py\", line 377, in invoke\n",
      "    ret = self.func(*args, **kwargs)\n",
      "          ^^^^^^^^^^^^^^^^^^^^^^^^^^\n",
      "  File \"C:\\Users\\DeepADabhi\\AppData\\Local\\Temp\\ipykernel_9532\\4244065517.py\", line 24, in chatbot_node\n",
      "    reply = llm.invoke(old_state.messages)  # Returns AIMessage\n",
      "            ^^^^^^^^^^^^^^^^^^^^^^^^^^^^^^\n",
      "  File \"c:\\Users\\DeepADabhi\\Desktop\\projects\\temp\\agents\\.venv\\Lib\\site-packages\\langchain_google_genai\\chat_models.py\", line 1334, in invoke\n",
      "    return super().invoke(input, config, stop=stop, **kwargs)\n",
      "           ^^^^^^^^^^^^^^^^^^^^^^^^^^^^^^^^^^^^^^^^^^^^^^^^^^\n",
      "  File \"c:\\Users\\DeepADabhi\\Desktop\\projects\\temp\\agents\\.venv\\Lib\\site-packages\\langchain_core\\language_models\\chat_models.py\", line 395, in invoke\n",
      "    self.generate_prompt(\n",
      "  File \"c:\\Users\\DeepADabhi\\Desktop\\projects\\temp\\agents\\.venv\\Lib\\site-packages\\langchain_core\\language_models\\chat_models.py\", line 980, in generate_prompt\n",
      "    return self.generate(prompt_messages, stop=stop, callbacks=callbacks, **kwargs)\n",
      "           ^^^^^^^^^^^^^^^^^^^^^^^^^^^^^^^^^^^^^^^^^^^^^^^^^^^^^^^^^^^^^^^^^^^^^^^^\n",
      "  File \"c:\\Users\\DeepADabhi\\Desktop\\projects\\temp\\agents\\.venv\\Lib\\site-packages\\langchain_core\\language_models\\chat_models.py\", line 799, in generate\n",
      "    self._generate_with_cache(\n",
      "  File \"c:\\Users\\DeepADabhi\\Desktop\\projects\\temp\\agents\\.venv\\Lib\\site-packages\\langchain_core\\language_models\\chat_models.py\", line 1045, in _generate_with_cache\n",
      "    result = self._generate(\n",
      "             ^^^^^^^^^^^^^^^\n",
      "  File \"c:\\Users\\DeepADabhi\\Desktop\\projects\\temp\\agents\\.venv\\Lib\\site-packages\\langchain_google_genai\\chat_models.py\", line 1441, in _generate\n",
      "    response: GenerateContentResponse = _chat_with_retry(\n",
      "                                        ^^^^^^^^^^^^^^^^^\n",
      "  File \"c:\\Users\\DeepADabhi\\Desktop\\projects\\temp\\agents\\.venv\\Lib\\site-packages\\langchain_google_genai\\chat_models.py\", line 231, in _chat_with_retry\n",
      "    return _chat_with_retry(**params)\n",
      "           ^^^^^^^^^^^^^^^^^^^^^^^^^^\n",
      "  File \"c:\\Users\\DeepADabhi\\Desktop\\projects\\temp\\agents\\.venv\\Lib\\site-packages\\tenacity\\__init__.py\", line 338, in wrapped_f\n",
      "    return copy(f, *args, **kw)\n",
      "           ^^^^^^^^^^^^^^^^^^^^\n",
      "  File \"c:\\Users\\DeepADabhi\\Desktop\\projects\\temp\\agents\\.venv\\Lib\\site-packages\\tenacity\\__init__.py\", line 477, in __call__\n",
      "    do = self.iter(retry_state=retry_state)\n",
      "         ^^^^^^^^^^^^^^^^^^^^^^^^^^^^^^^^^^\n",
      "  File \"c:\\Users\\DeepADabhi\\Desktop\\projects\\temp\\agents\\.venv\\Lib\\site-packages\\tenacity\\__init__.py\", line 378, in iter\n",
      "    result = action(retry_state)\n",
      "             ^^^^^^^^^^^^^^^^^^^\n",
      "  File \"c:\\Users\\DeepADabhi\\Desktop\\projects\\temp\\agents\\.venv\\Lib\\site-packages\\tenacity\\__init__.py\", line 420, in exc_check\n",
      "    raise retry_exc.reraise()\n",
      "          ^^^^^^^^^^^^^^^^^^^\n",
      "  File \"c:\\Users\\DeepADabhi\\Desktop\\projects\\temp\\agents\\.venv\\Lib\\site-packages\\tenacity\\__init__.py\", line 187, in reraise\n",
      "    raise self.last_attempt.result()\n",
      "          ^^^^^^^^^^^^^^^^^^^^^^^^^^\n",
      "  File \"C:\\Users\\DeepADabhi\\AppData\\Roaming\\uv\\python\\cpython-3.12.9-windows-x86_64-none\\Lib\\concurrent\\futures\\_base.py\", line 449, in result\n",
      "    return self.__get_result()\n",
      "           ^^^^^^^^^^^^^^^^^^^\n",
      "  File \"C:\\Users\\DeepADabhi\\AppData\\Roaming\\uv\\python\\cpython-3.12.9-windows-x86_64-none\\Lib\\concurrent\\futures\\_base.py\", line 401, in __get_result\n",
      "    raise self._exception\n",
      "  File \"c:\\Users\\DeepADabhi\\Desktop\\projects\\temp\\agents\\.venv\\Lib\\site-packages\\tenacity\\__init__.py\", line 480, in __call__\n",
      "    result = fn(*args, **kwargs)\n",
      "             ^^^^^^^^^^^^^^^^^^^\n",
      "  File \"c:\\Users\\DeepADabhi\\Desktop\\projects\\temp\\agents\\.venv\\Lib\\site-packages\\langchain_google_genai\\chat_models.py\", line 222, in _chat_with_retry\n",
      "    raise e\n",
      "  File \"c:\\Users\\DeepADabhi\\Desktop\\projects\\temp\\agents\\.venv\\Lib\\site-packages\\langchain_google_genai\\chat_models.py\", line 206, in _chat_with_retry\n",
      "    return generation_method(**kwargs)\n",
      "           ^^^^^^^^^^^^^^^^^^^^^^^^^^^\n",
      "  File \"c:\\Users\\DeepADabhi\\Desktop\\projects\\temp\\agents\\.venv\\Lib\\site-packages\\google\\ai\\generativelanguage_v1beta\\services\\generative_service\\client.py\", line 868, in generate_content\n",
      "    response = rpc(\n",
      "               ^^^^\n",
      "  File \"c:\\Users\\DeepADabhi\\Desktop\\projects\\temp\\agents\\.venv\\Lib\\site-packages\\google\\api_core\\gapic_v1\\method.py\", line 131, in __call__\n",
      "    return wrapped_func(*args, **kwargs)\n",
      "           ^^^^^^^^^^^^^^^^^^^^^^^^^^^^^\n",
      "  File \"c:\\Users\\DeepADabhi\\Desktop\\projects\\temp\\agents\\.venv\\Lib\\site-packages\\google\\api_core\\retry\\retry_unary.py\", line 294, in retry_wrapped_func\n",
      "    return retry_target(\n",
      "           ^^^^^^^^^^^^^\n",
      "  File \"c:\\Users\\DeepADabhi\\Desktop\\projects\\temp\\agents\\.venv\\Lib\\site-packages\\google\\api_core\\retry\\retry_unary.py\", line 156, in retry_target\n",
      "    next_sleep = _retry_error_helper(\n",
      "                 ^^^^^^^^^^^^^^^^^^^^\n",
      "  File \"c:\\Users\\DeepADabhi\\Desktop\\projects\\temp\\agents\\.venv\\Lib\\site-packages\\google\\api_core\\retry\\retry_base.py\", line 214, in _retry_error_helper\n",
      "    raise final_exc from source_exc\n",
      "  File \"c:\\Users\\DeepADabhi\\Desktop\\projects\\temp\\agents\\.venv\\Lib\\site-packages\\google\\api_core\\retry\\retry_unary.py\", line 147, in retry_target\n",
      "    result = target()\n",
      "             ^^^^^^^^\n",
      "  File \"c:\\Users\\DeepADabhi\\Desktop\\projects\\temp\\agents\\.venv\\Lib\\site-packages\\google\\api_core\\timeout.py\", line 130, in func_with_timeout\n",
      "    return func(*args, **kwargs)\n",
      "           ^^^^^^^^^^^^^^^^^^^^^\n",
      "  File \"c:\\Users\\DeepADabhi\\Desktop\\projects\\temp\\agents\\.venv\\Lib\\site-packages\\google\\api_core\\grpc_helpers.py\", line 78, in error_remapped_callable\n",
      "    raise exceptions.from_grpc_error(exc) from exc\n",
      "google.api_core.exceptions.ResourceExhausted: 429 You exceeded your current quota, please check your plan and billing details. For more information on this error, head to: https://ai.google.dev/gemini-api/docs/rate-limits. [violations {\n",
      "  quota_metric: \"generativelanguage.googleapis.com/generate_content_free_tier_requests\"\n",
      "  quota_id: \"GenerateRequestsPerMinutePerProjectPerModel-FreeTier\"\n",
      "  quota_dimensions {\n",
      "    key: \"model\"\n",
      "    value: \"gemini-2.0-flash\"\n",
      "  }\n",
      "  quota_dimensions {\n",
      "    key: \"location\"\n",
      "    value: \"global\"\n",
      "  }\n",
      "  quota_value: 15\n",
      "}\n",
      ", links {\n",
      "  description: \"Learn more about Gemini API quotas\"\n",
      "  url: \"https://ai.google.dev/gemini-api/docs/rate-limits\"\n",
      "}\n",
      ", retry_delay {\n",
      "  seconds: 51\n",
      "}\n",
      "]\n",
      "During task with name 'chatbot' and id '305667e4-5f97-59a3-ba96-a86764ebcc39'\n"
     ]
    }
   ],
   "source": [
    "def _chat(user_input: str, history: list):\n",
    "    messages = history or [{\"role\": \"user\", \"content\": user_input}]\n",
    "    if history and history[-1][\"role\"] == \"user\" and history[-1][\"content\"] == user_input:\n",
    "        messages = history\n",
    "    else:\n",
    "        messages = history + [{\"role\": \"user\", \"content\": user_input}]\n",
    "\n",
    "    messages = messages[-4:]\n",
    "    state = State(messages=messages)\n",
    "    result = graph.invoke(state)\n",
    "    print(result)\n",
    "    print(\"history\\n\", history)\n",
    "    return result   ['messages'][-1].content\n",
    "\n",
    "gr.ChatInterface(_chat, type=\"messages\").launch()"
   ]
  },
  {
   "cell_type": "code",
   "execution_count": null,
   "id": "4a632844",
   "metadata": {},
   "outputs": [],
   "source": []
  }
 ],
 "metadata": {
  "kernelspec": {
   "display_name": "agents",
   "language": "python",
   "name": "python3"
  },
  "language_info": {
   "codemirror_mode": {
    "name": "ipython",
    "version": 3
   },
   "file_extension": ".py",
   "mimetype": "text/x-python",
   "name": "python",
   "nbconvert_exporter": "python",
   "pygments_lexer": "ipython3",
   "version": "3.12.9"
  }
 },
 "nbformat": 4,
 "nbformat_minor": 5
}
