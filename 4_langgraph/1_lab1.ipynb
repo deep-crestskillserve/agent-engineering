{
 "cells": [
  {
   "cell_type": "markdown",
   "metadata": {},
   "source": [
    "## Welcome back to Python Notebooks!\n",
    "\n",
    "Didja miss me??\n",
    "\n",
    "### And welcome to Week 4, Day 2 - introducing LangGraph!"
   ]
  },
  {
   "cell_type": "code",
   "execution_count": 1,
   "metadata": {},
   "outputs": [],
   "source": [
    "from typing import Annotated\n",
    "from langgraph.graph import StateGraph, START, END\n",
    "from langgraph.graph.message import add_messages\n",
    "from dotenv import load_dotenv\n",
    "from IPython.display import Image, display\n",
    "import gradio as gr\n",
    "from langchain_openai import ChatOpenAI\n",
    "from pydantic import BaseModel\n",
    "import random\n",
    "import os\n",
    "from openai import AsyncOpenAI\n",
    "from agents import OpenAIChatCompletionsModel\n"
   ]
  },
  {
   "cell_type": "code",
   "execution_count": 2,
   "metadata": {},
   "outputs": [],
   "source": [
    "# Some useful constants\n",
    "\n",
    "nouns = [\"Cabbages\", \"Unicorns\", \"Toasters\", \"Penguins\", \"Bananas\", \"Zombies\", \"Rainbows\", \"Eels\", \"Pickles\", \"Muffins\"]\n",
    "adjectives = [\"outrageous\", \"smelly\", \"pedantic\", \"existential\", \"moody\", \"sparkly\", \"untrustworthy\", \"sarcastic\", \"squishy\", \"haunted\"]"
   ]
  },
  {
   "cell_type": "code",
   "execution_count": 2,
   "metadata": {},
   "outputs": [
    {
     "data": {
      "text/plain": [
       "True"
      ]
     },
     "execution_count": 2,
     "metadata": {},
     "output_type": "execute_result"
    }
   ],
   "source": [
    "# Our favorite first step! Crew was doing this for us, by the way.\n",
    "load_dotenv(override=True)"
   ]
  },
  {
   "cell_type": "code",
   "execution_count": 4,
   "metadata": {},
   "outputs": [
    {
     "name": "stdout",
     "output_type": "stream",
     "text": [
      "HELLO\n",
      "\n"
     ]
    },
    {
     "data": {
      "text/plain": [
       "'HELLO'"
      ]
     },
     "execution_count": 4,
     "metadata": {},
     "output_type": "execute_result"
    }
   ],
   "source": [
    "def shout(text: Annotated[str, \"something to be shouted\"]) -> str:\n",
    "    print(text.upper())\n",
    "    print()\n",
    "    return text.upper()\n",
    "\n",
    "shout(\"hello\")"
   ]
  },
  {
   "cell_type": "code",
   "execution_count": 5,
   "metadata": {},
   "outputs": [
    {
     "name": "stdout",
     "output_type": "stream",
     "text": [
      "HELLO\n"
     ]
    },
    {
     "data": {
      "text/plain": [
       "'HELLO'"
      ]
     },
     "execution_count": 5,
     "metadata": {},
     "output_type": "execute_result"
    }
   ],
   "source": [
    "def shout(text: str) ->str:\n",
    "    print(text.upper())\n",
    "    return text.upper()\n",
    "\n",
    "shout(\"Hello\")"
   ]
  },
  {
   "cell_type": "markdown",
   "metadata": {},
   "source": [
    "### A word about \"Annotated\"\n",
    "\n",
    "You probably know this; type hinting is a feature in Python that lets you specify the type of something:\n",
    "\n",
    "`my_favorite_things: List`\n",
    "\n",
    "But you may not know this:\n",
    "\n",
    "You can also use something called \"Annotated\" to add extra information that somebody else might find useful:\n",
    "\n",
    "`my_favorite_things: Annotated[List, \"these are a few of mine\"]`\n",
    "\n",
    "LangGraph needs us to use this feature when we define our State object.\n",
    "\n",
    "It wants us to tell it what function it should call to update the State with a new value.\n",
    "\n",
    "This function is called a **reducer**.\n",
    "\n",
    "LangGraph provides a default reducer called `add_messages` which takes care of the most common case.\n",
    "\n",
    "And that hopefully explains why the State looks like this.\n",
    "\n",
    "\n"
   ]
  },
  {
   "cell_type": "markdown",
   "metadata": {},
   "source": [
    "### Step 1: Define the State object\n",
    "\n",
    "You can use any python object; but it's most common to use a TypedDict or a Pydantic BaseModel."
   ]
  },
  {
   "cell_type": "code",
   "execution_count": 6,
   "metadata": {},
   "outputs": [],
   "source": [
    "# this class state is subclass of basemodel from pydantic, which is a particular type of dictionary in python \n",
    "class State(BaseModel):\n",
    "    messages: Annotated[list, add_messages]\n",
    "    # here the add_messages are reducers that are used for indicating to langgraph what is a thing for\n",
    "    # add_messages is imported from langgraph.graph.messages\n",
    "    # ad_messages is an anotation where we can define reducers, reducer is where we define the function that will be called inorder to combine one state with another \n"
   ]
  },
  {
   "cell_type": "markdown",
   "metadata": {},
   "source": [
    "### Step 2: Start the Graph Builder with this State class"
   ]
  },
  {
   "cell_type": "code",
   "execution_count": null,
   "metadata": {},
   "outputs": [],
   "source": [
    "graph_builder = StateGraph(State)\n",
    "# here state is not an object, but a class, type of thing that we call our state"
   ]
  },
  {
   "cell_type": "markdown",
   "metadata": {},
   "source": [
    "### Step 3: Create a Node\n",
    "\n",
    "A node can be any python function.\n",
    "\n",
    "The reducer that we set before gets automatically called to combine this response with previous responses\n"
   ]
  },
  {
   "cell_type": "code",
   "execution_count": null,
   "metadata": {},
   "outputs": [],
   "source": [
    "def our_first_node(old_state: State) -> State:\n",
    "\n",
    "    reply = f\"{random.choice(nouns)} are {random.choice(adjectives)}\"\n",
    "    messages = [{\"role\": \"assistant\", \"content\": reply}]\n",
    "\n",
    "    new_state = State(messages=messages)\n",
    "\n",
    "    return new_state\n",
    "\n",
    "graph_builder.add_node(\"first_node\", our_first_node)"
   ]
  },
  {
   "cell_type": "markdown",
   "metadata": {},
   "source": [
    "### Step 4: Create Edges"
   ]
  },
  {
   "cell_type": "code",
   "execution_count": null,
   "metadata": {},
   "outputs": [],
   "source": [
    "graph_builder.add_edge(START, \"first_node\")\n",
    "graph_builder.add_edge(\"first_node\", END)"
   ]
  },
  {
   "cell_type": "markdown",
   "metadata": {},
   "source": [
    "### Step 5: Compile the Graph"
   ]
  },
  {
   "cell_type": "code",
   "execution_count": null,
   "metadata": {},
   "outputs": [],
   "source": [
    "graph = graph_builder.compile()"
   ]
  },
  {
   "cell_type": "code",
   "execution_count": null,
   "metadata": {},
   "outputs": [],
   "source": [
    "display(Image(graph.get_graph().draw_mermaid_png()))"
   ]
  },
  {
   "cell_type": "markdown",
   "metadata": {},
   "source": [
    "### That's it! Showtime!"
   ]
  },
  {
   "cell_type": "code",
   "execution_count": null,
   "metadata": {},
   "outputs": [],
   "source": [
    "def chat(user_input: str, history):\n",
    "    message = {\"role\": \"user\", \"content\": user_input}\n",
    "    messages = [message]\n",
    "    state = State(messages=messages)\n",
    "    result = graph.invoke(state)\n",
    "    print(result)\n",
    "    return result[\"messages\"][-1].content\n",
    "\n",
    "\n",
    "gr.ChatInterface(chat, type=\"messages\").launch()"
   ]
  },
  {
   "cell_type": "markdown",
   "metadata": {},
   "source": [
    "### But why did I show you that?\n",
    "\n",
    "To make the point that LangGraph is all about python functions - it doesn't need to involve LLMs!!\n",
    "\n",
    "Now we'll do the 5 steps again, but in 1 shot:"
   ]
  },
  {
   "cell_type": "code",
   "execution_count": null,
   "metadata": {},
   "outputs": [],
   "source": [
    "# Step 1: Define the State object\n",
    "class State(BaseModel):\n",
    "    messages: Annotated[list, add_messages]\n"
   ]
  },
  {
   "cell_type": "code",
   "execution_count": null,
   "metadata": {},
   "outputs": [],
   "source": [
    "# Step 2: Start the Graph Builder with this State class\n",
    "graph_builder = StateGraph(State)\n"
   ]
  },
  {
   "cell_type": "code",
   "execution_count": null,
   "metadata": {},
   "outputs": [],
   "source": [
    "google_api_key = os.getenv('GOOGLE_API_KEY')\n",
    "GEMINI_BASE_URL = \"https://generativelanguage.googleapis.com/v1beta/openai/\"\n",
    "gemini_client = AsyncOpenAI(base_url=GEMINI_BASE_URL, api_key=google_api_key)\n",
    "gemini_model = OpenAIChatCompletionsModel(model=\"gemini-2.0-flash\", openai_client=gemini_client)\n",
    "\n",
    "llm = ChatOpenAI(model=gemini_model)"
   ]
  },
  {
   "cell_type": "code",
   "execution_count": null,
   "metadata": {},
   "outputs": [],
   "source": [
    "# Step 3: Create a Node\n",
    "\n",
    "# llm = ChatOpenAI(model=\"gpt-4o-mini\")\n",
    "\n",
    "def chatbot_node(old_state: State) -> State:\n",
    "    response = llm.invoke(old_state.messages)\n",
    "    new_state = State(messages=[response])\n",
    "    return new_state\n",
    "\n",
    "graph_builder.add_node(\"chatbot\", chatbot_node)"
   ]
  },
  {
   "cell_type": "code",
   "execution_count": null,
   "metadata": {},
   "outputs": [],
   "source": [
    "# Step 4: Create Edges\n",
    "graph_builder.add_edge(START, \"chatbot\")\n",
    "graph_builder.add_edge(\"chatbot\", END)"
   ]
  },
  {
   "cell_type": "code",
   "execution_count": null,
   "metadata": {},
   "outputs": [],
   "source": [
    "# Step 5: Compile the Graph\n",
    "graph = graph_builder.compile()\n",
    "display(Image(graph.get_graph().draw_mermaid_png()))"
   ]
  },
  {
   "cell_type": "markdown",
   "metadata": {},
   "source": [
    "### That's it! And, let's do this:"
   ]
  },
  {
   "cell_type": "code",
   "execution_count": null,
   "metadata": {},
   "outputs": [],
   "source": [
    "def chat(user_input: str, history):\n",
    "    initial_state = State(messages=[{\"role\": \"user\", \"content\": user_input}])\n",
    "    result = graph.invoke(initial_state)\n",
    "    print(result)\n",
    "    return result['messages'][-1].content\n",
    "\n",
    "\n",
    "gr.ChatInterface(chat, type=\"messages\").launch()"
   ]
  },
  {
   "cell_type": "code",
   "execution_count": null,
   "metadata": {},
   "outputs": [],
   "source": []
  },
  {
   "cell_type": "code",
   "execution_count": null,
   "metadata": {},
   "outputs": [
    {
     "data": {
      "image/png": "[encoded data removed]",
      "text/plain": [
       "<IPython.core.display.Image object>"
      ]
     },
     "metadata": {},
     "output_type": "display_data"
    },
    {
     "name": "stdout",
     "output_type": "stream",
     "text": [
      "* Running on local URL:  http://127.0.0.1:7878\n",
      "* To create a public link, set `share=True` in `launch()`.\n"
     ]
    },
    {
     "data": {
      "text/html": [
       "<div><iframe src=\"http://127.0.0.1:7878/\" width=\"100%\" height=\"500\" allow=\"autoplay; camera; microphone; clipboard-read; clipboard-write;\" frameborder=\"0\" allowfullscreen></iframe></div>"
      ],
      "text/plain": [
       "<IPython.core.display.HTML object>"
      ]
     },
     "metadata": {},
     "output_type": "display_data"
    },
    {
     "data": {
      "text/plain": []
     },
     "execution_count": 1,
     "metadata": {},
     "output_type": "execute_result"
    },
    {
     "name": "stdout",
     "output_type": "stream",
     "text": [
      "{'messages': [HumanMessage(content='2+2', additional_kwargs={}, response_metadata={}, id='e8c06668-363e-484e-a743-1b449973601a'), AIMessage(content='2 + 2 = 4', additional_kwargs={}, response_metadata={'prompt_feedback': {'block_reason': 0, 'safety_ratings': []}, 'finish_reason': 'STOP', 'model_name': 'gemini-2.0-flash', 'safety_ratings': []}, id='run--5ed598f9-f932-47a1-8c8d-ba987fed6371-0', usage_metadata={'input_tokens': 3, 'output_tokens': 8, 'total_tokens': 11, 'input_token_details': {'cache_read': 0}})]}\n",
      "{'messages': [HumanMessage(content='2+2', additional_kwargs={'metadata': None, 'options': None}, response_metadata={}, id='1e779c97-74bd-4d05-9cc4-265ee3a1764a'), AIMessage(content='2 + 2 = 4', additional_kwargs={'metadata': None, 'options': None}, response_metadata={}, id='877ac702-2a5e-41a5-a711-17b24b10749f'), HumanMessage(content='2+', additional_kwargs={}, response_metadata={}, id='7fd87607-4195-45bb-8fa0-2a04d725bbf4'), AIMessage(content='2 + what?  I need another number or an expression to give you an answer.', additional_kwargs={}, response_metadata={'prompt_feedback': {'block_reason': 0, 'safety_ratings': []}, 'finish_reason': 'STOP', 'model_name': 'gemini-2.0-flash', 'safety_ratings': []}, id='run--de5ee913-36f4-4e5e-9748-dba042c135f8-0', usage_metadata={'input_tokens': 12, 'output_tokens': 19, 'total_tokens': 31, 'input_token_details': {'cache_read': 0}})]}\n",
      "{'messages': [AIMessage(content='2 + 2 = 4', additional_kwargs={'metadata': None, 'options': None}, response_metadata={}, id='d0fef326-3162-4161-a5ab-7301f4efaac4'), HumanMessage(content='2+', additional_kwargs={'metadata': None, 'options': None}, response_metadata={}, id='3c281b58-2685-4411-94f3-f62d44bd5200'), AIMessage(content='2 + what?  I need another number or an expression to give you an answer.', additional_kwargs={'metadata': None, 'options': None}, response_metadata={}, id='8bbff2b5-c548-4215-a69b-e7490a9c5002'), HumanMessage(content='2+3', additional_kwargs={}, response_metadata={}, id='e79b044a-350a-489c-9a89-a0e1bcd1be58'), AIMessage(content='2 + 3 = 5', additional_kwargs={}, response_metadata={'prompt_feedback': {'block_reason': 0, 'safety_ratings': []}, 'finish_reason': 'STOP', 'model_name': 'gemini-2.0-flash', 'safety_ratings': []}, id='run--5ea4b174-6cfc-4262-ba7b-c6f8d15bb7ee-0', usage_metadata={'input_tokens': 30, 'output_tokens': 8, 'total_tokens': 38, 'input_token_details': {'cache_read': 0}})]}\n",
      "{'messages': [AIMessage(content='2 + what?  I need another number or an expression to give you an answer.', additional_kwargs={'metadata': None, 'options': None}, response_metadata={}, id='b2f728be-4ed6-445c-bf04-9c19f306f260'), HumanMessage(content='2+3', additional_kwargs={'metadata': None, 'options': None}, response_metadata={}, id='65e565b0-c2c2-4be4-b20c-ec2f9f8598a5'), AIMessage(content='2 + 3 = 5', additional_kwargs={'metadata': None, 'options': None}, response_metadata={}, id='de9c75dd-b96a-42f6-a26c-ac0791d1fa03'), HumanMessage(content='3+5', additional_kwargs={}, response_metadata={}, id='69829283-0a1a-4a74-a36b-870ac576825a'), AIMessage(content='3 + 5 = 8', additional_kwargs={}, response_metadata={'prompt_feedback': {'block_reason': 0, 'safety_ratings': []}, 'finish_reason': 'STOP', 'model_name': 'gemini-2.0-flash', 'safety_ratings': []}, id='run--96221f4b-ff46-4251-a55b-3ff9d43fc62c-0', usage_metadata={'input_tokens': 31, 'output_tokens': 8, 'total_tokens': 39, 'input_token_details': {'cache_read': 0}})]}\n",
      "{'messages': [AIMessage(content='2 + 3 = 5', additional_kwargs={'metadata': None, 'options': None}, response_metadata={}, id='95e2efa0-f60d-4547-8c0e-f2c2f32ddf2d'), HumanMessage(content='3+5', additional_kwargs={'metadata': None, 'options': None}, response_metadata={}, id='99ad26f3-5979-4884-9161-85223a53e5a3'), AIMessage(content='3 + 5 = 8', additional_kwargs={'metadata': None, 'options': None}, response_metadata={}, id='910ad335-fca2-43f5-8935-3ad87292e68c'), HumanMessage(content='3+5\\n\\n', additional_kwargs={}, response_metadata={}, id='094b3277-9bc4-4743-9d07-15de908feeb1'), AIMessage(content='3 + 5 = 8', additional_kwargs={}, response_metadata={'prompt_feedback': {'block_reason': 0, 'safety_ratings': []}, 'finish_reason': 'STOP', 'model_name': 'gemini-2.0-flash', 'safety_ratings': []}, id='run--9944bdf7-f91f-4724-86ad-5207c2cf8908-0', usage_metadata={'input_tokens': 21, 'output_tokens': 8, 'total_tokens': 29, 'input_token_details': {'cache_read': 0}})]}\n",
      "{'messages': [AIMessage(content='3 + 5 = 8', additional_kwargs={'metadata': None, 'options': None}, response_metadata={}, id='b24009af-fc04-42b5-afa9-bb5b41b11c91'), HumanMessage(content='3+5', additional_kwargs={'metadata': None, 'options': None}, response_metadata={}, id='4e679cbf-1796-44eb-ba80-b6e02528cc86'), AIMessage(content='3 + 5 = 8', additional_kwargs={'metadata': None, 'options': None}, response_metadata={}, id='3da8d6d5-b37b-460a-bc7f-04318be7b48b'), HumanMessage(content='3+5\\n\\n', additional_kwargs={}, response_metadata={}, id='212fbe2e-0cba-4166-ad20-975905a0de48'), AIMessage(content='8', additional_kwargs={}, response_metadata={'prompt_feedback': {'block_reason': 0, 'safety_ratings': []}, 'finish_reason': 'STOP', 'model_name': 'gemini-2.0-flash', 'safety_ratings': []}, id='run--89ab45da-e120-483a-acf2-c7e2b0166334-0', usage_metadata={'input_tokens': 21, 'output_tokens': 2, 'total_tokens': 23, 'input_token_details': {'cache_read': 0}})]}\n",
      "{'messages': [AIMessage(content='3 + 5 = 8', additional_kwargs={'metadata': None, 'options': None}, response_metadata={}, id='63286e12-f14d-4148-87d3-8561e1bffbbe'), HumanMessage(content='3+5', additional_kwargs={'metadata': None, 'options': None}, response_metadata={}, id='ff000641-2938-4869-91d7-46cd6fb31025'), AIMessage(content='8', additional_kwargs={'metadata': None, 'options': None}, response_metadata={}, id='f3b628ba-ca79-4e92-96f2-010cc97797eb'), HumanMessage(content='3+5\\n\\n', additional_kwargs={}, response_metadata={}, id='7ffe653e-42d5-429b-bddf-b374617f7101'), AIMessage(content='8', additional_kwargs={}, response_metadata={'prompt_feedback': {'block_reason': 0, 'safety_ratings': []}, 'finish_reason': 'STOP', 'model_name': 'gemini-2.0-flash', 'safety_ratings': []}, id='run--f0a63565-19e3-4af7-b9a4-b57f55e6895a-0', usage_metadata={'input_tokens': 15, 'output_tokens': 2, 'total_tokens': 17, 'input_token_details': {'cache_read': 0}})]}\n",
      "{'messages': [AIMessage(content='8', additional_kwargs={'metadata': None, 'options': None}, response_metadata={}, id='323d5fd5-7da5-45ce-9c94-e350dbc84a0c'), HumanMessage(content='3+5', additional_kwargs={'metadata': None, 'options': None}, response_metadata={}, id='53bd9e53-b5d3-4ee7-ab74-8cb85f31e679'), AIMessage(content='8', additional_kwargs={'metadata': None, 'options': None}, response_metadata={}, id='ca2247c7-377f-4d1e-8516-5a668c3b58aa'), HumanMessage(content='3+5\\n\\n', additional_kwargs={}, response_metadata={}, id='7c8eeec1-9f5a-47c3-89d4-8ecf263ecebc'), AIMessage(content='3 + 5 = 8', additional_kwargs={}, response_metadata={'prompt_feedback': {'block_reason': 0, 'safety_ratings': []}, 'finish_reason': 'STOP', 'model_name': 'gemini-2.0-flash', 'safety_ratings': []}, id='run--906c9d79-fea8-447b-a810-28d4eb27d8be-0', usage_metadata={'input_tokens': 9, 'output_tokens': 8, 'total_tokens': 17, 'input_token_details': {'cache_read': 0}})]}\n",
      "{'messages': [AIMessage(content='8', additional_kwargs={'metadata': None, 'options': None}, response_metadata={}, id='e1aed00c-6090-42dc-9ed3-c47656b9c543'), HumanMessage(content='3+5', additional_kwargs={'metadata': None, 'options': None}, response_metadata={}, id='49aa736d-da8e-471d-8bbb-783d2d0b3e75'), AIMessage(content='3 + 5 = 8', additional_kwargs={'metadata': None, 'options': None}, response_metadata={}, id='14241970-2872-406e-b42c-47909b4c1df3'), HumanMessage(content='3+5\\n\\n', additional_kwargs={}, response_metadata={}, id='8234b82b-f69d-4957-a2eb-b86d6518d006'), AIMessage(content='3 + 5 = 8', additional_kwargs={}, response_metadata={'prompt_feedback': {'block_reason': 0, 'safety_ratings': []}, 'finish_reason': 'STOP', 'model_name': 'gemini-2.0-flash', 'safety_ratings': []}, id='run--53abe1da-cebd-4fd2-8da7-cf523137d671-0', usage_metadata={'input_tokens': 15, 'output_tokens': 8, 'total_tokens': 23, 'input_token_details': {'cache_read': 0}})]}\n",
      "{'messages': [AIMessage(content='3 + 5 = 8', additional_kwargs={'metadata': None, 'options': None}, response_metadata={}, id='6c24a5ee-00ee-46a4-9128-2a27edbf57ab'), HumanMessage(content='3+5', additional_kwargs={'metadata': None, 'options': None}, response_metadata={}, id='7a10cfe1-34c0-4ac1-9d2a-e9384aa1aaab'), AIMessage(content='3 + 5 = 8', additional_kwargs={'metadata': None, 'options': None}, response_metadata={}, id='042acfd7-ec5d-4520-abbe-0a425bf9ad27'), HumanMessage(content='3+5\\n\\n', additional_kwargs={}, response_metadata={}, id='85772b39-9e0c-48ba-aba9-c98dc644d691'), AIMessage(content='3 + 5 = 8', additional_kwargs={}, response_metadata={'prompt_feedback': {'block_reason': 0, 'safety_ratings': []}, 'finish_reason': 'STOP', 'model_name': 'gemini-2.0-flash', 'safety_ratings': []}, id='run--694babe5-620e-44f5-ad08-e3bf639c7fe1-0', usage_metadata={'input_tokens': 21, 'output_tokens': 8, 'total_tokens': 29, 'input_token_details': {'cache_read': 0}})]}\n",
      "{'messages': [AIMessage(content='3 + 5 = 8', additional_kwargs={'metadata': None, 'options': None}, response_metadata={}, id='12695fca-dea1-4a83-a2ad-c0993be5a093'), HumanMessage(content='3+5', additional_kwargs={'metadata': None, 'options': None}, response_metadata={}, id='ccd74074-1d1d-4da3-afd3-5d3ab1253354'), AIMessage(content='3 + 5 = 8', additional_kwargs={'metadata': None, 'options': None}, response_metadata={}, id='438011ca-3298-49f6-9a93-4bad6448eefa'), HumanMessage(content='3+5\\n\\n', additional_kwargs={}, response_metadata={}, id='4143218d-397b-4254-8465-e597f978d964'), AIMessage(content='8', additional_kwargs={}, response_metadata={'prompt_feedback': {'block_reason': 0, 'safety_ratings': []}, 'finish_reason': 'STOP', 'model_name': 'gemini-2.0-flash', 'safety_ratings': []}, id='run--09f658d8-12bb-429b-89fe-e54b30df4a85-0', usage_metadata={'input_tokens': 21, 'output_tokens': 2, 'total_tokens': 23, 'input_token_details': {'cache_read': 0}})]}\n",
      "{'messages': [AIMessage(content='3 + 5 = 8', additional_kwargs={'metadata': None, 'options': None}, response_metadata={}, id='71fb7e64-32af-47e1-9193-1859bdb4f2f7'), HumanMessage(content='3+5', additional_kwargs={'metadata': None, 'options': None}, response_metadata={}, id='b912ff4f-47f8-44dc-ba9f-1e90e8c680ba'), AIMessage(content='8', additional_kwargs={'metadata': None, 'options': None}, response_metadata={}, id='1a2f02a4-d218-4786-aa2c-f13ceae32231'), HumanMessage(content='3+5\\n\\n', additional_kwargs={}, response_metadata={}, id='754d244b-c864-42b9-9fa2-d2648c8e8c78'), AIMessage(content='8', additional_kwargs={}, response_metadata={'prompt_feedback': {'block_reason': 0, 'safety_ratings': []}, 'finish_reason': 'STOP', 'model_name': 'gemini-2.0-flash', 'safety_ratings': []}, id='run--4d0b03d8-7906-4023-99bd-bc94ed0d54ad-0', usage_metadata={'input_tokens': 15, 'output_tokens': 2, 'total_tokens': 17, 'input_token_details': {'cache_read': 0}})]}\n"
     ]
    }
   ],
   "source": [
    "from typing import Annotated\n",
    "import os\n",
    "from pydantic import BaseModel\n",
    "from IPython.display import display, Image\n",
    "from dotenv import load_dotenv\n",
    "from langgraph.graph import StateGraph, START, END\n",
    "from langgraph.graph.message import add_messages\n",
    "import gradio as gr\n",
    "from langchain_google_genai import ChatGoogleGenerativeAI\n",
    "\n",
    "load_dotenv(override=True)\n",
    "google_api_key = os.getenv('GOOGLE_API_KEY')\n",
    "\n",
    "class State(BaseModel):\n",
    "    messages: Annotated[list, add_messages]\n",
    "\n",
    "graph_builder = StateGraph(State)\n",
    "\n",
    "llm = ChatGoogleGenerativeAI(model=\"gemini-2.0-flash\", google_api_key=google_api_key)\n",
    "\n",
    "def chatbot_node(old_state: State) -> State:\n",
    "    # Invoke the LLM with the current messages\n",
    "    # sends [HumanMessage(content=\"hi\")] to the Gemini model.\n",
    "    reply = llm.invoke(old_state.messages)  # Returns AIMessage\n",
    "    \n",
    "    # Append the reply to the existing messages using add_messages\n",
    "    new_messages = old_state.messages + [reply]\n",
    "    \n",
    "    # here, add_messages ensures the HumanMessage and AIMessage are appended correctly.\n",
    "    # this returns dictionary containing \"messages\" array\n",
    "    new_state = State(messages=new_messages)\n",
    "    return new_state\n",
    "\n",
    "# Add the node and edges\n",
    "graph_builder.add_node(\"chatbot\", chatbot_node)\n",
    "graph_builder.add_edge(START, \"chatbot\")\n",
    "graph_builder.add_edge(\"chatbot\", END)\n",
    "\n",
    "# Compile the graph\n",
    "graph = graph_builder.compile()\n",
    "\n",
    "# Visualize the graph\n",
    "display(Image(graph.get_graph().draw_mermaid_png()))\n",
    "\n",
    "# Define the chat function to handle Gradio input and history\n",
    "def chat(user_input: str, history: list):\n",
    "    # Use history directly; if empty, include the user_input\n",
    "    messages = history or [{\"role\": \"user\", \"content\": user_input}]\n",
    "    \n",
    "    # If history is not empty, ensure the last user input isn't duplicated\n",
    "    if history and history[-1][\"role\"] == \"user\" and history[-1][\"content\"] == user_input:\n",
    "        messages = history\n",
    "    else:\n",
    "        messages = history + [{\"role\": \"user\", \"content\": user_input}]\n",
    "    messages = messages[-4:]\n",
    "    # Create the State object\n",
    "    # the State class processes the message using add_messages\n",
    "    # add_message converts the dictionary messages to a HumanMessage object\n",
    "    state = State(messages=messages)\n",
    "\n",
    "    # Invoke the graph\n",
    "    # this graph will run the chatbot_node\n",
    "    result = graph.invoke(state)\n",
    "    print(result)\n",
    "    # Return the latest assistant message for Gradio\n",
    "    return result['messages'][-1].content\n",
    "\n",
    "# Launch the Gradio interface\n",
    "gr.ChatInterface(chat, type=\"messages\").launch()\n",
    "\n",
    "\n",
    "\n",
    "\n",
    "#--------------------------\n",
    "# add_message is invoked when State object is created (State(messages=messages)) or updated (new_state = State(messages=new_messages))\n",
    "# add_message functionality:\n",
    "#    converts the input dictionaries to HumanMessage objects\n",
    "#    appends the AIMessage objects from LLM to the messages list\n",
    "#    it ensures the list maintains the order, (user → assistant → user → assistant)\n",
    "#--------------------------"
   ]
  }
 ],
 "metadata": {
  "kernelspec": {
   "display_name": "agents",
   "language": "python",
   "name": "python3"
  },
  "language_info": {
   "codemirror_mode": {
    "name": "ipython",
    "version": 3
   },
   "file_extension": ".py",
   "mimetype": "text/x-python",
   "name": "python",
   "nbconvert_exporter": "python",
   "pygments_lexer": "ipython3",
   "version": "3.12.9"
  }
 },
 "nbformat": 4,
 "nbformat_minor": 2
}
